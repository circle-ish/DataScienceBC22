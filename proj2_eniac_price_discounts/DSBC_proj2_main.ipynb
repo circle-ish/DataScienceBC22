{
 "cells": [
  {
   "cell_type": "markdown",
   "metadata": {
    "id": "2eTtmK0I2tqM"
   },
   "source": [
    "# The Question"
   ]
  },
  {
   "cell_type": "markdown",
   "metadata": {
    "id": "O2keD_b7KiJC"
   },
   "source": [
    "- main questions: \n",
    "    - whether or not it’s beneficial to discount products?\n",
    "    - how to define a pricing strategy in relation to discounts?\n",
    "    \n",
    "- detailled questions: \n",
    "    - How products should be classified into different categories in order to simplify reports and analysis.\n",
    "    - What is the distribution of product prices across different categories.\n",
    "    - How many products are being discounted.\n",
    "    - How big are the offered discounts as a percentage of the product prices.\n",
    "    - How seasonality and special dates (Christmas, Black Friday) affect sales.\n",
    "    - How could data collection be improved.\n",
    "    - A critical question, hence, is whether revenue grows whenever discounts increase.\n",
    "\n",
    "- also:\n",
    "    - How many orders are there?\n",
    "    - How many products are there?\n",
    "    - What period of time do these orders comprise?\n",
    "    - How many orders are Completed?\n",
    "    - How should revenue be computed?\n",
    "    - What is the overall revenue for that time?\n",
    "    - Are there seasonal patterns in the evolution of sales?\n",
    "    - What are the most sold products?\n",
    "    - What are the products that generate the most revenue?\n"
   ]
  },
  {
   "cell_type": "markdown",
   "metadata": {
    "id": "sfh5KnBaKopT"
   },
   "source": [
    "## Data columns explained"
   ]
  },
  {
   "cell_type": "markdown",
   "metadata": {
    "id": "_ZIH9tVT4_EG",
    "jupyter": {
     "source_hidden": true
    }
   },
   "source": [
    "    orders.csv – Every row in this file represents an order.\n",
    "        order_id – a unique identifier for each order\n",
    "        created_date – a timestamp for when the order was created\n",
    "        total_paid – the total amount paid by the customer for \n",
    "        this order, in euros\n",
    "        state \n",
    "            “Shopping basket” – products have been placed to the \n",
    "                shopping basket, but the order has not been processed yet.\n",
    "            “Pending” – the shopping basket has been processed, \n",
    "                but payment confirmation is pending.\n",
    "            “Completed” – the order has been placed and payed, the \n",
    "                transaction is completed.\n",
    "            “Cancelled” – the order has been cancelled and the \n",
    "                payment returned to the customer.\n",
    "    orderlines.csv – Every row represents each one of the different products involved in an order.\n",
    "        id – a unique identifier for each row in this file\n",
    "        id_order – corresponds to orders.order_id\n",
    "        product_id – an old identifier for each product, nowadays \n",
    "        not in use\n",
    "        product_quantity – how many units of that products were \n",
    "        purchased on that order\n",
    "        sku – stock keeping unit: a unique identifier for each \n",
    "        product\n",
    "        unit_price – the unitary price (in euros) of each product \n",
    "        at the moment of placing that order\n",
    "        date – timestamp for the processing of that product\n",
    "    products.csv\n",
    "        sku – stock keeping unit: a unique identifier for each product\n",
    "        name – product name\n",
    "        desc – product description\n",
    "        in_stock – whether or not the product was in stock at the \n",
    "        moment of the data extraction\n",
    "        type – a numerical code for product type\n",
    "    brands.csv\n",
    "        short – the 3 character code by which the brand can be \n",
    "        identified in the first 3 characters of products.sku\n",
    "        long – brand name\n",
    "\n",
    "\n",
    "  \n",
    "    products.price –> this is the original price of a product, \n",
    "          without applying any discount or promotion.\n",
    "    orderlines.unit_price –> this is the actual price at which a \n",
    "          product has been sold. It should roughly match with the \n",
    "          price in the products table, but there might be \n",
    "          deviations, as discounts get applied here.\n",
    "    orders.total_paid –> this is the total amount of the full \n",
    "          order. It should roughly translate to the sum of all \n",
    "          unitary prices, multiplied by the amount of each product\n",
    "           purchased (orderlines.product_quantity). The key word \n",
    "           here is, again, roughly: the total amount of the order \n",
    "           might include shipping costs or vouchers.\n",
    "\n"
   ]
  },
  {
   "cell_type": "markdown",
   "metadata": {},
   "source": [
    "## Load and Clean \n"
   ]
  },
  {
   "cell_type": "code",
   "execution_count": 1,
   "metadata": {
    "id": "jHwzu3by5VZ0",
    "jupyter": {
     "source_hidden": true
    }
   },
   "outputs": [],
   "source": [
    "#data\n",
    "def load_raw_data():\n",
    "    import pandas as pd\n",
    "\n",
    "    brands_url = 'https://drive.google.com/file/d/1m1ThDDIYRTTii-rqM5SEQjJ8McidJskD/view?usp=sharing' #brands.csv\n",
    "    orderlines_url = 'https://drive.google.com/file/d/1FYhN_2AzTBFuWcfHaRuKcuCE6CWXsWtG/view?usp=sharing' #orderlines.csv\n",
    "    orders_url = 'https://drive.google.com/file/d/1Vu0q91qZw6lqhIqbjoXYvYAQTmVHh6uZ/view?usp=sharing' #orders.csv\n",
    "    products_url = 'https://drive.google.com/file/d/1afxwDXfl-7cQ_qLwyDitfcCx3u7WMvkU/view?usp=sharing' # products.csv\n",
    "\n",
    "    edb = {'brands': brands_url,              # eniac_database\n",
    "                'orderlines': orderlines_url, \n",
    "                'orders': orders_url, \n",
    "                'products': products_url}\n",
    "\n",
    "    def url_to_df(url):\n",
    "      path = 'https://drive.google.com/uc?export=download&id='+url.split('/')[-2]\n",
    "      return pd.read_csv(path)\n",
    "\n",
    "    #load data\n",
    "    for k,v in edb.items():\n",
    "      edb[k] = url_to_df(v)\n",
    "    \n",
    "    return edb\n",
    "\n",
    "def load_clean_data():\n",
    "    pass"
   ]
  },
  {
   "cell_type": "code",
   "execution_count": 2,
   "metadata": {},
   "outputs": [
    {
     "name": "stdout",
     "output_type": "stream",
     "text": [
      "Requirement already satisfied: nbimporter in c:\\users\\circl\\anaconda3\\lib\\site-packages (0.3.4)\n",
      "Note: you may need to restart the kernel to use updated packages.\n"
     ]
    },
    {
     "name": "stderr",
     "output_type": "stream",
     "text": [
      "Das System kann den angegebenen Pfad nicht finden.\n"
     ]
    }
   ],
   "source": [
    "# installs notebook importer and imports it\n",
    "# is needed to import functions from other notebooks\n",
    "%pip install nbimporter\n",
    "import nbimporter"
   ]
  },
  {
   "cell_type": "code",
   "execution_count": 7,
   "metadata": {},
   "outputs": [],
   "source": [
    "def load_clean_data(path = './data/'):\n",
    "    import pandas as pd\n",
    "    \n",
    "    brands = pd.read_csv(path + 'brands_cl.csv')\n",
    "    products = pd.read_csv(path + 'products_cl.csv')\n",
    "    orders = pd.read_csv(path + 'orders_cl.csv')\n",
    "    orderlines = pd.read_csv(path + 'orderlines_cl.csv')\n",
    "    return {'products': products,\n",
    "                   'orders': orders,\n",
    "                   'orderlines': orderlines, \n",
    "                   'brands': brands}\n",
    "\n",
    "ebd = load_clean_data() #eniac data base"
   ]
  },
  {
   "cell_type": "markdown",
   "metadata": {},
   "source": [
    "# Business Questions"
   ]
  },
  {
   "cell_type": "markdown",
   "metadata": {},
   "source": [
    "## Product Categories"
   ]
  },
  {
   "cell_type": "code",
   "execution_count": 11,
   "metadata": {},
   "outputs": [
    {
     "ename": "KeyError",
     "evalue": "\"['max_price_orderlines'] not found in axis\"",
     "output_type": "error",
     "traceback": [
      "\u001b[1;31m---------------------------------------------------------------------------\u001b[0m",
      "\u001b[1;31mKeyError\u001b[0m                                  Traceback (most recent call last)",
      "\u001b[1;32m<ipython-input-11-0e16c0fe9b59>\u001b[0m in \u001b[0;36m<module>\u001b[1;34m\u001b[0m\n\u001b[0;32m      8\u001b[0m \u001b[1;31m# passing by reference allows to pass, change (i.e. clean) and return the dataframes without\u001b[0m\u001b[1;33m\u001b[0m\u001b[1;33m\u001b[0m\u001b[1;33m\u001b[0m\u001b[0m\n\u001b[0;32m      9\u001b[0m \u001b[1;31m# burdening the readability of the code by making it explicit\u001b[0m\u001b[1;33m\u001b[0m\u001b[1;33m\u001b[0m\u001b[1;33m\u001b[0m\u001b[0m\n\u001b[1;32m---> 10\u001b[1;33m \u001b[0mfurther_clean_data\u001b[0m\u001b[1;33m(\u001b[0m\u001b[0mebd\u001b[0m\u001b[1;33m)\u001b[0m\u001b[1;33m\u001b[0m\u001b[1;33m\u001b[0m\u001b[0m\n\u001b[0m\u001b[0;32m     11\u001b[0m \u001b[0mcategorise_products\u001b[0m\u001b[1;33m(\u001b[0m\u001b[0mebd\u001b[0m\u001b[1;33m)\u001b[0m\u001b[1;33m\u001b[0m\u001b[1;33m\u001b[0m\u001b[0m\n\u001b[0;32m     12\u001b[0m \u001b[1;33m\u001b[0m\u001b[0m\n",
      "\u001b[1;32mE:\\DSBC\\DataScienceBC22\\proj2_eniac_price_discounts\\src\\DSBC_proj2_data_cleaning.ipynb\u001b[0m in \u001b[0;36mfurther_clean_data\u001b[1;34m(ebd)\u001b[0m\n\u001b[0;32m      4\u001b[0m    \u001b[1;34m\"cell_type\"\u001b[0m\u001b[1;33m:\u001b[0m \u001b[1;34m\"code\"\u001b[0m\u001b[1;33m,\u001b[0m\u001b[1;33m\u001b[0m\u001b[1;33m\u001b[0m\u001b[0m\n\u001b[0;32m      5\u001b[0m    \u001b[1;34m\"execution_count\"\u001b[0m\u001b[1;33m:\u001b[0m \u001b[1;36m12\u001b[0m\u001b[1;33m,\u001b[0m\u001b[1;33m\u001b[0m\u001b[1;33m\u001b[0m\u001b[0m\n\u001b[1;32m----> 6\u001b[1;33m    \u001b[1;34m\"metadata\"\u001b[0m\u001b[1;33m:\u001b[0m \u001b[1;33m{\u001b[0m\u001b[1;33m}\u001b[0m\u001b[1;33m,\u001b[0m\u001b[1;33m\u001b[0m\u001b[1;33m\u001b[0m\u001b[0m\n\u001b[0m\u001b[0;32m      7\u001b[0m    \u001b[1;34m\"outputs\"\u001b[0m\u001b[1;33m:\u001b[0m \u001b[1;33m[\u001b[0m\u001b[1;33m]\u001b[0m\u001b[1;33m,\u001b[0m\u001b[1;33m\u001b[0m\u001b[1;33m\u001b[0m\u001b[0m\n\u001b[0;32m      8\u001b[0m    \"source\": [\n",
      "\u001b[1;32m~\\anaconda3\\lib\\site-packages\\pandas\\core\\frame.py\u001b[0m in \u001b[0;36mdrop\u001b[1;34m(self, labels, axis, index, columns, level, inplace, errors)\u001b[0m\n\u001b[0;32m   3988\u001b[0m                 \u001b[0mweight\u001b[0m  \u001b[1;36m1.0\u001b[0m     \u001b[1;36m0.8\u001b[0m\u001b[1;33m\u001b[0m\u001b[1;33m\u001b[0m\u001b[0m\n\u001b[0;32m   3989\u001b[0m         \"\"\"\n\u001b[1;32m-> 3990\u001b[1;33m         return super().drop(\n\u001b[0m\u001b[0;32m   3991\u001b[0m             \u001b[0mlabels\u001b[0m\u001b[1;33m=\u001b[0m\u001b[0mlabels\u001b[0m\u001b[1;33m,\u001b[0m\u001b[1;33m\u001b[0m\u001b[1;33m\u001b[0m\u001b[0m\n\u001b[0;32m   3992\u001b[0m             \u001b[0maxis\u001b[0m\u001b[1;33m=\u001b[0m\u001b[0maxis\u001b[0m\u001b[1;33m,\u001b[0m\u001b[1;33m\u001b[0m\u001b[1;33m\u001b[0m\u001b[0m\n",
      "\u001b[1;32m~\\anaconda3\\lib\\site-packages\\pandas\\core\\generic.py\u001b[0m in \u001b[0;36mdrop\u001b[1;34m(self, labels, axis, index, columns, level, inplace, errors)\u001b[0m\n\u001b[0;32m   3934\u001b[0m         \u001b[1;32mfor\u001b[0m \u001b[0maxis\u001b[0m\u001b[1;33m,\u001b[0m \u001b[0mlabels\u001b[0m \u001b[1;32min\u001b[0m \u001b[0maxes\u001b[0m\u001b[1;33m.\u001b[0m\u001b[0mitems\u001b[0m\u001b[1;33m(\u001b[0m\u001b[1;33m)\u001b[0m\u001b[1;33m:\u001b[0m\u001b[1;33m\u001b[0m\u001b[1;33m\u001b[0m\u001b[0m\n\u001b[0;32m   3935\u001b[0m             \u001b[1;32mif\u001b[0m \u001b[0mlabels\u001b[0m \u001b[1;32mis\u001b[0m \u001b[1;32mnot\u001b[0m \u001b[1;32mNone\u001b[0m\u001b[1;33m:\u001b[0m\u001b[1;33m\u001b[0m\u001b[1;33m\u001b[0m\u001b[0m\n\u001b[1;32m-> 3936\u001b[1;33m                 \u001b[0mobj\u001b[0m \u001b[1;33m=\u001b[0m \u001b[0mobj\u001b[0m\u001b[1;33m.\u001b[0m\u001b[0m_drop_axis\u001b[0m\u001b[1;33m(\u001b[0m\u001b[0mlabels\u001b[0m\u001b[1;33m,\u001b[0m \u001b[0maxis\u001b[0m\u001b[1;33m,\u001b[0m \u001b[0mlevel\u001b[0m\u001b[1;33m=\u001b[0m\u001b[0mlevel\u001b[0m\u001b[1;33m,\u001b[0m \u001b[0merrors\u001b[0m\u001b[1;33m=\u001b[0m\u001b[0merrors\u001b[0m\u001b[1;33m)\u001b[0m\u001b[1;33m\u001b[0m\u001b[1;33m\u001b[0m\u001b[0m\n\u001b[0m\u001b[0;32m   3937\u001b[0m \u001b[1;33m\u001b[0m\u001b[0m\n\u001b[0;32m   3938\u001b[0m         \u001b[1;32mif\u001b[0m \u001b[0minplace\u001b[0m\u001b[1;33m:\u001b[0m\u001b[1;33m\u001b[0m\u001b[1;33m\u001b[0m\u001b[0m\n",
      "\u001b[1;32m~\\anaconda3\\lib\\site-packages\\pandas\\core\\generic.py\u001b[0m in \u001b[0;36m_drop_axis\u001b[1;34m(self, labels, axis, level, errors)\u001b[0m\n\u001b[0;32m   3968\u001b[0m                 \u001b[0mnew_axis\u001b[0m \u001b[1;33m=\u001b[0m \u001b[0maxis\u001b[0m\u001b[1;33m.\u001b[0m\u001b[0mdrop\u001b[0m\u001b[1;33m(\u001b[0m\u001b[0mlabels\u001b[0m\u001b[1;33m,\u001b[0m \u001b[0mlevel\u001b[0m\u001b[1;33m=\u001b[0m\u001b[0mlevel\u001b[0m\u001b[1;33m,\u001b[0m \u001b[0merrors\u001b[0m\u001b[1;33m=\u001b[0m\u001b[0merrors\u001b[0m\u001b[1;33m)\u001b[0m\u001b[1;33m\u001b[0m\u001b[1;33m\u001b[0m\u001b[0m\n\u001b[0;32m   3969\u001b[0m             \u001b[1;32melse\u001b[0m\u001b[1;33m:\u001b[0m\u001b[1;33m\u001b[0m\u001b[1;33m\u001b[0m\u001b[0m\n\u001b[1;32m-> 3970\u001b[1;33m                 \u001b[0mnew_axis\u001b[0m \u001b[1;33m=\u001b[0m \u001b[0maxis\u001b[0m\u001b[1;33m.\u001b[0m\u001b[0mdrop\u001b[0m\u001b[1;33m(\u001b[0m\u001b[0mlabels\u001b[0m\u001b[1;33m,\u001b[0m \u001b[0merrors\u001b[0m\u001b[1;33m=\u001b[0m\u001b[0merrors\u001b[0m\u001b[1;33m)\u001b[0m\u001b[1;33m\u001b[0m\u001b[1;33m\u001b[0m\u001b[0m\n\u001b[0m\u001b[0;32m   3971\u001b[0m             \u001b[0mresult\u001b[0m \u001b[1;33m=\u001b[0m \u001b[0mself\u001b[0m\u001b[1;33m.\u001b[0m\u001b[0mreindex\u001b[0m\u001b[1;33m(\u001b[0m\u001b[1;33m**\u001b[0m\u001b[1;33m{\u001b[0m\u001b[0maxis_name\u001b[0m\u001b[1;33m:\u001b[0m \u001b[0mnew_axis\u001b[0m\u001b[1;33m}\u001b[0m\u001b[1;33m)\u001b[0m\u001b[1;33m\u001b[0m\u001b[1;33m\u001b[0m\u001b[0m\n\u001b[0;32m   3972\u001b[0m \u001b[1;33m\u001b[0m\u001b[0m\n",
      "\u001b[1;32m~\\anaconda3\\lib\\site-packages\\pandas\\core\\indexes\\base.py\u001b[0m in \u001b[0;36mdrop\u001b[1;34m(self, labels, errors)\u001b[0m\n\u001b[0;32m   5016\u001b[0m         \u001b[1;32mif\u001b[0m \u001b[0mmask\u001b[0m\u001b[1;33m.\u001b[0m\u001b[0many\u001b[0m\u001b[1;33m(\u001b[0m\u001b[1;33m)\u001b[0m\u001b[1;33m:\u001b[0m\u001b[1;33m\u001b[0m\u001b[1;33m\u001b[0m\u001b[0m\n\u001b[0;32m   5017\u001b[0m             \u001b[1;32mif\u001b[0m \u001b[0merrors\u001b[0m \u001b[1;33m!=\u001b[0m \u001b[1;34m\"ignore\"\u001b[0m\u001b[1;33m:\u001b[0m\u001b[1;33m\u001b[0m\u001b[1;33m\u001b[0m\u001b[0m\n\u001b[1;32m-> 5018\u001b[1;33m                 \u001b[1;32mraise\u001b[0m \u001b[0mKeyError\u001b[0m\u001b[1;33m(\u001b[0m\u001b[1;34mf\"{labels[mask]} not found in axis\"\u001b[0m\u001b[1;33m)\u001b[0m\u001b[1;33m\u001b[0m\u001b[1;33m\u001b[0m\u001b[0m\n\u001b[0m\u001b[0;32m   5019\u001b[0m             \u001b[0mindexer\u001b[0m \u001b[1;33m=\u001b[0m \u001b[0mindexer\u001b[0m\u001b[1;33m[\u001b[0m\u001b[1;33m~\u001b[0m\u001b[0mmask\u001b[0m\u001b[1;33m]\u001b[0m\u001b[1;33m\u001b[0m\u001b[1;33m\u001b[0m\u001b[0m\n\u001b[0;32m   5020\u001b[0m         \u001b[1;32mreturn\u001b[0m \u001b[0mself\u001b[0m\u001b[1;33m.\u001b[0m\u001b[0mdelete\u001b[0m\u001b[1;33m(\u001b[0m\u001b[0mindexer\u001b[0m\u001b[1;33m)\u001b[0m\u001b[1;33m\u001b[0m\u001b[1;33m\u001b[0m\u001b[0m\n",
      "\u001b[1;31mKeyError\u001b[0m: \"['max_price_orderlines'] not found in axis\""
     ]
    }
   ],
   "source": [
    "import sys, os\n",
    "sys.path.append(os.path.join(os.path.dirname(''), '..'))\n",
    "from proj2_eniac_price_discounts.src.DSBC_proj2_data_cleaning import *\n",
    "\n",
    "# passing a dict as argument to functions while only changing the values inside the dict\n",
    "# allows for passing by reference in python as long as the passed dict is not directly\n",
    "# assigned to (no ebd = ...)\n",
    "# passing by reference allows to pass, change (i.e. clean) and return the dataframes without\n",
    "# burdening the readability of the code by making it explicit \n",
    "further_clean_data(ebd) \n",
    "categorise_products(ebd) \n",
    "\n",
    "\n",
    "sns.relplot(x=\"price\",\n",
    "                y=\"product_category\",\n",
    "                size=0.1,\n",
    "                height= 6,\n",
    "                aspect = 4.0,\n",
    "                data=ebd['products'][['product_category','price']])\n",
    "\n",
    "plt.xlabel('Shipping cost in Euros')\n",
    "plt.ylabel('Total price in Euros')\n",
    "sns.despine()"
   ]
  },
  {
   "cell_type": "code",
   "execution_count": 10,
   "metadata": {},
   "outputs": [],
   "source": [
    "#count distribution of product prices\n",
    "import sys, os\n",
    "sys.path.append(os.path.join(os.path.dirname(''), '..'))\n",
    "from proj2_eniac_price_discounts.src.DSBC_proj2_prices import distribution_prices\n"
   ]
  },
  {
   "cell_type": "code",
   "execution_count": 6,
   "metadata": {},
   "outputs": [],
   "source": [
    "#...."
   ]
  }
 ],
 "metadata": {
  "colab": {
   "name": "DSBC_second_project.ipynb",
   "provenance": []
  },
  "kernelspec": {
   "display_name": "Python 3",
   "language": "python",
   "name": "python3"
  },
  "language_info": {
   "codemirror_mode": {
    "name": "ipython",
    "version": 3
   },
   "file_extension": ".py",
   "mimetype": "text/x-python",
   "name": "python",
   "nbconvert_exporter": "python",
   "pygments_lexer": "ipython3",
   "version": "3.8.3"
  }
 },
 "nbformat": 4,
 "nbformat_minor": 4
}
