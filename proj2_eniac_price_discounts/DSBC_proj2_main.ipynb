{
 "cells": [
  {
   "cell_type": "markdown",
   "metadata": {
    "id": "2eTtmK0I2tqM"
   },
   "source": [
    "# The Question"
   ]
  },
  {
   "cell_type": "markdown",
   "metadata": {
    "id": "O2keD_b7KiJC"
   },
   "source": [
    "- main questions: \n",
    "    - whether or not it’s beneficial to discount products?\n",
    "    - how to define a pricing strategy in relation to discounts?\n",
    "    \n",
    "- detailled questions: \n",
    "    - How products should be classified into different categories in order to simplify reports and analysis.\n",
    "    - What is the distribution of product prices across different categories.\n",
    "    - How many products are being discounted.\n",
    "    - How big are the offered discounts as a percentage of the product prices.\n",
    "    - How seasonality and special dates (Christmas, Black Friday) affect sales.\n",
    "    - How could data collection be improved.\n",
    "    - A critical question, hence, is whether revenue grows whenever discounts increase.\n",
    "\n",
    "- also:\n",
    "    - How many orders are there?\n",
    "    - How many products are there?\n",
    "    - What period of time do these orders comprise?\n",
    "    - How many orders are Completed?\n",
    "    - How should revenue be computed?\n",
    "    - What is the overall revenue for that time?\n",
    "    - Are there seasonal patterns in the evolution of sales?\n",
    "    - What are the most sold products?\n",
    "    - What are the products that generate the most revenue?\n"
   ]
  },
  {
   "cell_type": "markdown",
   "metadata": {
    "id": "sfh5KnBaKopT"
   },
   "source": [
    "## Data columns explained"
   ]
  },
  {
   "cell_type": "markdown",
   "metadata": {
    "id": "_ZIH9tVT4_EG"
   },
   "source": [
    "    orders.csv – Every row in this file represents an order.\n",
    "        order_id – a unique identifier for each order\n",
    "        created_date – a timestamp for when the order was created\n",
    "        total_paid – the total amount paid by the customer for \n",
    "        this order, in euros\n",
    "        state \n",
    "            “Shopping basket” – products have been placed to the \n",
    "                shopping basket, but the order has not been processed yet.\n",
    "            “Pending” – the shopping basket has been processed, \n",
    "                but payment confirmation is pending.\n",
    "            “Completed” – the order has been placed and payed, the \n",
    "                transaction is completed.\n",
    "            “Cancelled” – the order has been cancelled and the \n",
    "                payment returned to the customer.\n",
    "    orderlines.csv – Every row represents each one of the different products involved in an order.\n",
    "        id – a unique identifier for each row in this file\n",
    "        id_order – corresponds to orders.order_id\n",
    "        product_id – an old identifier for each product, nowadays \n",
    "        not in use\n",
    "        product_quantity – how many units of that products were \n",
    "        purchased on that order\n",
    "        sku – stock keeping unit: a unique identifier for each \n",
    "        product\n",
    "        unit_price – the unitary price (in euros) of each product \n",
    "        at the moment of placing that order\n",
    "        date – timestamp for the processing of that product\n",
    "    products.csv\n",
    "        sku – stock keeping unit: a unique identifier for each product\n",
    "        name – product name\n",
    "        desc – product description\n",
    "        in_stock – whether or not the product was in stock at the \n",
    "        moment of the data extraction\n",
    "        type – a numerical code for product type\n",
    "    brands.csv\n",
    "        short – the 3 character code by which the brand can be \n",
    "        identified in the first 3 characters of products.sku\n",
    "        long – brand name\n",
    "\n",
    "\n",
    "  \n",
    "    products.price –> this is the original price of a product, \n",
    "          without applying any discount or promotion.\n",
    "    orderlines.unit_price –> this is the actual price at which a \n",
    "          product has been sold. It should roughly match with the \n",
    "          price in the products table, but there might be \n",
    "          deviations, as discounts get applied here.\n",
    "    orders.total_paid –> this is the total amount of the full \n",
    "          order. It should roughly translate to the sum of all \n",
    "          unitary prices, multiplied by the amount of each product\n",
    "           purchased (orderlines.product_quantity). The key word \n",
    "           here is, again, roughly: the total amount of the order \n",
    "           might include shipping costs or vouchers.\n",
    "\n"
   ]
  },
  {
   "cell_type": "markdown",
   "metadata": {},
   "source": [
    "## Load and Clean \n"
   ]
  },
  {
   "cell_type": "code",
   "execution_count": 1,
   "metadata": {
    "id": "jHwzu3by5VZ0",
    "jupyter": {
     "source_hidden": true
    }
   },
   "outputs": [],
   "source": [
    "#data\n",
    "def load_raw_data():\n",
    "    import pandas as pd\n",
    "\n",
    "    brands_url = 'https://drive.google.com/file/d/1m1ThDDIYRTTii-rqM5SEQjJ8McidJskD/view?usp=sharing' #brands.csv\n",
    "    orderlines_url = 'https://drive.google.com/file/d/1FYhN_2AzTBFuWcfHaRuKcuCE6CWXsWtG/view?usp=sharing' #orderlines.csv\n",
    "    orders_url = 'https://drive.google.com/file/d/1Vu0q91qZw6lqhIqbjoXYvYAQTmVHh6uZ/view?usp=sharing' #orders.csv\n",
    "    products_url = 'https://drive.google.com/file/d/1afxwDXfl-7cQ_qLwyDitfcCx3u7WMvkU/view?usp=sharing' # products.csv\n",
    "\n",
    "    edb = {'brands': brands_url,              # eniac_database\n",
    "                'orderlines': orderlines_url, \n",
    "                'orders': orders_url, \n",
    "                'products': products_url}\n",
    "\n",
    "    def url_to_df(url):\n",
    "      path = 'https://drive.google.com/uc?export=download&id='+url.split('/')[-2]\n",
    "      return pd.read_csv(path)\n",
    "\n",
    "    #load data\n",
    "    for k,v in edb.items():\n",
    "      edb[k] = url_to_df(v)\n",
    "    \n",
    "    return edb\n",
    "\n",
    "def load_clean_data():\n",
    "    pass"
   ]
  },
  {
   "cell_type": "code",
   "execution_count": 5,
   "metadata": {},
   "outputs": [
    {
     "name": "stdout",
     "output_type": "stream",
     "text": [
      "Requirement already satisfied: nbimporter in c:\\users\\circl\\anaconda3\\lib\\site-packages (0.3.4)\n",
      "Note: you may need to restart the kernel to use updated packages.\n"
     ]
    },
    {
     "name": "stderr",
     "output_type": "stream",
     "text": [
      "Das System kann den angegebenen Pfad nicht finden.\n"
     ]
    }
   ],
   "source": [
    "# installs notebook importer and imports it\n",
    "# is needed to import functions from other notebooks\n",
    "%pip install nbimporter\n",
    "import nbimporter"
   ]
  },
  {
   "cell_type": "code",
   "execution_count": 12,
   "metadata": {},
   "outputs": [],
   "source": [
    "\n",
    "def load_clean_data():\n",
    "    brands = pd.read_csv('data/brands_cl.csv')\n",
    "    products = pd.read_csv('data/products_cl.csv')\n",
    "    orders = pd.read_csv('data/orders_cl.csv')\n",
    "    orderlines = pd.read_csv('data/orderlines_cl.csv')\n",
    "    return products, orders, orderlines, brands\n",
    "\n",
    "products, orders, orderlines, brands = load_clean_data()"
   ]
  },
  {
   "cell_type": "markdown",
   "metadata": {},
   "source": [
    "# Business Questions"
   ]
  },
  {
   "cell_type": "markdown",
   "metadata": {},
   "source": [
    "## Product Categories"
   ]
  },
  {
   "cell_type": "code",
   "execution_count": 13,
   "metadata": {},
   "outputs": [
    {
     "ename": "KeyError",
     "evalue": "\"['product_category'] not in index\"",
     "output_type": "error",
     "traceback": [
      "\u001b[1;31m---------------------------------------------------------------------------\u001b[0m",
      "\u001b[1;31mKeyError\u001b[0m                                  Traceback (most recent call last)",
      "\u001b[1;32m<ipython-input-13-9a4688978754>\u001b[0m in \u001b[0;36m<module>\u001b[1;34m\u001b[0m\n\u001b[0;32m      9\u001b[0m                 \u001b[0mheight\u001b[0m\u001b[1;33m=\u001b[0m \u001b[1;36m6\u001b[0m\u001b[1;33m,\u001b[0m\u001b[1;33m\u001b[0m\u001b[1;33m\u001b[0m\u001b[0m\n\u001b[0;32m     10\u001b[0m                 \u001b[0maspect\u001b[0m \u001b[1;33m=\u001b[0m \u001b[1;36m4.0\u001b[0m\u001b[1;33m,\u001b[0m\u001b[1;33m\u001b[0m\u001b[1;33m\u001b[0m\u001b[0m\n\u001b[1;32m---> 11\u001b[1;33m                 data=products[['product_category','price']])\n\u001b[0m\u001b[0;32m     12\u001b[0m \u001b[1;33m\u001b[0m\u001b[0m\n\u001b[0;32m     13\u001b[0m \u001b[0mplt\u001b[0m\u001b[1;33m.\u001b[0m\u001b[0mxlabel\u001b[0m\u001b[1;33m(\u001b[0m\u001b[1;34m'Shipping cost in Euros'\u001b[0m\u001b[1;33m)\u001b[0m\u001b[1;33m\u001b[0m\u001b[1;33m\u001b[0m\u001b[0m\n",
      "\u001b[1;32m~\\anaconda3\\lib\\site-packages\\pandas\\core\\frame.py\u001b[0m in \u001b[0;36m__getitem__\u001b[1;34m(self, key)\u001b[0m\n\u001b[0;32m   2804\u001b[0m             \u001b[1;32mif\u001b[0m \u001b[0mis_iterator\u001b[0m\u001b[1;33m(\u001b[0m\u001b[0mkey\u001b[0m\u001b[1;33m)\u001b[0m\u001b[1;33m:\u001b[0m\u001b[1;33m\u001b[0m\u001b[1;33m\u001b[0m\u001b[0m\n\u001b[0;32m   2805\u001b[0m                 \u001b[0mkey\u001b[0m \u001b[1;33m=\u001b[0m \u001b[0mlist\u001b[0m\u001b[1;33m(\u001b[0m\u001b[0mkey\u001b[0m\u001b[1;33m)\u001b[0m\u001b[1;33m\u001b[0m\u001b[1;33m\u001b[0m\u001b[0m\n\u001b[1;32m-> 2806\u001b[1;33m             \u001b[0mindexer\u001b[0m \u001b[1;33m=\u001b[0m \u001b[0mself\u001b[0m\u001b[1;33m.\u001b[0m\u001b[0mloc\u001b[0m\u001b[1;33m.\u001b[0m\u001b[0m_get_listlike_indexer\u001b[0m\u001b[1;33m(\u001b[0m\u001b[0mkey\u001b[0m\u001b[1;33m,\u001b[0m \u001b[0maxis\u001b[0m\u001b[1;33m=\u001b[0m\u001b[1;36m1\u001b[0m\u001b[1;33m,\u001b[0m \u001b[0mraise_missing\u001b[0m\u001b[1;33m=\u001b[0m\u001b[1;32mTrue\u001b[0m\u001b[1;33m)\u001b[0m\u001b[1;33m[\u001b[0m\u001b[1;36m1\u001b[0m\u001b[1;33m]\u001b[0m\u001b[1;33m\u001b[0m\u001b[1;33m\u001b[0m\u001b[0m\n\u001b[0m\u001b[0;32m   2807\u001b[0m \u001b[1;33m\u001b[0m\u001b[0m\n\u001b[0;32m   2808\u001b[0m         \u001b[1;31m# take() does not accept boolean indexers\u001b[0m\u001b[1;33m\u001b[0m\u001b[1;33m\u001b[0m\u001b[1;33m\u001b[0m\u001b[0m\n",
      "\u001b[1;32m~\\anaconda3\\lib\\site-packages\\pandas\\core\\indexing.py\u001b[0m in \u001b[0;36m_get_listlike_indexer\u001b[1;34m(self, key, axis, raise_missing)\u001b[0m\n\u001b[0;32m   1550\u001b[0m             \u001b[0mkeyarr\u001b[0m\u001b[1;33m,\u001b[0m \u001b[0mindexer\u001b[0m\u001b[1;33m,\u001b[0m \u001b[0mnew_indexer\u001b[0m \u001b[1;33m=\u001b[0m \u001b[0max\u001b[0m\u001b[1;33m.\u001b[0m\u001b[0m_reindex_non_unique\u001b[0m\u001b[1;33m(\u001b[0m\u001b[0mkeyarr\u001b[0m\u001b[1;33m)\u001b[0m\u001b[1;33m\u001b[0m\u001b[1;33m\u001b[0m\u001b[0m\n\u001b[0;32m   1551\u001b[0m \u001b[1;33m\u001b[0m\u001b[0m\n\u001b[1;32m-> 1552\u001b[1;33m         self._validate_read_indexer(\n\u001b[0m\u001b[0;32m   1553\u001b[0m             \u001b[0mkeyarr\u001b[0m\u001b[1;33m,\u001b[0m \u001b[0mindexer\u001b[0m\u001b[1;33m,\u001b[0m \u001b[0mo\u001b[0m\u001b[1;33m.\u001b[0m\u001b[0m_get_axis_number\u001b[0m\u001b[1;33m(\u001b[0m\u001b[0maxis\u001b[0m\u001b[1;33m)\u001b[0m\u001b[1;33m,\u001b[0m \u001b[0mraise_missing\u001b[0m\u001b[1;33m=\u001b[0m\u001b[0mraise_missing\u001b[0m\u001b[1;33m\u001b[0m\u001b[1;33m\u001b[0m\u001b[0m\n\u001b[0;32m   1554\u001b[0m         )\n",
      "\u001b[1;32m~\\anaconda3\\lib\\site-packages\\pandas\\core\\indexing.py\u001b[0m in \u001b[0;36m_validate_read_indexer\u001b[1;34m(self, key, indexer, axis, raise_missing)\u001b[0m\n\u001b[0;32m   1644\u001b[0m             \u001b[1;32mif\u001b[0m \u001b[1;32mnot\u001b[0m \u001b[1;33m(\u001b[0m\u001b[0mself\u001b[0m\u001b[1;33m.\u001b[0m\u001b[0mname\u001b[0m \u001b[1;33m==\u001b[0m \u001b[1;34m\"loc\"\u001b[0m \u001b[1;32mand\u001b[0m \u001b[1;32mnot\u001b[0m \u001b[0mraise_missing\u001b[0m\u001b[1;33m)\u001b[0m\u001b[1;33m:\u001b[0m\u001b[1;33m\u001b[0m\u001b[1;33m\u001b[0m\u001b[0m\n\u001b[0;32m   1645\u001b[0m                 \u001b[0mnot_found\u001b[0m \u001b[1;33m=\u001b[0m \u001b[0mlist\u001b[0m\u001b[1;33m(\u001b[0m\u001b[0mset\u001b[0m\u001b[1;33m(\u001b[0m\u001b[0mkey\u001b[0m\u001b[1;33m)\u001b[0m \u001b[1;33m-\u001b[0m \u001b[0mset\u001b[0m\u001b[1;33m(\u001b[0m\u001b[0max\u001b[0m\u001b[1;33m)\u001b[0m\u001b[1;33m)\u001b[0m\u001b[1;33m\u001b[0m\u001b[1;33m\u001b[0m\u001b[0m\n\u001b[1;32m-> 1646\u001b[1;33m                 \u001b[1;32mraise\u001b[0m \u001b[0mKeyError\u001b[0m\u001b[1;33m(\u001b[0m\u001b[1;34mf\"{not_found} not in index\"\u001b[0m\u001b[1;33m)\u001b[0m\u001b[1;33m\u001b[0m\u001b[1;33m\u001b[0m\u001b[0m\n\u001b[0m\u001b[0;32m   1647\u001b[0m \u001b[1;33m\u001b[0m\u001b[0m\n\u001b[0;32m   1648\u001b[0m             \u001b[1;31m# we skip the warning on Categorical/Interval\u001b[0m\u001b[1;33m\u001b[0m\u001b[1;33m\u001b[0m\u001b[1;33m\u001b[0m\u001b[0m\n",
      "\u001b[1;31mKeyError\u001b[0m: \"['product_category'] not in index\""
     ]
    }
   ],
   "source": [
    "from src.DSBC_proj2_data_cleaning import *\n",
    "\n",
    "#further_clean_data(products, orders, orderlines, brands) \n",
    "categorise_products(products, orders, orderlines, brands) \n",
    "\n",
    "sns.relplot(x=\"price\",\n",
    "                y=\"product_category\",\n",
    "                size=0.1,\n",
    "                height= 6,\n",
    "                aspect = 4.0,\n",
    "                data=products[['product_category','price']])\n",
    "\n",
    "plt.xlabel('Shipping cost in Euros')\n",
    "plt.ylabel('Total price in Euros')\n",
    "sns.despine()"
   ]
  },
  {
   "cell_type": "code",
   "execution_count": null,
   "metadata": {},
   "outputs": [],
   "source": [
    "#count distribution of product prices\n",
    "from src.DSBC_proj2_prices import distribution_prices()\n"
   ]
  },
  {
   "cell_type": "code",
   "execution_count": null,
   "metadata": {},
   "outputs": [],
   "source": [
    "#...."
   ]
  }
 ],
 "metadata": {
  "colab": {
   "name": "DSBC_second_project.ipynb",
   "provenance": []
  },
  "kernelspec": {
   "display_name": "Python 3",
   "language": "python",
   "name": "python3"
  },
  "language_info": {
   "codemirror_mode": {
    "name": "ipython",
    "version": 3
   },
   "file_extension": ".py",
   "mimetype": "text/x-python",
   "name": "python",
   "nbconvert_exporter": "python",
   "pygments_lexer": "ipython3",
   "version": "3.8.3"
  }
 },
 "nbformat": 4,
 "nbformat_minor": 4
}
