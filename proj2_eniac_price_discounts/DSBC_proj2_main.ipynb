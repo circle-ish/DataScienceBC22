{
 "cells": [
  {
   "cell_type": "markdown",
   "metadata": {
    "id": "2eTtmK0I2tqM"
   },
   "source": [
    "# The Question"
   ]
  },
  {
   "cell_type": "markdown",
   "metadata": {
    "id": "O2keD_b7KiJC"
   },
   "source": [
    "- main question: whether or not it’s beneficial to discount products.\n",
    "\n",
    "- detailled questions: \n",
    "    - How products should be classified into different categories in order to simplify reports and analysis.\n",
    "    - What is the distribution of product prices across different categories.\n",
    "    - How many products are being discounted.\n",
    "    - How big are the offered discounts as a percentage of the product prices.\n",
    "    - How seasonality and special dates (Christmas, Black Friday) affect sales.\n",
    "    - How could data collection be improved.\n",
    "\n",
    "- also:\n",
    "    - How many orders are there?\n",
    "    - How many products are there?\n",
    "    - What period of time do these orders comprise?\n",
    "    - How many orders are Completed?\n",
    "    - How should revenue be computed?\n",
    "    - ..."
   ]
  },
  {
   "cell_type": "markdown",
   "metadata": {
    "id": "sfh5KnBaKopT"
   },
   "source": [
    "## Data columns explained"
   ]
  },
  {
   "cell_type": "markdown",
   "metadata": {
    "id": "_ZIH9tVT4_EG"
   },
   "source": [
    "    orders.csv – Every row in this file represents an order.\n",
    "        order_id – a unique identifier for each order\n",
    "        created_date – a timestamp for when the order was created\n",
    "        total_paid – the total amount paid by the customer for \n",
    "        this order, in euros\n",
    "        state \n",
    "            “Shopping basket” – products have been placed to the \n",
    "                shopping basket, but the order has not been processed yet.\n",
    "            “Pending” – the shopping basket has been processed, \n",
    "                but payment confirmation is pending.\n",
    "            “Completed” – the order has been placed and payed, the \n",
    "                transaction is completed.\n",
    "            “Cancelled” – the order has been cancelled and the \n",
    "                payment returned to the customer.\n",
    "    orderlines.csv – Every row represents each one of the different products involved in an order.\n",
    "        id – a unique identifier for each row in this file\n",
    "        id_order – corresponds to orders.order_id\n",
    "        product_id – an old identifier for each product, nowadays \n",
    "        not in use\n",
    "        product_quantity – how many units of that products were \n",
    "        purchased on that order\n",
    "        sku – stock keeping unit: a unique identifier for each \n",
    "        product\n",
    "        unit_price – the unitary price (in euros) of each product \n",
    "        at the moment of placing that order\n",
    "        date – timestamp for the processing of that product\n",
    "    products.csv\n",
    "        sku – stock keeping unit: a unique identifier for each product\n",
    "        name – product name\n",
    "        desc – product description\n",
    "        in_stock – whether or not the product was in stock at the \n",
    "        moment of the data extraction\n",
    "        type – a numerical code for product type\n",
    "    brands.csv\n",
    "        short – the 3 character code by which the brand can be \n",
    "        identified in the first 3 characters of products.sku\n",
    "        long – brand name\n",
    "\n",
    "\n",
    "  \n",
    "    products.price –> this is the original price of a product, \n",
    "          without applying any discount or promotion.\n",
    "    orderlines.unit_price –> this is the actual price at which a \n",
    "          product has been sold. It should roughly match with the \n",
    "          price in the products table, but there might be \n",
    "          deviations, as discounts get applied here.\n",
    "    orders.total_paid –> this is the total amount of the full \n",
    "          order. It should roughly translate to the sum of all \n",
    "          unitary prices, multiplied by the amount of each product\n",
    "           purchased (orderlines.product_quantity). The key word \n",
    "           here is, again, roughly: the total amount of the order \n",
    "           might include shipping costs or vouchers.\n",
    "\n"
   ]
  },
  {
   "cell_type": "markdown",
   "metadata": {},
   "source": [
    "## Load and Clean \n"
   ]
  },
  {
   "cell_type": "code",
   "execution_count": null,
   "metadata": {
    "id": "jHwzu3by5VZ0",
    "jupyter": {
     "source_hidden": true
    }
   },
   "outputs": [],
   "source": [
    "#data\n",
    "def load_raw_data():\n",
    "    import pandas as pd\n",
    "\n",
    "    brands_url = 'https://drive.google.com/file/d/1m1ThDDIYRTTii-rqM5SEQjJ8McidJskD/view?usp=sharing' #brands.csv\n",
    "    orderlines_url = 'https://drive.google.com/file/d/1FYhN_2AzTBFuWcfHaRuKcuCE6CWXsWtG/view?usp=sharing' #orderlines.csv\n",
    "    orders_url = 'https://drive.google.com/file/d/1Vu0q91qZw6lqhIqbjoXYvYAQTmVHh6uZ/view?usp=sharing' #orders.csv\n",
    "    products_url = 'https://drive.google.com/file/d/1afxwDXfl-7cQ_qLwyDitfcCx3u7WMvkU/view?usp=sharing' # products.csv\n",
    "\n",
    "    edb = {'brands': brands_url,              # eniac_database\n",
    "                'orderlines': orderlines_url, \n",
    "                'orders': orders_url, \n",
    "                'products': products_url}\n",
    "\n",
    "    def url_to_df(url):\n",
    "      path = 'https://drive.google.com/uc?export=download&id='+url.split('/')[-2]\n",
    "      return pd.read_csv(path)\n",
    "\n",
    "    #load data\n",
    "    for k,v in edb.items():\n",
    "      edb[k] = url_to_df(v)\n",
    "    \n",
    "    return edb\n",
    "\n",
    "def load_clean_data():\n",
    "    pass"
   ]
  },
  {
   "cell_type": "code",
   "execution_count": 6,
   "metadata": {},
   "outputs": [
    {
     "name": "stdout",
     "output_type": "stream",
     "text": [
      "Requirement already satisfied: nbimporter in c:\\users\\circl\\anaconda3\\lib\\site-packages (0.3.4)\n",
      "Note: you may need to restart the kernel to use updated packages.\n"
     ]
    },
    {
     "name": "stderr",
     "output_type": "stream",
     "text": [
      "Das System kann den angegebenen Pfad nicht finden.\n"
     ]
    }
   ],
   "source": [
    "# installs notebook importer and imports it\n",
    "# is needed to import functions from other notebooks\n",
    "%pip install nbimporter\n",
    "import nbimporter"
   ]
  },
  {
   "cell_type": "code",
   "execution_count": 4,
   "metadata": {},
   "outputs": [
    {
     "name": "stdout",
     "output_type": "stream",
     "text": [
      "test\n"
     ]
    }
   ],
   "source": [
    "\n",
    "#load_clean_data()\n",
    "\n"
   ]
  },
  {
   "cell_type": "markdown",
   "metadata": {},
   "source": [
    "# Business Questions"
   ]
  },
  {
   "cell_type": "markdown",
   "metadata": {},
   "source": [
    "## Product Categories"
   ]
  },
  {
   "cell_type": "code",
   "execution_count": null,
   "metadata": {},
   "outputs": [],
   "source": [
    "from DSBC_proj2_data_cleaning import categorise_products\n",
    "\n",
    "categorise_products() #prints 'test'"
   ]
  },
  {
   "cell_type": "code",
   "execution_count": null,
   "metadata": {},
   "outputs": [],
   "source": [
    "#count distribution of product prices\n",
    "from DSBC_proj2_prices import distribution_prices()\n"
   ]
  },
  {
   "cell_type": "code",
   "execution_count": null,
   "metadata": {},
   "outputs": [],
   "source": [
    "#...."
   ]
  }
 ],
 "metadata": {
  "colab": {
   "name": "DSBC_second_project.ipynb",
   "provenance": []
  },
  "kernelspec": {
   "display_name": "Python 3",
   "language": "python",
   "name": "python3"
  },
  "language_info": {
   "codemirror_mode": {
    "name": "ipython",
    "version": 3
   },
   "file_extension": ".py",
   "mimetype": "text/x-python",
   "name": "python",
   "nbconvert_exporter": "python",
   "pygments_lexer": "ipython3",
   "version": "3.8.3"
  }
 },
 "nbformat": 4,
 "nbformat_minor": 4
}
