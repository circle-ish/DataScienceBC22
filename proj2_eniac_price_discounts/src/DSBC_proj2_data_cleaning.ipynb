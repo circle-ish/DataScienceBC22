{
 "cells": [
  {
   "cell_type": "code",
   "execution_count": 12,
   "metadata": {},
   "outputs": [],
   "source": [
    "import seaborn as sns\n",
    "import pandas as pd\n",
    "import numpy as np\n",
    "import seaborn as sns\n",
    "import matplotlib.pyplot as plt\n",
    "plt.style.use('dark_background')\n",
    "\n",
    "import re\n",
    "import sys, os\n",
    "sys.path.append(os.path.join(os.path.dirname(''), '../..'))"
   ]
  },
  {
   "cell_type": "code",
   "execution_count": 13,
   "metadata": {},
   "outputs": [],
   "source": [
    "#setting display options for python / pandas output\n",
    "pd.set_option('display.float_format', lambda x: '%.2f' % x)\n",
    "pd.set_option('display.max_rows', 1000)\n",
    "pd.set_option(\"display.max_colwidth\", 100)"
   ]
  },
  {
   "cell_type": "code",
   "execution_count": 14,
   "metadata": {},
   "outputs": [],
   "source": [
    "def further_clean_data(ebd):\n",
    "    from proj2_eniac_price_discounts.src.DSBC_proj2_utils import unpack_dict, pack_dict\n",
    "    products, orders, orderlines, brands = unpack_dict(ebd)\n",
    "    \n",
    "    #further cleaning\n",
    "    products.drop(columns='max_price_orderlines', inplace=True)\n",
    "    products.dropna(inplace=True)"
   ]
  },
  {
   "cell_type": "code",
   "execution_count": 15,
   "metadata": {},
   "outputs": [],
   "source": [
    "def categorise_products(ebd):\n",
    "    from proj2_eniac_price_discounts.src.DSBC_proj2_utils import unpack_dict, pack_dict\n",
    "    products, orders, orderlines, brands = unpack_dict(ebd)\n",
    "    \n",
    "    # merge products and brands; reduce products to relevant columns\n",
    "    products = (products\n",
    "    .assign(brands_letters=products['sku'].str[:3])\n",
    "    .merge(brands, left_on='brands_letters', right_on='short')\n",
    "    .drop(columns=['brands_letters','short','type'])\n",
    "    )\n",
    "    products = products[['sku','long','name','desc','price']]\n",
    "    products.rename(columns={'sku':'sku','long':'brand','name':'name','desc':'description','price':'price'})\n",
    "    \n",
    "    #Categoryvariables\n",
    "    storage = 'SSD|HDD|Storage|Drive|SATA|Data|SDHC|SDXC|Seagate|WD|WesternDigital|Hard.*Disk|RAID'\n",
    "    protection = 'Case|Protector|Capsule|Gauntlet|Sleeve|EnclosureProtection'\n",
    "    cable = 'Cable|Charger'\n",
    "    adapter = 'Adapter'\n",
    "    sound = 'Speaker|Phones|Sound|Headset|Voice'\n",
    "    memory = 'DDR'\n",
    "    nas = 'NAS'\n",
    "    docks = 'Dock|Dockingstation'\n",
    "    inputdev = 'Mouse|Keyboard| Pen|Track'\n",
    "    battery = 'Battery|mAh'\n",
    "    network = 'Wireless|Switch|Router|wi-fi|LAN|Port|Powerline'\n",
    "\n",
    "    #ItemList = storage+\"|\"+protection+\"|\"+cable+\"|\"+adapter+\"|\"+sound+\"|\"+memory+\"|\"+nas+\"|\"+docks+\"|\"+inputdev+\"|\"+battery+\"|\"+network\n",
    "    \n",
    "products['product_category'] = np.where(products.name.str.contains(storage, flags=re.IGNORECASE, regex=True), 'Storagehardware', \"--O-T-H-E-R--\")\n",
    "products['product_category'] = np.where(products.name.str.contains(protection, flags=re.IGNORECASE, regex=True), 'Protection', products['product_category'])\n",
    "products['product_category'] = np.where(products.name.str.contains(cable, flags=re.IGNORECASE, regex=True), 'Cables & Charger', products['product_category'])\n",
    "products['product_category'] = np.where(products.name.str.contains(adapter, flags=re.IGNORECASE, regex=True), 'Adapter', products['product_category'])\n",
    "products['product_category'] = np.where(products.name.str.contains(sound, flags=re.IGNORECASE, regex=True), 'Sound', products['product_category'])\n",
    "\n",
    "products['product_category'] = np.where(products.name.str.contains(memory, flags=re.IGNORECASE, regex=True), 'Memory', products['product_category'])\n",
    "products['product_category'] = np.where(products.name.str.contains(nas, flags=re.IGNORECASE, regex=True), 'NAS', products['product_category'])\n",
    "products['product_category'] = np.where(products.name.str.contains(docks, flags=re.IGNORECASE, regex=True), 'Dockingstation', products['product_category'])\n",
    "products['product_category'] = np.where(products.name.str.contains(inputdev, flags=re.IGNORECASE, regex=True), 'Input Device', products['product_category'])\n",
    "products['product_category'] = np.where(products.name.str.contains(battery, flags=re.IGNORECASE, regex=True), 'Battery', products['product_category'])\n",
    "products['product_category'] = np.where(products.name.str.contains(network, flags=re.IGNORECASE, regex=True), 'Networkequipment', products['product_category'])\n",
    "\n",
    "products['product_category'] = np.where((products.brand == 'Apple') & products.name.str.contains('TV', flags=re.IGNORECASE, regex=True), 'TV', products['product_category'])\n",
    "products['product_category'] = (np.where((products.brand == 'Apple') & products.name.str.contains('Watch', flags=re.IGNORECASE, regex=True)\n",
    "                                                                    & products.name.str.contains('mm', flags=re.IGNORECASE, regex=True), 'Smartwatch', products['product_category']))\n",
    "products['product_category'] = np.where((products.brand == 'Apple') & products.name.str.contains('Monitor|Display', flags=re.IGNORECASE, regex=True), 'Monitor', products['product_category'])\n",
    "products['product_category'] = np.where((products.brand == 'Apple') & products.name.str.contains('iPod', flags=re.IGNORECASE, regex=True), 'Musicplayer', products['product_category'])\n",
    "products['product_category'] = (np.where((products.brand == 'Apple') & products.name.str.contains('iPad|Tablet|Studio', flags=re.IGNORECASE, regex=True)\n",
    "                                                                    & products.name.str.contains('GB', flags=re.IGNORECASE, regex=True), 'Tablet', products['product_category']))\n",
    "products['product_category'] = (np.where((products.brand == 'Apple') & products.name.str.contains('i?Phone', flags=re.IGNORECASE, regex=True)\n",
    "                                                                    & products.name.str.contains('GB', flags=re.IGNORECASE, regex=True), 'Smartphone', products['product_category']))\n",
    "products['product_category'] = (np.where((products.brand == 'Apple')& products.name.str.contains('MacBook|Notebook|Laptop', flags=re.IGNORECASE, regex=True)\n",
    "                                                                    & products.name.str.contains('GhZ|core', flags=re.IGNORECASE, regex=True),\n",
    "                                                                     'Laptop', products['product_category']))\n",
    "products['product_category'] = (np.where((products.brand == 'Apple') & products.name.str.contains('i?Mac|Desktop', flags=re.IGNORECASE, regex=True)\n",
    "                                                                     & products.name.str.contains('GhZ|core', flags=re.IGNORECASE, regex=True),\n",
    "                                                                     'Desktop-PC', products['product_category']))"
    "    pack_dict(ebd, products, orders, orderlines, brands)"
   ]
  },
  {
   "cell_type": "code",
   "execution_count": null,
   "metadata": {},
   "outputs": [],
   "source": []
  },
  {
   "cell_type": "code",
   "execution_count": null,
   "metadata": {},
   "outputs": [],
   "source": []
  }
 ],
 "metadata": {
  "colab": {
   "name": "DSBC_second_project.ipynb",
   "provenance": []
  },
  "kernelspec": {
   "display_name": "Python 3",
   "language": "python",
   "name": "python3"
  },
  "language_info": {
   "codemirror_mode": {
    "name": "ipython",
    "version": 3
   },
   "file_extension": ".py",
   "mimetype": "text/x-python",
   "name": "python",
   "nbconvert_exporter": "python",
   "pygments_lexer": "ipython3",
   "version": "3.8.3"
  }
 },
 "nbformat": 4,
 "nbformat_minor": 4
}
