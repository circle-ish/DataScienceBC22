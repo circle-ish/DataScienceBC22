{
 "cells": [
  {
   "cell_type": "code",
   "execution_count": 1,
   "metadata": {},
   "outputs": [],
   "source": [
    "def distribution_prices():\n",
    "    pass"
   ]
  },
  {
   "cell_type": "code",
   "execution_count": 2,
   "metadata": {},
   "outputs": [],
   "source": [
    "def special_day_analysis(ebd):\n",
    "    from src.DSBC_proj2_utils import unpack_dict, pack_dict\n",
    "    products, orders, orderlines, brands = unpack_dict(ebd)\n",
    "    \n",
    "    #\n",
    "    all_orders = orderlines.merge(orders, on='order_id')\n",
    "    all_orders =  all_orders.assign(\n",
    "            created_day = pd.to_datetime(all_orders['created_date']).dt.strftime('%a'),\n",
    "            day = pd.to_datetime(all_orders['date']).dt.strftime('%a')\n",
    "    )\n",
    "    \n",
    "    def add_to_set():\n",
    "        pass\n",
    "    \n",
    "    \n",
    "    all_orders.groupby('day').agg(\n",
    "        prices_sum = ('price', 'sum'),\n",
    "        \n",
    "    )\n",
    "\n",
    "    pack_dict(ebd, products, orders, orderlines, brands)"
   ]
  },
  {
   "cell_type": "code",
   "execution_count": 17,
   "metadata": {},
   "outputs": [
    {
     "name": "stdout",
     "output_type": "stream",
     "text": [
      "<class 'pandas.core.frame.DataFrame'>\n",
      "RangeIndex: 10579 entries, 0 to 10578\n",
      "Data columns (total 6 columns):\n",
      " #   Column                Non-Null Count  Dtype  \n",
      "---  ------                --------------  -----  \n",
      " 0   sku                   10579 non-null  object \n",
      " 1   name                  10579 non-null  object \n",
      " 2   desc                  10572 non-null  object \n",
      " 3   price                 9992 non-null   float64\n",
      " 4   type                  10529 non-null  object \n",
      " 5   max_price_orderlines  342 non-null    float64\n",
      "dtypes: float64(2), object(4)\n",
      "memory usage: 496.0+ KB\n",
      "\n",
      "<class 'pandas.core.frame.DataFrame'>\n",
      "RangeIndex: 204691 entries, 0 to 204690\n",
      "Data columns (total 5 columns):\n",
      " #   Column        Non-Null Count   Dtype  \n",
      "---  ------        --------------   -----  \n",
      " 0   order_id      204691 non-null  int64  \n",
      " 1   created_date  204691 non-null  object \n",
      " 2   total_paid    204691 non-null  float64\n",
      " 3   state         204691 non-null  object \n",
      " 4   check_orders  204691 non-null  bool   \n",
      "dtypes: bool(1), float64(1), int64(1), object(2)\n",
      "memory usage: 6.4+ MB\n",
      "\n",
      "<class 'pandas.core.frame.DataFrame'>\n",
      "RangeIndex: 293743 entries, 0 to 293742\n",
      "Data columns (total 9 columns):\n",
      " #   Column            Non-Null Count   Dtype  \n",
      "---  ------            --------------   -----  \n",
      " 0   id                293743 non-null  int64  \n",
      " 1   id_order          293743 non-null  int64  \n",
      " 2   product_id        293743 non-null  int64  \n",
      " 3   product_quantity  293743 non-null  int64  \n",
      " 4   sku               293743 non-null  object \n",
      " 5   unit_price        293743 non-null  float64\n",
      " 6   date              293743 non-null  object \n",
      " 7   total_price       293743 non-null  float64\n",
      " 8   check_orders      293743 non-null  bool   \n",
      "dtypes: bool(1), float64(2), int64(4), object(2)\n",
      "memory usage: 18.2+ MB\n",
      "\n",
      "<class 'pandas.core.frame.DataFrame'>\n",
      "RangeIndex: 187 entries, 0 to 186\n",
      "Data columns (total 2 columns):\n",
      " #   Column  Non-Null Count  Dtype \n",
      "---  ------  --------------  ----- \n",
      " 0   short   187 non-null    object\n",
      " 1   long    187 non-null    object\n",
      "dtypes: object(2)\n",
      "memory usage: 3.0+ KB\n",
      "\n"
     ]
    }
   ],
   "source": [
    "if True:\n",
    "    import nbimporter\n",
    "    import sys, os\n",
    "    sys.path.append(os.path.join(os.path.dirname(''), '..'))\n",
    "    from proj2_eniac_price_discounts.DSBC_proj2_main import load_clean_data\n",
    "\n",
    "    ebd = load_clean_data(path = '../data/')\n",
    "\n",
    "    for k,v in ebd.items():\n",
    "        v.info()\n",
    "        print()\n",
    "    # special_day_analysis(ebd)"
   ]
  }
 ],
 "metadata": {
  "colab": {
   "name": "DSBC_second_project.ipynb",
   "provenance": []
  },
  "kernelspec": {
   "display_name": "Python 3",
   "language": "python",
   "name": "python3"
  },
  "language_info": {
   "codemirror_mode": {
    "name": "ipython",
    "version": 3
   },
   "file_extension": ".py",
   "mimetype": "text/x-python",
   "name": "python",
   "nbconvert_exporter": "python",
   "pygments_lexer": "ipython3",
   "version": "3.8.3"
  }
 },
 "nbformat": 4,
 "nbformat_minor": 4
}
