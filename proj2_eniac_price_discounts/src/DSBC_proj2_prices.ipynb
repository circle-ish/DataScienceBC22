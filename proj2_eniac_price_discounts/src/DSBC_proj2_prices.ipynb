{
 "cells": [
  {
   "cell_type": "code",
   "execution_count": 1,
   "metadata": {},
   "outputs": [],
   "source": [
    "def distribution_prices():\n",
    "    pass"
   ]
  },
  {
   "cell_type": "code",
   "execution_count": 54,
   "metadata": {},
   "outputs": [],
   "source": [
    "def special_day_analysis(ebd):\n",
    "    import pandas as pd\n",
    "    from src.DSBC_proj2_utils import unpack_dict, pack_dict\n",
    "    products, orders, orderlines, brands = unpack_dict(ebd)\n",
    "    \n",
    "    #\n",
    "    all_orders = orderlines.merge(orders, right_on='order_id', left_on='id_order')\n",
    "    all_orders =  all_orders.assign(\n",
    "            created_day = pd.to_datetime(all_orders['created_date']).dt.strftime('%-j'),\n",
    "            day = pd.to_datetime(all_orders['date']).dt.strftime('%j')\n",
    "    )\n",
    "    \n",
    "    #counts the number of occurences of all states\n",
    "    def count_state_to_dict(x):\n",
    "        from collections import Counter\n",
    "        return Counter(x.tolist())\n",
    "    \n",
    "    all_orders_grpday_statecount = all_orders.groupby('day').agg(\n",
    "        prices_sum = ('unit_price', 'sum'),\n",
    "        state_count = ('state', count_state_to_dict)\n",
    "    )\n",
    "    all_orders_grpday_statecount['shopbask'] = all_orders_grpday_statecount['state_count'].get('Shopping Basket', 0)\n",
    "    all_orders_grpday_statecount['placeord'] = all_orders_grpday_statecount['state_count'].get('Place Order', 0)\n",
    "    all_orders_grpday_statecount['compl'] = all_orders_grpday_statecount['state_count'].get('Completed', 0)\n",
    "    all_orders_grpday_statecount['cancl'] = all_orders_grpday_statecount['state_count'].get('Cancelled', 0)\n",
    "    all_orders_grpday_statecount['pending'] = all_orders_grpday_statecount['state_count'].get('Pending', 0)\n",
    "    print(all_orders_grpday_statecount['state_count'][''])\n",
    "    \n",
    "    \n",
    "    \n"
   ]
  },
  {
   "cell_type": "code",
   "execution_count": 55,
   "metadata": {},
   "outputs": [
    {
     "name": "stdout",
     "output_type": "stream",
     "text": [
      "     prices_sum                                        state_count  shopbask  \\\n",
      "day                                                                            \n",
      "001   427610.12  {'Shopping Basket': 720, 'Completed': 415, 'Pl...         0   \n",
      "002   731821.10  {'Shopping Basket': 1249, 'Cancelled': 148, 'C...         0   \n",
      "003   828734.96  {'Place Order': 262, 'Shopping Basket': 1162, ...         0   \n",
      "004  1402049.17  {'Shopping Basket': 1968, 'Completed': 364, 'P...         0   \n",
      "005   388742.09  {'Shopping Basket': 701, 'Completed': 297, 'Pe...         0   \n",
      "..          ...                                                ...       ...   \n",
      "361   683213.08  {'Completed': 404, 'Shopping Basket': 835, 'Pl...         0   \n",
      "362   560597.56  {'Completed': 477, 'Shopping Basket': 747, 'Pl...         0   \n",
      "363   492543.10  {'Completed': 435, 'Shopping Basket': 682, 'Pl...         0   \n",
      "364   300622.29  {'Pending': 35, 'Completed': 254, 'Shopping Ba...         0   \n",
      "365   224019.74  {'Shopping Basket': 281, 'Completed': 191, 'Ca...         0   \n",
      "\n",
      "     placeord  compl  cancl  pending  \n",
      "day                                   \n",
      "001         0      0      0        0  \n",
      "002         0      0      0        0  \n",
      "003         0      0      0        0  \n",
      "004         0      0      0        0  \n",
      "005         0      0      0        0  \n",
      "..        ...    ...    ...      ...  \n",
      "361         0      0      0        0  \n",
      "362         0      0      0        0  \n",
      "363         0      0      0        0  \n",
      "364         0      0      0        0  \n",
      "365         0      0      0        0  \n",
      "\n",
      "[365 rows x 7 columns]\n"
     ]
    }
   ],
   "source": [
    "if True:\n",
    "    import nbimporter\n",
    "    import sys, os\n",
    "    sys.path.append(os.path.join(os.path.dirname(''), '..'))\n",
    "    from proj2_eniac_price_discounts.DSBC_proj2_main import load_clean_data\n",
    "\n",
    "    ebd = load_clean_data(path = '../data/')\n",
    "    special_day_analysis(ebd)"
   ]
  },
  {
   "cell_type": "code",
   "execution_count": null,
   "metadata": {},
   "outputs": [],
   "source": []
  }
 ],
 "metadata": {
  "colab": {
   "name": "DSBC_second_project.ipynb",
   "provenance": []
  },
  "kernelspec": {
   "display_name": "Python 3",
   "language": "python",
   "name": "python3"
  },
  "language_info": {
   "codemirror_mode": {
    "name": "ipython",
    "version": 3
   },
   "file_extension": ".py",
   "mimetype": "text/x-python",
   "name": "python",
   "nbconvert_exporter": "python",
   "pygments_lexer": "ipython3",
   "version": "3.8.3"
  }
 },
 "nbformat": 4,
 "nbformat_minor": 4
}
