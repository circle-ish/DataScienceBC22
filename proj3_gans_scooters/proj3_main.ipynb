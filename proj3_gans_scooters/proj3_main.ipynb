{
 "cells": [
  {
   "cell_type": "markdown",
   "id": "5b19ed98-425b-4b7c-89db-0c6d04849523",
   "metadata": {},
   "source": [
    "# Setup "
   ]
  },
  {
   "cell_type": "markdown",
   "id": "4fbe0fa3-6909-479f-a7e2-78e3c9b01b71",
   "metadata": {},
   "source": [
    "### Importing "
   ]
  },
  {
   "cell_type": "code",
   "execution_count": 22,
   "id": "8811d022-eafc-4108-9741-6312161d337f",
   "metadata": {
    "tags": []
   },
   "outputs": [],
   "source": [
    "# imports functions from the other notebooks\n",
    "import sys, os\n",
    "sys.path.append(os.path.join(os.path.dirname(''), '..'))\n",
    "#sys.path.append(os.path.join(os.path.dirname(''), '../..'))\n",
    "from proj3_gans_scooters.src.scraping import scrape_wiki_cities, scrape_weather, icao_airport_codes, city_airport_distance\n",
    "from proj3_gans_scooters.src.utils import PrivateKeysHandler, MyMySQLConnection, load_or_execute_df"
   ]
  },
  {
   "cell_type": "markdown",
   "id": "c6eb0aa6-7c85-4349-80f5-0fa88b503517",
   "metadata": {},
   "source": [
    "### Load Private Keys"
   ]
  },
  {
   "cell_type": "code",
   "execution_count": 23,
   "id": "f90cdcca-1e4e-4168-8d35-06088ecd5114",
   "metadata": {},
   "outputs": [],
   "source": [
    "# requires a file '.env' at the same level at the main file with :\n",
    "#      [APIs]\n",
    "#      openweather_key = <key1>\n",
    "#      aerodatabox_key = <key2>\n",
    "# where <key> are the keys without quotes or anything\n",
    "\n",
    "relative_path_to_file = '.env_aws'\n",
    "keys = PrivateKeysHandler(relative_path_to_file)\n",
    "api_key_dict = keys.load_keys('APIs')\n",
    "sql_cred_dict = keys.load_keys('SQL')"
   ]
  },
  {
   "cell_type": "markdown",
   "id": "2e069146-6952-44d2-821b-3412b8ec92ba",
   "metadata": {},
   "source": [
    "### Create MySql Connection"
   ]
  },
  {
   "cell_type": "code",
   "execution_count": 24,
   "id": "55f97868-cc22-49cd-b6bc-a2ebd4f8596b",
   "metadata": {
    "tags": []
   },
   "outputs": [],
   "source": [
    "cnx = MyMySQLConnection(sql_cred_dict)"
   ]
  },
  {
   "cell_type": "markdown",
   "id": "508b2236-c639-4763-8153-3a12dc030a9c",
   "metadata": {},
   "source": [
    "# Scraping\n",
    "## CITIES"
   ]
  },
  {
   "cell_type": "code",
   "execution_count": 25,
   "id": "0aa23ede-78bb-48fe-9fd7-db2017a687d9",
   "metadata": {},
   "outputs": [],
   "source": [
    "relative_city_csv = 'cities.csv'\n",
    "cities_df = load_or_execute_df(relative_city_csv, scrape_wiki_cities)"
   ]
  },
  {
   "cell_type": "code",
   "execution_count": 26,
   "id": "0bfe8416-ecfe-45de-8a0c-387a71ef8962",
   "metadata": {},
   "outputs": [
    {
     "name": "stdout",
     "output_type": "stream",
     "text": [
      "<class 'pandas.core.frame.DataFrame'>\n",
      "Int64Index: 94 entries, 0 to 93\n",
      "Data columns (total 6 columns):\n",
      " #   Column              Non-Null Count  Dtype  \n",
      "---  ------              --------------  -----  \n",
      " 0   city                94 non-null     object \n",
      " 1   member_state        94 non-null     object \n",
      " 2   officialpopulation  94 non-null     int64  \n",
      " 3   date                94 non-null     object \n",
      " 4   lat                 94 non-null     float64\n",
      " 5   lon                 94 non-null     float64\n",
      "dtypes: float64(2), int64(1), object(3)\n",
      "memory usage: 5.1+ KB\n"
     ]
    }
   ],
   "source": [
    "cities_df.info()"
   ]
  },
  {
   "cell_type": "markdown",
   "id": "fa42669f-54af-4567-a96f-6cf8d1b688b9",
   "metadata": {},
   "source": [
    "## WEATHER"
   ]
  },
  {
   "cell_type": "code",
   "execution_count": 27,
   "id": "7d29d6fd-8afc-4291-93a5-6562fe059adf",
   "metadata": {},
   "outputs": [],
   "source": [
    "relative_city_csv = 'data/weather.csv'\n",
    "func = scrape_weather\n",
    "args = {'city_lst' : list(cities_df.city),  'openweather_key' : api_key_dict['openweather_key']}\n",
    "weather_df = load_or_execute_df(relative_city_csv, func, args)"
   ]
  },
  {
   "cell_type": "code",
   "execution_count": 28,
   "id": "c3787364-331e-4b14-baa1-992008bb39a2",
   "metadata": {},
   "outputs": [
    {
     "name": "stdout",
     "output_type": "stream",
     "text": [
      "<class 'pandas.core.frame.DataFrame'>\n",
      "Int64Index: 3760 entries, 0 to 3759\n",
      "Data columns (total 13 columns):\n",
      " #   Column                   Non-Null Count  Dtype  \n",
      "---  ------                   --------------  -----  \n",
      " 0   city                     3760 non-null   object \n",
      " 1   date                     3760 non-null   object \n",
      " 2   temp_celcius             3760 non-null   float64\n",
      " 3   temp_feels_like_celcius  3760 non-null   float64\n",
      " 4   humidity_percent         3760 non-null   int64  \n",
      " 5   weather_description      3760 non-null   object \n",
      " 6   visibility               3760 non-null   int64  \n",
      " 7   wind_speed_meter_sec     3760 non-null   float64\n",
      " 8   wind_direction_degree    3760 non-null   int64  \n",
      " 9   wind_gust_meter_sec      3760 non-null   float64\n",
      " 10  pop_percent              3760 non-null   float64\n",
      " 11  rain_3h_mm               3760 non-null   float64\n",
      " 12  pod                      3760 non-null   object \n",
      "dtypes: float64(6), int64(3), object(4)\n",
      "memory usage: 411.2+ KB\n"
     ]
    }
   ],
   "source": [
    "weather_df.info()"
   ]
  },
  {
   "cell_type": "markdown",
   "id": "4d21fdc5-d577-4bf8-b5dd-3dfc3c84a6f6",
   "metadata": {},
   "source": [
    "## AIRPORTS"
   ]
  },
  {
   "cell_type": "code",
   "execution_count": 8,
   "id": "12698a67-6683-4598-91af-b42323c65b73",
   "metadata": {},
   "outputs": [],
   "source": [
    "latitudes = cities_df.lat.tolist()\n",
    "longitudes = cities_df.lon.tolist()\n",
    "cities = cities_df.city.tolist()\n",
    "\n",
    "#for testing purposes\n",
    "latitudes = [latitudes[0]]\n",
    "longitudes = [longitudes[0]]\n",
    "cities = [cities[0]]\n",
    "\n",
    "relative_city_csv = 'data/airports.csv'\n",
    "func = icao_airport_codes\n",
    "args = {'city_val' : cities, 'latitudes' : latitudes, 'longitudes' : longitudes, 'aerodatabox_key' : api_key_dict['aerodatabox_key']}\n",
    "airports_df = load_or_execute_df(relative_city_csv, func, args)"
   ]
  },
  {
   "cell_type": "code",
   "execution_count": 9,
   "id": "5c31423a-de7c-457d-a6e9-7f861d280e6e",
   "metadata": {},
   "outputs": [
    {
     "name": "stdout",
     "output_type": "stream",
     "text": [
      "<class 'pandas.core.frame.DataFrame'>\n",
      "Int64Index: 2 entries, 0 to 1\n",
      "Data columns (total 9 columns):\n",
      " #   Column            Non-Null Count  Dtype  \n",
      "---  ------            --------------  -----  \n",
      " 0   icao              2 non-null      object \n",
      " 1   iata              2 non-null      object \n",
      " 2   name              2 non-null      object \n",
      " 3   shortName         2 non-null      object \n",
      " 4   municipalityName  2 non-null      object \n",
      " 5   countryCode       2 non-null      object \n",
      " 6   location.lat      2 non-null      float64\n",
      " 7   location.lon      2 non-null      float64\n",
      " 8   city              2 non-null      object \n",
      "dtypes: float64(2), object(7)\n",
      "memory usage: 160.0+ bytes\n"
     ]
    }
   ],
   "source": [
    "airports_df.info()"
   ]
  },
  {
   "cell_type": "markdown",
   "id": "38336a34-d4f8-4139-9ae7-2bb15ef1b7a7",
   "metadata": {},
   "source": [
    "## AIRPORT DISTANCES"
   ]
  },
  {
   "cell_type": "code",
   "execution_count": 10,
   "id": "ec198cd8-6165-450a-a909-45a13d80c490",
   "metadata": {},
   "outputs": [],
   "source": [
    "keep_cols = ['city', 'icao', 'name', 'location.lat', 'location.lon']\n",
    "new_cols = ['city', 'icao', 'name', 'lat', 'lon']\n",
    "airports_df = airports_df[keep_cols].rename(columns=dict(zip(keep_cols, new_cols)))\n",
    "airport_distances_df = city_airport_distance(cities_df, airports_df)"
   ]
  },
  {
   "cell_type": "code",
   "execution_count": 11,
   "id": "67af6ac7-1501-44db-983e-af40c991e750",
   "metadata": {},
   "outputs": [
    {
     "data": {
      "text/html": [
       "<div>\n",
       "<style scoped>\n",
       "    .dataframe tbody tr th:only-of-type {\n",
       "        vertical-align: middle;\n",
       "    }\n",
       "\n",
       "    .dataframe tbody tr th {\n",
       "        vertical-align: top;\n",
       "    }\n",
       "\n",
       "    .dataframe thead th {\n",
       "        text-align: right;\n",
       "    }\n",
       "</style>\n",
       "<table border=\"1\" class=\"dataframe\">\n",
       "  <thead>\n",
       "    <tr style=\"text-align: right;\">\n",
       "      <th></th>\n",
       "      <th>city</th>\n",
       "      <th>icao</th>\n",
       "      <th>distance_in_km</th>\n",
       "    </tr>\n",
       "  </thead>\n",
       "  <tbody>\n",
       "    <tr>\n",
       "      <th>0</th>\n",
       "      <td>Berlin</td>\n",
       "      <td>EDDB</td>\n",
       "      <td>17.76</td>\n",
       "    </tr>\n",
       "    <tr>\n",
       "      <th>1</th>\n",
       "      <td>Berlin</td>\n",
       "      <td>EDDT</td>\n",
       "      <td>27.83</td>\n",
       "    </tr>\n",
       "  </tbody>\n",
       "</table>\n",
       "</div>"
      ],
      "text/plain": [
       "     city  icao  distance_in_km\n",
       "0  Berlin  EDDB           17.76\n",
       "1  Berlin  EDDT           27.83"
      ]
     },
     "execution_count": 11,
     "metadata": {},
     "output_type": "execute_result"
    }
   ],
   "source": [
    "airport_distances_df#.info()"
   ]
  },
  {
   "cell_type": "markdown",
   "id": "8a9057f2-29a6-4c1a-b13e-f08730e3104a",
   "metadata": {},
   "source": [
    "## FLIGHTS"
   ]
  },
  {
   "cell_type": "code",
   "execution_count": 30,
   "id": "4198d27b-a34f-4881-8002-ab884c61e634",
   "metadata": {},
   "outputs": [
    {
     "data": {
      "text/plain": [
       "Index(['date', 'temp_celcius', 'temp_feels_like_celcius', 'humidity_percent',\n",
       "       'weather_description', 'visibility', 'wind_speed_meter_sec',\n",
       "       'wind_direction_degree', 'wind_gust_meter_sec', 'pop_percent',\n",
       "       'rain_3h_mm', 'pod'],\n",
       "      dtype='object')"
      ]
     },
     "execution_count": 30,
     "metadata": {},
     "output_type": "execute_result"
    }
   ],
   "source": []
  },
  {
   "cell_type": "markdown",
   "id": "a764c7e3-9e63-4e50-8a0b-48096f5920ad",
   "metadata": {
    "tags": []
   },
   "source": [
    "# Adding to Database"
   ]
  },
  {
   "cell_type": "markdown",
   "id": "ab9e2abc-b877-40d7-a090-40fa047ee1bd",
   "metadata": {},
   "source": [
    "![Database Schema](data/GansScooter.png)"
   ]
  },
  {
   "cell_type": "code",
   "execution_count": 12,
   "id": "21b353b7-0a1a-48fe-984f-6315f3dca591",
   "metadata": {
    "tags": []
   },
   "outputs": [],
   "source": [
    "#cnx.execute('drop database gans_scooters')\n",
    "#del cnx"
   ]
  },
  {
   "cell_type": "code",
   "execution_count": 13,
   "id": "df23e24f-6bc3-40a6-84c6-8c2d67293127",
   "metadata": {
    "tags": []
   },
   "outputs": [],
   "source": [
    "###   CREATE TABLES\n",
    "################################\n",
    "cities_primary = 'city_id'\n",
    "cities_cols = [cities_primary]\n",
    "cities_cols.extend(cities_df.columns)\n",
    "cities_dict = {'cities': (cities_cols, \n",
    "                    [f'int NOT NULL AUTO_INCREMENT, PRIMARY KEY ({cities_primary})', #city_id\n",
    "                    'varchar(255) NOT NULL',       #city \n",
    "                    'varchar(255)',                #member_state\n",
    "                    'int',                         #officialpopulation\n",
    "                    'DATETIME',                    #date\n",
    "                    'DECIMAL(6, 4)',               #lat\n",
    "                    'DECIMAL(6, 4)']) }            #lon\n",
    "\n",
    "cities_foreign_key = f'FOREIGN KEY ({cities_primary}) REFERENCES cities({cities_primary})'\n",
    "weather_cols = [cities_primary]\n",
    "weather_cols.extend(weather_df.columns[1:-1])\n",
    "if 'rain_3h_mm' not in weather_cols:\n",
    "    weather_cols.append('rain_3h_mm')\n",
    "if 'snow_3h_mm' not in weather_cols:\n",
    "    weather_cols.append('snow_3h_mm')\n",
    "weather_dict = {'weather': (weather_cols, \n",
    "                    [f'int NOT NULL, {cities_foreign_key}',#city_id\n",
    "                    'DATETIME NOT NULL',        #date\n",
    "                    'DECIMAL(4, 2)',             #temp_celcius\n",
    "                    'DECIMAL(4, 2)',             #temp_feels_like_celcius                                 \n",
    "                    'INT(3)',                    #humidity_percent                                     \n",
    "                    'varchar(255)',              #weather_description                                       \n",
    "                    'INT(5) DEFAULT 10000',      #visibility     \n",
    "                    'DECIMAL(5, 2)',             #wind_speed_meter_sec                                     \n",
    "                    'INT(3)',                    #wind_direction_degree       \n",
    "                    'DECIMAL(5, 2)',             #wind_gust_meter_sec     \n",
    "                    'DECIMAL(5, 2)',             #pop_percent       \n",
    "                    'DECIMAL(5, 2) DEFAULT 0.00',#rain_3h_mm        \n",
    "                    'DECIMAL(5, 2) DEFAULT 0.00'])} #snow_3h_mm   \n",
    "\n",
    "airports_primary = 'icao'\n",
    "airports_cols = list(airports_df.columns[1:3])\n",
    "airports_dict = {'airports': (airports_cols,\n",
    "                   [f'CHAR(4) NOT NULL, PRIMARY KEY ({airports_primary})', #icao\n",
    "                    'VARCHAR(255)'])}                                      #airport name\n",
    "\n",
    "airports_foreign_key = 'FOREIGN KEY ({}) REFERENCES airports({})'\n",
    "airport_distances_cols = [cities_primary]\n",
    "airport_distances_cols.extend(airport_distances_df.columns[1:])\n",
    "airport_distances_dict = {'airport_distances': (airport_distances_cols,\n",
    "                     [f'int NOT NULL, {cities_foreign_key}',            #city_id\n",
    "                      f'CHAR(4) NOT NULL, {airports_foreign_key}'\n",
    "                          .format(airports_primary,airports_primary),   #icao\n",
    "                      'DECIMAL(5, 2)'])}                                #distance_in_km\n",
    "\n",
    "# flights_cols = list(airports_df.columns[1:3])\n",
    "# flights_dict = {'airport_distances': (airports_cols,\n",
    "#                    [f'CHAR(4) NOT NULL, {airports_foreign_key}'\n",
    "#                           .format('arrival_' + airports_primary,airports_primary), #arrival_icao\n",
    "#                     f'CHAR(4) NOT NULL, {airports_foreign_key}'\n",
    "#                           .format('departure' + airports_primary,airports_primary),  #departure_icao\n",
    "#                     'DATETIME NOT NULL',                                         #scheduled arrival time\n",
    "#                     'DATETIME',                                                  #actual arrival time\n",
    "#                     'VARCHAR(255)'])}                                            # airline_name\n",
    "\n",
    "create_tables_dict = {**cities_dict, **weather_dict, **airports_dict, **airport_distances_dict} #, **flights_dict}\n",
    "cnx.create_tables(create_tables_dict)"
   ]
  },
  {
   "cell_type": "code",
   "execution_count": 14,
   "id": "1da9406e-81c4-4a3e-81f7-857fc7d00815",
   "metadata": {},
   "outputs": [
    {
     "name": "stdout",
     "output_type": "stream",
     "text": [
      "('city_id', 'int', 'NO', 'MUL', None, '')\n",
      "('date', 'datetime', 'NO', '', None, '')\n",
      "('temp_celcius', 'decimal(4,2)', 'YES', '', None, '')\n",
      "('temp_feels_like_celcius', 'decimal(4,2)', 'YES', '', None, '')\n",
      "('humidity_percent', 'int', 'YES', '', None, '')\n",
      "('weather_description', 'varchar(255)', 'YES', '', None, '')\n",
      "('visibility', 'int', 'YES', '', '10000', '')\n",
      "('wind_speed_meter_sec', 'decimal(5,2)', 'YES', '', None, '')\n",
      "('wind_direction_degree', 'int', 'YES', '', None, '')\n",
      "('wind_gust_meter_sec', 'decimal(5,2)', 'YES', '', None, '')\n",
      "('pop_percent', 'decimal(5,2)', 'YES', '', None, '')\n",
      "('rain_3h_mm', 'decimal(5,2)', 'YES', '', '0.00', '')\n",
      "('snow_3h_mm', 'decimal(5,2)', 'YES', '', '0.00', '')\n"
     ]
    }
   ],
   "source": [
    "# check table specifications\n",
    "#tmp = cnx.execute('DESCRIBE cities;')\n",
    "tmp = cnx.execute('DESCRIBE weather;')\n",
    "for i in tmp:\n",
    "    print(i)"
   ]
  },
  {
   "cell_type": "markdown",
   "id": "60597ab8-d23d-4160-b8c0-3a4d764d1059",
   "metadata": {},
   "source": [
    "## Populate Tables"
   ]
  },
  {
   "cell_type": "code",
   "execution_count": 15,
   "id": "e0fbc8e8-39c6-43c2-bdb2-874bea1772db",
   "metadata": {},
   "outputs": [],
   "source": [
    "###   ADD CITY DATA\n",
    "################################\n",
    "###   ADD AIRPORT DATA\n",
    "################################\n",
    "###   ADD FLIGHT DATA\n",
    "################################\n",
    "\n",
    "cnx.add_tables_to_db(\n",
    "            dfs = [cities_df, airports_df.iloc[:,1:3]],      #, flights_df],\n",
    "            tablenames = ['cities', 'airports'], #, 'flights'],\n",
    "            insert_modes = ['append', 'append']  #, 'append']\n",
    ")"
   ]
  },
  {
   "cell_type": "code",
   "execution_count": 16,
   "id": "e9c999d1-ab1d-4e33-bb77-3114dcf44139",
   "metadata": {},
   "outputs": [
    {
     "name": "stdout",
     "output_type": "stream",
     "text": [
      "('EDDB', 'Berlin, Berlin Brandenburg')\n",
      "('EDDT', 'Berlin, Berlin-Tegel')\n"
     ]
    }
   ],
   "source": [
    "# check tables\n",
    "tmp = cnx.execute('SELECT * FROM airports LIMIT 20;')\n",
    "for i in tmp:\n",
    "    print(i)"
   ]
  },
  {
   "cell_type": "code",
   "execution_count": 17,
   "id": "b6483d66-4096-4a36-a0cf-94ca0a305d58",
   "metadata": {},
   "outputs": [],
   "source": [
    "###   ADD WEATHER DATA\n",
    "################################\n",
    "\n",
    "tmp_weather_df = weather_df[['city', 'date', 'temp_celcius', 'temp_feels_like_celcius',\n",
    "       'humidity_percent', 'weather_description',\n",
    "       'wind_speed_meter_sec', 'wind_direction_degree', 'wind_gust_meter_sec',\n",
    "       'pop_percent', 'rain_3h_mm']]\n",
    "\n",
    "cnx.add_to_db_with_foreign_key(\n",
    "            tmp_weather_df,\n",
    "            'weather',\n",
    "            ['cities'], # list of all tables with a foreign key that need to be extracted\n",
    "            [['city_id']], # list of lists: naming the columns to extract for each table\n",
    "            [['city']], # list of lists: naming the columns to merge on for each table; \n",
    "                                 # needs to be the same name in the foreign table and df \n",
    "            'append')"
   ]
  },
  {
   "cell_type": "code",
   "execution_count": 18,
   "id": "c49246cd-3bdf-4963-954d-3b49b774465e",
   "metadata": {},
   "outputs": [
    {
     "name": "stdout",
     "output_type": "stream",
     "text": [
      "(1, datetime.datetime(2022, 6, 10, 15, 0), Decimal('25.34'), Decimal('24.82'), 34, 'clear sky', 10000, Decimal('3.52'), 290, Decimal('4.56'), Decimal('0.00'), Decimal('0.00'), Decimal('0.00'))\n",
      "(1, datetime.datetime(2022, 6, 10, 18, 0), Decimal('24.54'), Decimal('23.99'), 36, 'clear sky', 10000, Decimal('2.82'), 281, Decimal('4.37'), Decimal('0.00'), Decimal('0.00'), Decimal('0.00'))\n",
      "(1, datetime.datetime(2022, 6, 10, 21, 0), Decimal('20.53'), Decimal('20.07'), 55, 'scattered clouds', 10000, Decimal('2.46'), 331, Decimal('5.32'), Decimal('0.00'), Decimal('0.00'), Decimal('0.00'))\n",
      "(1, datetime.datetime(2022, 6, 11, 0, 0), Decimal('17.45'), Decimal('17.03'), 68, 'broken clouds', 10000, Decimal('1.70'), 295, Decimal('2.96'), Decimal('0.00'), Decimal('0.00'), Decimal('0.00'))\n",
      "(1, datetime.datetime(2022, 6, 11, 3, 0), Decimal('15.47'), Decimal('15.03'), 75, 'scattered clouds', 10000, Decimal('1.74'), 243, Decimal('2.96'), Decimal('0.00'), Decimal('0.00'), Decimal('0.00'))\n",
      "(1, datetime.datetime(2022, 6, 11, 6, 0), Decimal('19.15'), Decimal('18.64'), 58, 'scattered clouds', 10000, Decimal('2.24'), 237, Decimal('3.86'), Decimal('0.00'), Decimal('0.00'), Decimal('0.00'))\n",
      "(1, datetime.datetime(2022, 6, 11, 9, 0), Decimal('23.63'), Decimal('23.22'), 45, 'scattered clouds', 10000, Decimal('2.93'), 260, Decimal('4.18'), Decimal('0.00'), Decimal('0.00'), Decimal('0.00'))\n",
      "(1, datetime.datetime(2022, 6, 11, 12, 0), Decimal('25.62'), Decimal('25.28'), 40, 'broken clouds', 10000, Decimal('3.52'), 269, Decimal('5.04'), Decimal('0.00'), Decimal('0.00'), Decimal('0.00'))\n",
      "(1, datetime.datetime(2022, 6, 11, 15, 0), Decimal('24.30'), Decimal('23.96'), 45, 'broken clouds', 10000, Decimal('4.38'), 270, Decimal('6.09'), Decimal('0.00'), Decimal('0.00'), Decimal('0.00'))\n",
      "(1, datetime.datetime(2022, 6, 11, 18, 0), Decimal('22.28'), Decimal('21.90'), 51, 'broken clouds', 10000, Decimal('2.96'), 288, Decimal('6.33'), Decimal('0.00'), Decimal('0.00'), Decimal('0.00'))\n",
      "(1, datetime.datetime(2022, 6, 11, 21, 0), Decimal('20.56'), Decimal('20.08'), 54, 'overcast clouds', 10000, Decimal('2.32'), 295, Decimal('5.66'), Decimal('0.00'), Decimal('0.00'), Decimal('0.00'))\n",
      "(1, datetime.datetime(2022, 6, 12, 0, 0), Decimal('17.53'), Decimal('17.04'), 65, 'broken clouds', 10000, Decimal('1.63'), 330, Decimal('2.61'), Decimal('0.00'), Decimal('0.00'), Decimal('0.00'))\n",
      "(1, datetime.datetime(2022, 6, 12, 3, 0), Decimal('17.34'), Decimal('16.85'), 66, 'overcast clouds', 10000, Decimal('1.76'), 307, Decimal('2.66'), Decimal('0.00'), Decimal('0.00'), Decimal('0.00'))\n",
      "(1, datetime.datetime(2022, 6, 12, 6, 0), Decimal('19.01'), Decimal('18.53'), 60, 'overcast clouds', 10000, Decimal('2.07'), 289, Decimal('2.96'), Decimal('0.00'), Decimal('0.00'), Decimal('0.00'))\n",
      "(1, datetime.datetime(2022, 6, 12, 9, 0), Decimal('23.08'), Decimal('22.64'), 46, 'overcast clouds', 10000, Decimal('2.92'), 288, Decimal('4.13'), Decimal('0.00'), Decimal('0.00'), Decimal('0.00'))\n",
      "(1, datetime.datetime(2022, 6, 12, 12, 0), Decimal('23.28'), Decimal('22.79'), 43, 'overcast clouds', 10000, Decimal('3.63'), 278, Decimal('5.29'), Decimal('0.16'), Decimal('0.00'), Decimal('0.00'))\n",
      "(1, datetime.datetime(2022, 6, 12, 15, 0), Decimal('25.99'), Decimal('25.99'), 26, 'broken clouds', 10000, Decimal('4.30'), 281, Decimal('6.42'), Decimal('0.00'), Decimal('0.00'), Decimal('0.00'))\n",
      "(1, datetime.datetime(2022, 6, 12, 18, 0), Decimal('23.02'), Decimal('22.24'), 33, 'broken clouds', 10000, Decimal('4.12'), 283, Decimal('6.53'), Decimal('0.00'), Decimal('0.00'), Decimal('0.00'))\n",
      "(1, datetime.datetime(2022, 6, 12, 21, 0), Decimal('17.11'), Decimal('16.63'), 67, 'scattered clouds', 10000, Decimal('3.52'), 351, Decimal('7.93'), Decimal('0.00'), Decimal('0.00'), Decimal('0.00'))\n",
      "(1, datetime.datetime(2022, 6, 13, 0, 0), Decimal('15.93'), Decimal('15.43'), 71, 'broken clouds', 10000, Decimal('2.45'), 330, Decimal('4.55'), Decimal('0.00'), Decimal('0.00'), Decimal('0.00'))\n"
     ]
    }
   ],
   "source": [
    "# check weather table data\n",
    "tmp = cnx.execute('SELECT * FROM weather LIMIT 20;')\n",
    "for i in tmp:\n",
    "    print(i)"
   ]
  },
  {
   "cell_type": "code",
   "execution_count": 19,
   "id": "28aa1d46-6fbb-4779-810c-45d11650234d",
   "metadata": {
    "tags": []
   },
   "outputs": [],
   "source": [
    "###   ADD AIRPORT DISTANCES DATA\n",
    "################################\n",
    "\n",
    "cnx.add_to_db_with_foreign_key(\n",
    "            airport_distances_df,\n",
    "            'airport_distances',\n",
    "            ['cities'], # list of all tables with a foreign key that need to be extracted\n",
    "            [['city_id']], # list of lists: naming the columns to extract for each table\n",
    "            [['city']], # list of lists: naming the columns to merge on for each table; \n",
    "                                 # needs to be the same name in the foreign table and df \n",
    "            'append')"
   ]
  },
  {
   "cell_type": "code",
   "execution_count": null,
   "id": "09d39b70-b796-479b-acec-59b2cc96542f",
   "metadata": {},
   "outputs": [],
   "source": []
  }
 ],
 "metadata": {
  "kernelspec": {
   "display_name": "Python 3 (ipykernel)",
   "language": "python",
   "name": "python3"
  },
  "language_info": {
   "codemirror_mode": {
    "name": "ipython",
    "version": 3
   },
   "file_extension": ".py",
   "mimetype": "text/x-python",
   "name": "python",
   "nbconvert_exporter": "python",
   "pygments_lexer": "ipython3",
   "version": "3.8.13"
  }
 },
 "nbformat": 4,
 "nbformat_minor": 5
}
