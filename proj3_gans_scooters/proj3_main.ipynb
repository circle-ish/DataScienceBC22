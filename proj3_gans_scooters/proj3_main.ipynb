{
 "cells": [
  {
   "cell_type": "code",
   "execution_count": 7,
   "id": "3ece6034-85ea-479f-9cb8-277fa695c0e0",
   "metadata": {},
   "outputs": [],
   "source": [
    "# installs notebook importer and imports it\n",
    "# is needed to import functions from other notebooks\n",
    "def install_pip_pkg(required : set):\n",
    "    import sys\n",
    "    import subprocess\n",
    "    import pkg_resources\n",
    "\n",
    "    installed = {pkg.key for pkg in pkg_resources.working_set}\n",
    "    missing = required - installed\n",
    "\n",
    "    if missing:\n",
    "        python = sys.executable\n",
    "        subprocess.check_call([python, '-m', 'pip', 'install', *missing], stdout=subprocess.DEVNULL)\n",
    "\n",
    "#%pip install nbimporter\n",
    "install_pip_pkg({'nbimporter'})\n",
    "import nbimporter"
   ]
  },
  {
   "cell_type": "code",
   "execution_count": 8,
   "id": "8811d022-eafc-4108-9741-6312161d337f",
   "metadata": {},
   "outputs": [],
   "source": [
    "# imports functions from the other notebooks\n",
    "# requires nbimporter\n",
    "import sys, os\n",
    "sys.path.append(os.path.join(os.path.dirname(''), '..'))\n",
    "#sys.path.append(os.path.join(os.path.dirname(''), '../..'))\n",
    "from proj3_gans_scooters.src.proj3_airport_scraping import icao_airport_codes\n",
    "from proj3_gans_scooters.src.proj3_city_scraping import scrap_wiki_cities\n",
    "from proj3_gans_scooters.src.proj3_weather_scraping import scrape_weather\n",
    "from proj3_gans_scooters.src.proj3_utils import load_keys"
   ]
  },
  {
   "cell_type": "code",
   "execution_count": 16,
   "id": "f90cdcca-1e4e-4168-8d35-06088ecd5114",
   "metadata": {},
   "outputs": [],
   "source": [
    "# requires a file '.env' at the same level at the main file with :\n",
    "#      [APIs]\n",
    "#      openweather_key = <key1>\n",
    "#      aerodatabox_key = <key2>\n",
    "# where <key> are the keys without quotes or anything\n",
    "\n",
    "relative_path_to_file = '.env'\n",
    "api_key_dict = load_keys(relative_path_to_file)"
   ]
  },
  {
   "cell_type": "code",
   "execution_count": 10,
   "id": "0aa23ede-78bb-48fe-9fd7-db2017a687d9",
   "metadata": {},
   "outputs": [],
   "source": [
    "cities_df = scrap_wiki_cities()"
   ]
  },
  {
   "cell_type": "code",
   "execution_count": 11,
   "id": "0bfe8416-ecfe-45de-8a0c-387a71ef8962",
   "metadata": {},
   "outputs": [
    {
     "name": "stdout",
     "output_type": "stream",
     "text": [
      "<class 'pandas.core.frame.DataFrame'>\n",
      "RangeIndex: 94 entries, 0 to 93\n",
      "Data columns (total 4 columns):\n",
      " #   Column              Non-Null Count  Dtype \n",
      "---  ------              --------------  ----- \n",
      " 0   city                94 non-null     object\n",
      " 1   member_state        94 non-null     object\n",
      " 2   officialpopulation  94 non-null     object\n",
      " 3   date                94 non-null     object\n",
      "dtypes: object(4)\n",
      "memory usage: 3.1+ KB\n"
     ]
    }
   ],
   "source": [
    "cities_df.info()"
   ]
  },
  {
   "cell_type": "code",
   "execution_count": 12,
   "id": "7d29d6fd-8afc-4291-93a5-6562fe059adf",
   "metadata": {},
   "outputs": [],
   "source": [
    "weather_df = scrape_weather(list(cities_df.city), api_key_dict['openweather_key'])"
   ]
  },
  {
   "cell_type": "code",
   "execution_count": 17,
   "id": "c3787364-331e-4b14-baa1-992008bb39a2",
   "metadata": {},
   "outputs": [
    {
     "name": "stdout",
     "output_type": "stream",
     "text": [
      "<class 'pandas.core.frame.DataFrame'>\n",
      "RangeIndex: 3760 entries, 0 to 3759\n",
      "Data columns (total 13 columns):\n",
      " #   Column                   Non-Null Count  Dtype         \n",
      "---  ------                   --------------  -----         \n",
      " 0   city                     3760 non-null   object        \n",
      " 1   date                     3760 non-null   datetime64[ns]\n",
      " 2   temp_celcius             3760 non-null   float64       \n",
      " 3   temp_feels_like_celcius  3760 non-null   float64       \n",
      " 4   humidity_percent         3760 non-null   int64         \n",
      " 5   weather_description      3760 non-null   object        \n",
      " 6   clouds_percent           3760 non-null   int64         \n",
      " 7   wind_speed_meter_sec     3760 non-null   float64       \n",
      " 8   wind_direction_degree    3760 non-null   int64         \n",
      " 9   wind_gust_meter_sec      3760 non-null   float64       \n",
      " 10  pop_percent              3760 non-null   float64       \n",
      " 11  rain_3h_mm               3280 non-null   float64       \n",
      " 12  pod                      3760 non-null   object        \n",
      "dtypes: datetime64[ns](1), float64(6), int64(3), object(3)\n",
      "memory usage: 382.0+ KB\n"
     ]
    }
   ],
   "source": [
    "weather_df.info()"
   ]
  },
  {
   "cell_type": "code",
   "execution_count": 15,
   "id": "12698a67-6683-4598-91af-b42323c65b73",
   "metadata": {},
   "outputs": [
    {
     "ename": "NameError",
     "evalue": "name 'latitudes' is not defined",
     "output_type": "error",
     "traceback": [
      "\u001b[1;31m---------------------------------------------------------------------------\u001b[0m",
      "\u001b[1;31mNameError\u001b[0m                                 Traceback (most recent call last)",
      "Input \u001b[1;32mIn [15]\u001b[0m, in \u001b[0;36m<cell line: 1>\u001b[1;34m()\u001b[0m\n\u001b[1;32m----> 1\u001b[0m icao_airports_df \u001b[38;5;241m=\u001b[39m icao_airport_codes(\u001b[43mlatitudes\u001b[49m, longitudes, api_key_dict[\u001b[38;5;124m'\u001b[39m\u001b[38;5;124maerodatabox_key\u001b[39m\u001b[38;5;124m'\u001b[39m])\n",
      "\u001b[1;31mNameError\u001b[0m: name 'latitudes' is not defined"
     ]
    }
   ],
   "source": [
    "icao_airports_df = icao_airport_codes(latitudes, longitudes, api_key_dict['aerodatabox_key'])"
   ]
  },
  {
   "cell_type": "code",
   "execution_count": null,
   "id": "6b86da3a-3187-4f81-be4c-9aebf3b8222f",
   "metadata": {},
   "outputs": [],
   "source": []
  }
 ],
 "metadata": {
  "kernelspec": {
   "display_name": "Python 3 (ipykernel)",
   "language": "python",
   "name": "python3"
  },
  "language_info": {
   "codemirror_mode": {
    "name": "ipython",
    "version": 3
   },
   "file_extension": ".py",
   "mimetype": "text/x-python",
   "name": "python",
   "nbconvert_exporter": "python",
   "pygments_lexer": "ipython3",
   "version": "3.8.13"
  }
 },
 "nbformat": 4,
 "nbformat_minor": 5
}
