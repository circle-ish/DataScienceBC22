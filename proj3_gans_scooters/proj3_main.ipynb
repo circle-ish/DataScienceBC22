{
 "cells": [
  {
   "cell_type": "markdown",
   "id": "5b19ed98-425b-4b7c-89db-0c6d04849523",
   "metadata": {},
   "source": [
    "# Setup "
   ]
  },
  {
   "cell_type": "markdown",
   "id": "4fbe0fa3-6909-479f-a7e2-78e3c9b01b71",
   "metadata": {},
   "source": [
    "### Importing "
   ]
  },
  {
   "cell_type": "code",
   "execution_count": 1,
   "id": "8811d022-eafc-4108-9741-6312161d337f",
   "metadata": {
    "tags": []
   },
   "outputs": [],
   "source": [
    "# imports functions from the other notebooks\n",
    "# requires nbimporter\n",
    "import sys, os\n",
    "sys.path.append(os.path.join(os.path.dirname(''), '..'))\n",
    "#sys.path.append(os.path.join(os.path.dirname(''), '../..'))\n",
    "from proj3_gans_scooters.src.scraping import scrape_wiki_cities, scrape_weather, icao_airport_codes\n",
    "from proj3_gans_scooters.src.utils import PrivateKeysHandler, MyMySQLConnection, load_or_execute_df"
   ]
  },
  {
   "cell_type": "markdown",
   "id": "c6eb0aa6-7c85-4349-80f5-0fa88b503517",
   "metadata": {},
   "source": [
    "### Load Private Keys"
   ]
  },
  {
   "cell_type": "code",
   "execution_count": 2,
   "id": "f90cdcca-1e4e-4168-8d35-06088ecd5114",
   "metadata": {},
   "outputs": [],
   "source": [
    "# requires a file '.env' at the same level at the main file with :\n",
    "#      [APIs]\n",
    "#      openweather_key = <key1>\n",
    "#      aerodatabox_key = <key2>\n",
    "# where <key> are the keys without quotes or anything\n",
    "\n",
    "relative_path_to_file = '.env'\n",
    "keys = PrivateKeysHandler(relative_path_to_file)\n",
    "api_key_dict = keys.load_keys('APIs')\n",
    "sql_cred_dict = keys.load_keys('SQL')"
   ]
  },
  {
   "cell_type": "markdown",
   "id": "2e069146-6952-44d2-821b-3412b8ec92ba",
   "metadata": {},
   "source": [
    "### Create MySql Connection"
   ]
  },
  {
   "cell_type": "code",
   "execution_count": 3,
   "id": "55f97868-cc22-49cd-b6bc-a2ebd4f8596b",
   "metadata": {
    "tags": []
   },
   "outputs": [],
   "source": [
    "cnx = MyMySQLConnection(sql_cred_dict)"
   ]
  },
  {
   "cell_type": "markdown",
   "id": "508b2236-c639-4763-8153-3a12dc030a9c",
   "metadata": {},
   "source": [
    "# Scraping\n",
    "* cities\n",
    "* weather\n",
    "* flight data"
   ]
  },
  {
   "cell_type": "code",
   "execution_count": 4,
   "id": "0aa23ede-78bb-48fe-9fd7-db2017a687d9",
   "metadata": {},
   "outputs": [],
   "source": [
    "relative_city_csv = 'cities.csv'\n",
    "cities_df = load_or_execute_df(relative_city_csv, scrape_wiki_cities)"
   ]
  },
  {
   "cell_type": "code",
   "execution_count": 5,
   "id": "0bfe8416-ecfe-45de-8a0c-387a71ef8962",
   "metadata": {},
   "outputs": [
    {
     "name": "stdout",
     "output_type": "stream",
     "text": [
      "<class 'pandas.core.frame.DataFrame'>\n",
      "Int64Index: 94 entries, 0 to 93\n",
      "Data columns (total 6 columns):\n",
      " #   Column              Non-Null Count  Dtype  \n",
      "---  ------              --------------  -----  \n",
      " 0   city                94 non-null     object \n",
      " 1   member_state        94 non-null     object \n",
      " 2   officialpopulation  94 non-null     int64  \n",
      " 3   date                94 non-null     object \n",
      " 4   lat                 94 non-null     float64\n",
      " 5   lon                 94 non-null     float64\n",
      "dtypes: float64(2), int64(1), object(3)\n",
      "memory usage: 5.1+ KB\n"
     ]
    }
   ],
   "source": [
    "cities_df.info()"
   ]
  },
  {
   "cell_type": "code",
   "execution_count": 6,
   "id": "7d29d6fd-8afc-4291-93a5-6562fe059adf",
   "metadata": {},
   "outputs": [],
   "source": [
    "relative_city_csv = 'data/weather.csv'\n",
    "func = scrape_weather\n",
    "args = {'city_lst' : list(cities_df.city),  'openweather_key' : api_key_dict['openweather_key']}\n",
    "weather_df = load_or_execute_df(relative_city_csv, func, args)"
   ]
  },
  {
   "cell_type": "code",
   "execution_count": 7,
   "id": "c3787364-331e-4b14-baa1-992008bb39a2",
   "metadata": {},
   "outputs": [
    {
     "name": "stdout",
     "output_type": "stream",
     "text": [
      "<class 'pandas.core.frame.DataFrame'>\n",
      "Int64Index: 3760 entries, 0 to 3759\n",
      "Data columns (total 13 columns):\n",
      " #   Column                   Non-Null Count  Dtype  \n",
      "---  ------                   --------------  -----  \n",
      " 0   city                     3760 non-null   object \n",
      " 1   date                     3760 non-null   object \n",
      " 2   temp_celcius             3760 non-null   float64\n",
      " 3   temp_feels_like_celcius  3760 non-null   float64\n",
      " 4   humidity_percent         3760 non-null   int64  \n",
      " 5   weather_description      3760 non-null   object \n",
      " 6   visibility               3760 non-null   int64  \n",
      " 7   wind_speed_meter_sec     3760 non-null   float64\n",
      " 8   wind_direction_degree    3760 non-null   int64  \n",
      " 9   wind_gust_meter_sec      3760 non-null   float64\n",
      " 10  pop_percent              3760 non-null   float64\n",
      " 11  rain_3h_mm               3760 non-null   float64\n",
      " 12  pod                      3760 non-null   object \n",
      "dtypes: float64(6), int64(3), object(4)\n",
      "memory usage: 411.2+ KB\n"
     ]
    }
   ],
   "source": [
    "weather_df.info()"
   ]
  },
  {
   "cell_type": "code",
   "execution_count": 8,
   "id": "12698a67-6683-4598-91af-b42323c65b73",
   "metadata": {},
   "outputs": [],
   "source": [
    "latitudes = cities_df.lat.tolist()\n",
    "longitudes = cities_df.lon.tolist()\n",
    "latitudes = [latitudes[0]]\n",
    "longitudes = [longitudes[0]]\n",
    "\n",
    "relative_city_csv = 'data/airports.csv'\n",
    "func = icao_airport_codes\n",
    "args = {'latitudes' : latitudes, 'longitudes' : longitudes, 'aerodatabox_key' : api_key_dict['aerodatabox_key']}\n",
    "icao_airports_df = load_or_execute_df(relative_city_csv, func, args)"
   ]
  },
  {
   "cell_type": "code",
   "execution_count": 11,
   "id": "ec198cd8-6165-450a-a909-45a13d80c490",
   "metadata": {},
   "outputs": [
    {
     "name": "stdout",
     "output_type": "stream",
     "text": [
      "<class 'pandas.core.frame.DataFrame'>\n",
      "RangeIndex: 2 entries, 0 to 1\n",
      "Data columns (total 8 columns):\n",
      " #   Column            Non-Null Count  Dtype  \n",
      "---  ------            --------------  -----  \n",
      " 0   icao              2 non-null      object \n",
      " 1   iata              2 non-null      object \n",
      " 2   name              2 non-null      object \n",
      " 3   shortName         2 non-null      object \n",
      " 4   municipalityName  2 non-null      object \n",
      " 5   countryCode       2 non-null      object \n",
      " 6   location.lat      2 non-null      float64\n",
      " 7   location.lon      2 non-null      float64\n",
      "dtypes: float64(2), object(6)\n",
      "memory usage: 256.0+ bytes\n"
     ]
    }
   ],
   "source": [
    "icao_airports_df.info()"
   ]
  },
  {
   "cell_type": "markdown",
   "id": "a764c7e3-9e63-4e50-8a0b-48096f5920ad",
   "metadata": {},
   "source": [
    "# Adding to Database"
   ]
  },
  {
   "cell_type": "code",
   "execution_count": 110,
   "id": "21b353b7-0a1a-48fe-984f-6315f3dca591",
   "metadata": {
    "tags": []
   },
   "outputs": [],
   "source": [
    "#cnx.execute('drop database gans_scooters')\n",
    "#del cnx"
   ]
  },
  {
   "cell_type": "code",
   "execution_count": 111,
   "id": "df23e24f-6bc3-40a6-84c6-8c2d67293127",
   "metadata": {
    "tags": []
   },
   "outputs": [],
   "source": [
    "###   CREATE TABLES\n",
    "################################\n",
    "cities_primary = 'city_id'\n",
    "cities_cols = [cities_primary]\n",
    "cities_cols.extend(cities_df.columns)\n",
    "\n",
    "weather_cols = [cities_primary]\n",
    "weather_cols.extend(weather_df.columns[1:-1])\n",
    "weather_cols.append('snow_3h_mm')\n",
    "weather_foreign_key = f'FOREIGN KEY ({cities_primary}) REFERENCES cities({cities_primary})'\n",
    "\n",
    "d = {'cities': (cities_cols, [f'int NOT NULL AUTO_INCREMENT, PRIMARY KEY ({cities_primary})', #city_id\n",
    "                              'varchar(255) NOT NULL',       #city \n",
    "                              'varchar(255)',                #member_state\n",
    "                              'int',                         #officialpopulation\n",
    "                              'DATETIME',                    #date\n",
    "                              'DECIMAL(6, 4)',               #lat\n",
    "                              'DECIMAL(6, 4)'])              #lon\n",
    "     'weather': (weather_cols, [f'int NOT NULL, {weather_foreign_key}',#city_id\n",
    "                                'DATETIME NOT NULL',        #date\n",
    "                                'DECIMAL(4, 2)',             #temp_celcius\n",
    "                                'DECIMAL(4, 2)',             #temp_feels_like_celcius                                 \n",
    "                                'INT(3)',                    #humidity_percent                                     \n",
    "                                'varchar(255)',              #weather_description                                       \n",
    "                                'INT(5) DEFAULT 10000',      #visibility     \n",
    "                                'DECIMAL(5, 2)',             #wind_speed_meter_sec                                     \n",
    "                                'INT(3)',                    #wind_direction_degree       \n",
    "                                'DECIMAL(5, 2)',             #wind_gust_meter_sec     \n",
    "                                'DECIMAL(5, 2)',             #pop_percent       \n",
    "                                'DECIMAL(5, 2) DEFAULT 0.00',#rain_3h_mm        \n",
    "                                'DECIMAL(5, 2) DEFAULT 0.00']), #snow_3h_mm   \n",
    "    }\n",
    "\n",
    "cnx.create_tables(d)"
   ]
  },
  {
   "cell_type": "code",
   "execution_count": 118,
   "id": "1da9406e-81c4-4a3e-81f7-857fc7d00815",
   "metadata": {},
   "outputs": [
    {
     "name": "stdout",
     "output_type": "stream",
     "text": [
      "('city_id', 'int', 'NO', 'MUL', None, '')\n",
      "('date', 'datetime', 'NO', '', None, '')\n",
      "('temp_celcius', 'decimal(4,2)', 'YES', '', None, '')\n",
      "('temp_feels_like_celcius', 'decimal(4,2)', 'YES', '', None, '')\n",
      "('humidity_percent', 'int', 'YES', '', None, '')\n",
      "('weather_description', 'varchar(255)', 'YES', '', None, '')\n",
      "('visibility', 'int', 'YES', '', None, '')\n",
      "('wind_speed_meter_sec', 'decimal(5,2)', 'YES', '', None, '')\n",
      "('wind_direction_degree', 'int', 'YES', '', None, '')\n",
      "('wind_gust_meter_sec', 'decimal(5,2)', 'YES', '', None, '')\n",
      "('pop_percent', 'decimal(5,2)', 'YES', '', None, '')\n",
      "('rain_3h_mm', 'decimal(5,2)', 'YES', '', '0.00', '')\n",
      "('snow_3h_mm', 'decimal(5,2)', 'YES', '', '0.00', '')\n"
     ]
    }
   ],
   "source": [
    "# check table specifications\n",
    "#tmp = cnx.execute('DESCRIBE cities;')\n",
    "tmp = cnx.execute('DESCRIBE weather;')\n",
    "for i in tmp:\n",
    "    print(i)"
   ]
  },
  {
   "cell_type": "code",
   "execution_count": 112,
   "id": "e0fbc8e8-39c6-43c2-bdb2-874bea1772db",
   "metadata": {},
   "outputs": [
    {
     "name": "stdout",
     "output_type": "stream",
     "text": [
      "None\n"
     ]
    }
   ],
   "source": [
    "###   ADD CITY DATA\n",
    "################################\n",
    "\n",
    "res = cnx.add_table_to_db(\n",
    "            df = cities_df,\n",
    "            tablename = 'cities',\n",
    "            insert_mode = 'append'\n",
    ")\n",
    "print(res)"
   ]
  },
  {
   "cell_type": "code",
   "execution_count": 113,
   "id": "b6483d66-4096-4a36-a0cf-94ca0a305d58",
   "metadata": {},
   "outputs": [
    {
     "name": "stdout",
     "output_type": "stream",
     "text": [
      "weather ['cities'] [['city_id']] [['city']] [[False]]\n"
     ]
    },
    {
     "name": "stderr",
     "output_type": "stream",
     "text": [
      "C:\\Users\\circl\\AppData\\Local\\Temp\\ipykernel_2144\\1897036019.py:142: SettingWithCopyWarning: \n",
      "A value is trying to be set on a copy of a slice from a DataFrame.\n",
      "Try using .loc[row_indexer,col_indexer] = value instead\n",
      "\n",
      "See the caveats in the documentation: https://pandas.pydata.org/pandas-docs/stable/user_guide/indexing.html#returning-a-view-versus-a-copy\n",
      "  df[foreigncolumns[i][j]] = df.merge(tmp_df, on=matchcolumns[i][j])[foreigncolumns[i][j]]\n"
     ]
    }
   ],
   "source": [
    "###   ADD WEATHER DATA\n",
    "################################\n",
    "\n",
    "tmp_weather_df = weather_df[['city', 'date', 'temp_celcius', 'temp_feels_like_celcius',\n",
    "       'humidity_percent', 'weather_description',\n",
    "       'wind_speed_meter_sec', 'wind_direction_degree', 'wind_gust_meter_sec',\n",
    "       'pop_percent', 'rain_3h_mm']]\n",
    "\n",
    "cnx.add_to_db_with_foreign_key(\n",
    "            tmp_weather_df,\n",
    "            'weather',\n",
    "            ['cities'], # list of all tables with a foreign key that need to be extracted\n",
    "            [['city_id']], # list of lists: naming the columns to extract for each table\n",
    "            [['city']], # list of lists: naming the columns to merge on for each table; \n",
    "                                 # needs to be the same name in the foreign table and df \n",
    "            'append')"
   ]
  },
  {
   "cell_type": "code",
   "execution_count": 117,
   "id": "c49246cd-3bdf-4963-954d-3b49b774465e",
   "metadata": {},
   "outputs": [
    {
     "name": "stdout",
     "output_type": "stream",
     "text": [
      "(1, datetime.datetime(2022, 6, 10, 12, 0), Decimal('21.88'), Decimal('21.30'), 45, 'few clouds', None, Decimal('3.83'), 290, Decimal('5.34'), Decimal('0.00'), Decimal('0.00'), Decimal('0.00'))\n",
      "(1, datetime.datetime(2022, 6, 10, 15, 0), Decimal('23.64'), Decimal('23.03'), 37, 'clear sky', None, Decimal('3.64'), 290, Decimal('4.69'), Decimal('0.00'), Decimal('0.00'), Decimal('0.00'))\n",
      "(1, datetime.datetime(2022, 6, 10, 18, 0), Decimal('23.00'), Decimal('22.35'), 38, 'few clouds', None, Decimal('3.12'), 280, Decimal('4.44'), Decimal('0.00'), Decimal('0.00'), Decimal('0.00'))\n",
      "(1, datetime.datetime(2022, 6, 10, 21, 0), Decimal('18.78'), Decimal('18.28'), 60, 'broken clouds', None, Decimal('2.43'), 309, Decimal('5.13'), Decimal('0.00'), Decimal('0.00'), Decimal('0.00'))\n",
      "(1, datetime.datetime(2022, 6, 11, 0, 0), Decimal('17.98'), Decimal('17.56'), 66, 'broken clouds', None, Decimal('1.56'), 281, Decimal('2.55'), Decimal('0.00'), Decimal('0.00'), Decimal('0.00'))\n",
      "(1, datetime.datetime(2022, 6, 11, 3, 0), Decimal('15.73'), Decimal('15.24'), 72, 'scattered clouds', None, Decimal('1.78'), 254, Decimal('2.99'), Decimal('0.00'), Decimal('0.00'), Decimal('0.00'))\n",
      "(1, datetime.datetime(2022, 6, 11, 6, 0), Decimal('19.37'), Decimal('18.82'), 56, 'scattered clouds', None, Decimal('2.21'), 245, Decimal('3.72'), Decimal('0.00'), Decimal('0.00'), Decimal('0.00'))\n",
      "(1, datetime.datetime(2022, 6, 11, 9, 0), Decimal('24.16'), Decimal('23.75'), 43, 'broken clouds', None, Decimal('2.92'), 261, Decimal('4.11'), Decimal('0.00'), Decimal('0.00'), Decimal('0.00'))\n",
      "(1, datetime.datetime(2022, 6, 11, 12, 0), Decimal('25.23'), Decimal('24.88'), 41, 'broken clouds', None, Decimal('3.32'), 279, Decimal('5.07'), Decimal('0.00'), Decimal('0.00'), Decimal('0.00'))\n",
      "(1, datetime.datetime(2022, 6, 11, 15, 0), Decimal('23.68'), Decimal('23.38'), 49, 'broken clouds', None, Decimal('2.41'), 271, Decimal('5.02'), Decimal('0.00'), Decimal('0.00'), Decimal('0.00'))\n",
      "(1, datetime.datetime(2022, 6, 11, 18, 0), Decimal('21.59'), Decimal('21.19'), 53, 'broken clouds', None, Decimal('2.58'), 328, Decimal('5.97'), Decimal('0.00'), Decimal('0.00'), Decimal('0.00'))\n",
      "(1, datetime.datetime(2022, 6, 11, 21, 0), Decimal('20.42'), Decimal('20.03'), 58, 'broken clouds', None, Decimal('1.64'), 246, Decimal('3.11'), Decimal('0.00'), Decimal('0.00'), Decimal('0.00'))\n",
      "(1, datetime.datetime(2022, 6, 12, 0, 0), Decimal('18.18'), Decimal('17.67'), 62, 'broken clouds', None, Decimal('1.89'), 308, Decimal('3.18'), Decimal('0.00'), Decimal('0.00'), Decimal('0.00'))\n",
      "(1, datetime.datetime(2022, 6, 12, 3, 0), Decimal('16.34'), Decimal('15.81'), 68, 'broken clouds', None, Decimal('1.47'), 294, Decimal('1.84'), Decimal('0.00'), Decimal('0.00'), Decimal('0.00'))\n",
      "(1, datetime.datetime(2022, 6, 12, 6, 0), Decimal('18.73'), Decimal('18.28'), 62, 'broken clouds', None, Decimal('1.84'), 289, Decimal('2.71'), Decimal('0.00'), Decimal('0.00'), Decimal('0.00'))\n",
      "(1, datetime.datetime(2022, 6, 12, 9, 0), Decimal('21.76'), Decimal('21.22'), 47, 'overcast clouds', None, Decimal('2.71'), 284, Decimal('3.85'), Decimal('0.00'), Decimal('0.00'), Decimal('0.00'))\n",
      "(1, datetime.datetime(2022, 6, 12, 12, 0), Decimal('24.87'), Decimal('24.35'), 36, 'broken clouds', None, Decimal('3.38'), 268, Decimal('6.30'), Decimal('0.10'), Decimal('0.00'), Decimal('0.00'))\n",
      "(1, datetime.datetime(2022, 6, 12, 15, 0), Decimal('25.85'), Decimal('25.14'), 25, 'broken clouds', None, Decimal('5.64'), 285, Decimal('7.04'), Decimal('0.00'), Decimal('0.00'), Decimal('0.00'))\n",
      "(1, datetime.datetime(2022, 6, 12, 18, 0), Decimal('22.90'), Decimal('22.11'), 33, 'broken clouds', None, Decimal('4.44'), 289, Decimal('6.67'), Decimal('0.00'), Decimal('0.00'), Decimal('0.00'))\n",
      "(1, datetime.datetime(2022, 6, 12, 21, 0), Decimal('17.87'), Decimal('17.31'), 61, 'broken clouds', None, Decimal('2.53'), 353, Decimal('5.90'), Decimal('0.00'), Decimal('0.00'), Decimal('0.00'))\n"
     ]
    }
   ],
   "source": [
    "# check weather table data\n",
    "tmp = cnx.execute('SELECT * FROM weather LIMIT 20;')\n",
    "for i in tmp:\n",
    "    print(i)"
   ]
  },
  {
   "cell_type": "code",
   "execution_count": 7,
   "id": "28aa1d46-6fbb-4779-810c-45d11650234d",
   "metadata": {
    "tags": []
   },
   "outputs": [],
   "source": [
    "from bs4 import BeautifulSoup\n",
    "import requests\n",
    "\n",
    "#get html code\n",
    "doc_url = 'https://en.wikipedia.org/wiki/List_of_cities_in_the_European_Union_by_population_within_city_limits'\n",
    "response = requests.get(doc_url)\n",
    "if response.status_code != 200:\n",
    "    raise Exception(f'wikipedia returned code {response.status_code} for url = {doc_url}')\n",
    "soup = BeautifulSoup(response.content, 'html.parser')\n",
    "table = soup.select('table.wikitable > tbody > tr')\n",
    "\n",
    "# prettify the names and take only selected ones\n",
    "header = [h.text.strip().replace(' ', '_').lower() for h in table[0].select('th')][1:-2]\n",
    "cities = [[cell.text.strip() for cell in city.select('td')[1:-2]] for city in table[1:]]\n",
    "city_url = 'https://en.wikipedia.org'\n",
    "links = [city_url + city.select('td:nth-child(2) a:first-of-type')[0]['href'] for city in table[1:]]\n",
    "\n",
    "import pandas as pd\n",
    "df = pd.DataFrame(data=cities, columns=header)\n",
    "latitude = []\n",
    "longitude = []\n",
    "for city_url in links:\n",
    "    city_response = requests.get(city_url)\n",
    "    soup = BeautifulSoup(city_response.content, \"html.parser\")\n",
    "    latitude.append(soup.select(\".latitude\")[0].get_text())\n",
    "    longitude.append(soup.select(\".longitude\")[0].get_text())\n",
    "df = df.assign(lat = latitude, lon = longitude)\n"
   ]
  },
  {
   "cell_type": "code",
   "execution_count": 6,
   "id": "88b706e6-95b0-4a53-9f8d-11427f7ce18c",
   "metadata": {},
   "outputs": [
    {
     "ename": "NameError",
     "evalue": "name 'df' is not defined",
     "output_type": "error",
     "traceback": [
      "\u001b[1;31m---------------------------------------------------------------------------\u001b[0m",
      "\u001b[1;31mNameError\u001b[0m                                 Traceback (most recent call last)",
      "Input \u001b[1;32mIn [6]\u001b[0m, in \u001b[0;36m<cell line: 1>\u001b[1;34m()\u001b[0m\n\u001b[1;32m----> 1\u001b[0m \u001b[43mdf\u001b[49m\u001b[38;5;241m.\u001b[39miloc[\u001b[38;5;241m80\u001b[39m:, :]\n",
      "\u001b[1;31mNameError\u001b[0m: name 'df' is not defined"
     ]
    }
   ],
   "source": [
    "df.iloc[80:, :]\n"
   ]
  },
  {
   "cell_type": "code",
   "execution_count": 12,
   "id": "37925e0e-84ff-4def-812e-b4901527810c",
   "metadata": {},
   "outputs": [
    {
     "name": "stderr",
     "output_type": "stream",
     "text": [
      "C:\\Users\\circl\\anaconda3\\lib\\site-packages\\pandas\\core\\indexing.py:2115: FutureWarning: In a future version, the Index constructor will not infer numeric dtypes when passed object-dtype sequences (matching Series behavior)\n",
      "  new_ix = Index(new_ix)\n"
     ]
    }
   ],
   "source": [
    "\n",
    "\n",
    "df.loc[:, 'officialpopulation'] = df['officialpopulation'].str.replace(',', '').astype(int)\n",
    "df.loc[:, 'date'] = pd.to_datetime(df['date'])\n",
    "\n",
    "# since all latitudes gathered are on the north half and not too close to the equator,\n",
    "# we can just remove all non-digits and put a floating point after the second digit.\n",
    "# If we would look at cities all over the world, we should proceed as we do for the longitude\n",
    "df.loc[:,'lat'] = df.lat.str.replace('\\D','', regex=True)\n",
    "df.loc[:,'lat'] = df.lat.str[:2] + '.' + df.lat.str[2:]\n",
    "\n",
    "df.loc[:,'lon'] = df.lon.str.replace('°','.')\n",
    "mask = df.lon.str[-1] == 'W','lon'\n",
    "df.loc[mask] = '-' + df.loc[mask]\n",
    "df.loc[:,'lon'] = df.lon.replace('[EW]|″|′', '', regex=True)\n",
    "df.loc[:,'lat'] = pd.to_numeric(df['lat'])\n",
    "df.loc[:,'lon'] = pd.to_numeric(df['lon'])"
   ]
  },
  {
   "cell_type": "code",
   "execution_count": 13,
   "id": "72b41611-94b8-4327-9f20-8e40ee92c872",
   "metadata": {},
   "outputs": [
    {
     "data": {
      "text/html": [
       "<div>\n",
       "<style scoped>\n",
       "    .dataframe tbody tr th:only-of-type {\n",
       "        vertical-align: middle;\n",
       "    }\n",
       "\n",
       "    .dataframe tbody tr th {\n",
       "        vertical-align: top;\n",
       "    }\n",
       "\n",
       "    .dataframe thead th {\n",
       "        text-align: right;\n",
       "    }\n",
       "</style>\n",
       "<table border=\"1\" class=\"dataframe\">\n",
       "  <thead>\n",
       "    <tr style=\"text-align: right;\">\n",
       "      <th></th>\n",
       "      <th>city</th>\n",
       "      <th>member_state</th>\n",
       "      <th>officialpopulation</th>\n",
       "      <th>date</th>\n",
       "      <th>lat</th>\n",
       "      <th>lon</th>\n",
       "    </tr>\n",
       "  </thead>\n",
       "  <tbody>\n",
       "    <tr>\n",
       "      <th>0</th>\n",
       "      <td>Berlin</td>\n",
       "      <td>Germany</td>\n",
       "      <td>3664088.0</td>\n",
       "      <td>2020-12-31 00:00:00</td>\n",
       "      <td>52°31′12″N</td>\n",
       "      <td>13°24′18″E</td>\n",
       "    </tr>\n",
       "    <tr>\n",
       "      <th>1</th>\n",
       "      <td>Madrid</td>\n",
       "      <td>Spain</td>\n",
       "      <td>3305408.0</td>\n",
       "      <td>2021-01-01 00:00:00</td>\n",
       "      <td>40°25′00″N</td>\n",
       "      <td>--03°42′09″W</td>\n",
       "    </tr>\n",
       "    <tr>\n",
       "      <th>2</th>\n",
       "      <td>Rome</td>\n",
       "      <td>Italy</td>\n",
       "      <td>2770226.0</td>\n",
       "      <td>2021-01-01 00:00:00</td>\n",
       "      <td>41°53′36″N</td>\n",
       "      <td>12°28′58″E</td>\n",
       "    </tr>\n",
       "    <tr>\n",
       "      <th>3</th>\n",
       "      <td>Bucharest</td>\n",
       "      <td>Romania</td>\n",
       "      <td>2161347.0</td>\n",
       "      <td>2021-07-01 00:00:00</td>\n",
       "      <td>44°25′57″N</td>\n",
       "      <td>26°6′14″E</td>\n",
       "    </tr>\n",
       "    <tr>\n",
       "      <th>4</th>\n",
       "      <td>Paris</td>\n",
       "      <td>France</td>\n",
       "      <td>2139907.0</td>\n",
       "      <td>2022-01-01 00:00:00</td>\n",
       "      <td>48°51′24″N</td>\n",
       "      <td>2°21′08″E</td>\n",
       "    </tr>\n",
       "    <tr>\n",
       "      <th>...</th>\n",
       "      <td>...</td>\n",
       "      <td>...</td>\n",
       "      <td>...</td>\n",
       "      <td>...</td>\n",
       "      <td>...</td>\n",
       "      <td>...</td>\n",
       "    </tr>\n",
       "    <tr>\n",
       "      <th>91</th>\n",
       "      <td>Galați</td>\n",
       "      <td>Romania</td>\n",
       "      <td>304957.0</td>\n",
       "      <td>2021-07-01 00:00:00</td>\n",
       "      <td>45°25′24″N</td>\n",
       "      <td>28°2′33″E</td>\n",
       "    </tr>\n",
       "    <tr>\n",
       "      <th>92</th>\n",
       "      <td>Catania</td>\n",
       "      <td>Italy</td>\n",
       "      <td>300356.0</td>\n",
       "      <td>2021-01-01 00:00:00</td>\n",
       "      <td>37°30′0″N</td>\n",
       "      <td>15°5′25″E</td>\n",
       "    </tr>\n",
       "    <tr>\n",
       "      <th>93</th>\n",
       "      <td>Vila Nova de Gaia</td>\n",
       "      <td>Portugal</td>\n",
       "      <td>300018.0</td>\n",
       "      <td>2020-12-31 00:00:00</td>\n",
       "      <td>41°08′N</td>\n",
       "      <td>--8°37′W</td>\n",
       "    </tr>\n",
       "    <tr>\n",
       "      <th>lat</th>\n",
       "      <td>NaN</td>\n",
       "      <td>NaN</td>\n",
       "      <td>NaN</td>\n",
       "      <td>NaN</td>\n",
       "      <td>NaN</td>\n",
       "      <td>NaN</td>\n",
       "    </tr>\n",
       "    <tr>\n",
       "      <th>lon</th>\n",
       "      <td>NaN</td>\n",
       "      <td>NaN</td>\n",
       "      <td>NaN</td>\n",
       "      <td>NaN</td>\n",
       "      <td>NaN</td>\n",
       "      <td>NaN</td>\n",
       "    </tr>\n",
       "  </tbody>\n",
       "</table>\n",
       "<p>96 rows × 6 columns</p>\n",
       "</div>"
      ],
      "text/plain": [
       "                  city member_state  officialpopulation                 date  \\\n",
       "0               Berlin      Germany           3664088.0  2020-12-31 00:00:00   \n",
       "1               Madrid        Spain           3305408.0  2021-01-01 00:00:00   \n",
       "2                 Rome        Italy           2770226.0  2021-01-01 00:00:00   \n",
       "3            Bucharest      Romania           2161347.0  2021-07-01 00:00:00   \n",
       "4                Paris       France           2139907.0  2022-01-01 00:00:00   \n",
       "..                 ...          ...                 ...                  ...   \n",
       "91              Galați      Romania            304957.0  2021-07-01 00:00:00   \n",
       "92             Catania        Italy            300356.0  2021-01-01 00:00:00   \n",
       "93   Vila Nova de Gaia     Portugal            300018.0  2020-12-31 00:00:00   \n",
       "lat                NaN          NaN                 NaN                  NaN   \n",
       "lon                NaN          NaN                 NaN                  NaN   \n",
       "\n",
       "            lat           lon  \n",
       "0    52°31′12″N    13°24′18″E  \n",
       "1    40°25′00″N  --03°42′09″W  \n",
       "2    41°53′36″N    12°28′58″E  \n",
       "3    44°25′57″N     26°6′14″E  \n",
       "4    48°51′24″N     2°21′08″E  \n",
       "..          ...           ...  \n",
       "91   45°25′24″N     28°2′33″E  \n",
       "92    37°30′0″N     15°5′25″E  \n",
       "93      41°08′N      --8°37′W  \n",
       "lat         NaN           NaN  \n",
       "lon         NaN           NaN  \n",
       "\n",
       "[96 rows x 6 columns]"
      ]
     },
     "execution_count": 13,
     "metadata": {},
     "output_type": "execute_result"
    }
   ],
   "source": [
    "df"
   ]
  }
 ],
 "metadata": {
  "kernelspec": {
   "display_name": "Python 3 (ipykernel)",
   "language": "python",
   "name": "python3"
  },
  "language_info": {
   "codemirror_mode": {
    "name": "ipython",
    "version": 3
   },
   "file_extension": ".py",
   "mimetype": "text/x-python",
   "name": "python",
   "nbconvert_exporter": "python",
   "pygments_lexer": "ipython3",
   "version": "3.8.13"
  }
 },
 "nbformat": 4,
 "nbformat_minor": 5
}
