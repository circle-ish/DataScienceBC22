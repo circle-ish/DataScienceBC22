{
 "cells": [
  {
   "cell_type": "markdown",
   "id": "5b19ed98-425b-4b7c-89db-0c6d04849523",
   "metadata": {},
   "source": [
    "# Setup "
   ]
  },
  {
   "cell_type": "markdown",
   "id": "4fbe0fa3-6909-479f-a7e2-78e3c9b01b71",
   "metadata": {},
   "source": [
    "### Importing "
   ]
  },
  {
   "cell_type": "code",
   "execution_count": 1,
   "id": "8811d022-eafc-4108-9741-6312161d337f",
   "metadata": {
    "tags": []
   },
   "outputs": [],
   "source": [
    "from src.scraping import scrape_wiki_cities, scrape_weather, icao_airport_codes, city_airport_distance\n",
    "from src.utils import ConfigHandler, MyMySQLConnection, load_csv_or_execute"
   ]
  },
  {
   "cell_type": "markdown",
   "id": "c6eb0aa6-7c85-4349-80f5-0fa88b503517",
   "metadata": {},
   "source": [
    "### Load Private Keys"
   ]
  },
  {
   "cell_type": "code",
   "execution_count": 2,
   "id": "f90cdcca-1e4e-4168-8d35-06088ecd5114",
   "metadata": {},
   "outputs": [],
   "source": [
    "# requires a file '.env' at the same level at the main file with :\n",
    "#      [APIs]\n",
    "#      openweather_key = <key1>\n",
    "#      aerodatabox_key = <key2>\n",
    "# where <key> are the keys without quotes or anything\n",
    "\n",
    "relative_path_to_file = '.env_aws'\n",
    "keys = ConfigHandler(relative_path_to_file)\n",
    "api_key_dict = keys.load_config('APIs')\n",
    "sql_cred_dict = keys.load_config('SQL')"
   ]
  },
  {
   "cell_type": "markdown",
   "id": "2e069146-6952-44d2-821b-3412b8ec92ba",
   "metadata": {},
   "source": [
    "### Create MySql Connection"
   ]
  },
  {
   "cell_type": "code",
   "execution_count": 3,
   "id": "55f97868-cc22-49cd-b6bc-a2ebd4f8596b",
   "metadata": {
    "tags": []
   },
   "outputs": [],
   "source": [
    "cnx = MyMySQLConnection(sql_cred_dict, 'gans_scooters')"
   ]
  },
  {
   "cell_type": "markdown",
   "id": "508b2236-c639-4763-8153-3a12dc030a9c",
   "metadata": {},
   "source": [
    "# Scraping\n",
    "## CITIES"
   ]
  },
  {
   "cell_type": "code",
   "execution_count": 4,
   "id": "0aa23ede-78bb-48fe-9fd7-db2017a687d9",
   "metadata": {},
   "outputs": [],
   "source": [
    "relative_city_csv = 'data/cities.csv'\n",
    "cities_df = load_csv_or_execute(relative_city_csv, scrape_wiki_cities)"
   ]
  },
  {
   "cell_type": "code",
   "execution_count": 5,
   "id": "0bfe8416-ecfe-45de-8a0c-387a71ef8962",
   "metadata": {},
   "outputs": [
    {
     "name": "stdout",
     "output_type": "stream",
     "text": [
      "<class 'pandas.core.frame.DataFrame'>\n",
      "Int64Index: 94 entries, 0 to 93\n",
      "Data columns (total 6 columns):\n",
      " #   Column              Non-Null Count  Dtype  \n",
      "---  ------              --------------  -----  \n",
      " 0   city                94 non-null     object \n",
      " 1   member_state        94 non-null     object \n",
      " 2   officialpopulation  94 non-null     int64  \n",
      " 3   date                94 non-null     object \n",
      " 4   lat                 94 non-null     float64\n",
      " 5   lon                 94 non-null     float64\n",
      "dtypes: float64(2), int64(1), object(3)\n",
      "memory usage: 5.1+ KB\n"
     ]
    }
   ],
   "source": [
    "cities_df.info()"
   ]
  },
  {
   "cell_type": "markdown",
   "id": "fa42669f-54af-4567-a96f-6cf8d1b688b9",
   "metadata": {},
   "source": [
    "## WEATHER"
   ]
  },
  {
   "cell_type": "code",
   "execution_count": 6,
   "id": "7d29d6fd-8afc-4291-93a5-6562fe059adf",
   "metadata": {},
   "outputs": [],
   "source": [
    "relative_city_csv = 'data/weather.csv'\n",
    "func = scrape_weather\n",
    "args = {'city_lst' : list(cities_df.city),  'openweather_key' : api_key_dict['openweather_key']}\n",
    "weather_df = load_csv_or_execute(relative_city_csv, func, args)"
   ]
  },
  {
   "cell_type": "code",
   "execution_count": 7,
   "id": "c3787364-331e-4b14-baa1-992008bb39a2",
   "metadata": {},
   "outputs": [
    {
     "name": "stdout",
     "output_type": "stream",
     "text": [
      "<class 'pandas.core.frame.DataFrame'>\n",
      "Int64Index: 3760 entries, 0 to 3759\n",
      "Data columns (total 13 columns):\n",
      " #   Column                   Non-Null Count  Dtype  \n",
      "---  ------                   --------------  -----  \n",
      " 0   city                     3760 non-null   object \n",
      " 1   date                     3760 non-null   object \n",
      " 2   temp_celcius             3760 non-null   float64\n",
      " 3   temp_feels_like_celcius  3760 non-null   float64\n",
      " 4   humidity_percent         3760 non-null   int64  \n",
      " 5   weather_description      3760 non-null   object \n",
      " 6   visibility               3760 non-null   int64  \n",
      " 7   wind_speed_meter_sec     3760 non-null   float64\n",
      " 8   wind_direction_degree    3760 non-null   int64  \n",
      " 9   wind_gust_meter_sec      3760 non-null   float64\n",
      " 10  pop_percent              3760 non-null   float64\n",
      " 11  rain_3h_mm               3760 non-null   float64\n",
      " 12  pod                      3760 non-null   object \n",
      "dtypes: float64(6), int64(3), object(4)\n",
      "memory usage: 411.2+ KB\n"
     ]
    }
   ],
   "source": [
    "weather_df.info()"
   ]
  },
  {
   "cell_type": "markdown",
   "id": "4d21fdc5-d577-4bf8-b5dd-3dfc3c84a6f6",
   "metadata": {},
   "source": [
    "## AIRPORTS"
   ]
  },
  {
   "cell_type": "code",
   "execution_count": 22,
   "id": "12698a67-6683-4598-91af-b42323c65b73",
   "metadata": {},
   "outputs": [],
   "source": [
    "latitudes = cities_df.lat.tolist()\n",
    "longitudes = cities_df.lon.tolist()\n",
    "cities = cities_df.city.tolist()\n",
    "\n",
    "relative_city_csv = 'data/airports.csv'\n",
    "func = icao_airport_codes\n",
    "args = {'city_val' : cities, 'latitudes' : latitudes, 'longitudes' : longitudes, 'aerodatabox_key' : api_key_dict['aerodatabox_key']}\n",
    "airports_df = load_csv_or_execute(relative_city_csv, func, args)\n"
   ]
  },
  {
   "cell_type": "code",
   "execution_count": null,
   "id": "5c31423a-de7c-457d-a6e9-7f861d280e6e",
   "metadata": {},
   "outputs": [],
   "source": [
    "airports_df.info()"
   ]
  },
  {
   "cell_type": "markdown",
   "id": "38336a34-d4f8-4139-9ae7-2bb15ef1b7a7",
   "metadata": {},
   "source": [
    "## AIRPORT DISTANCES"
   ]
  },
  {
   "cell_type": "code",
   "execution_count": 23,
   "id": "ec198cd8-6165-450a-a909-45a13d80c490",
   "metadata": {},
   "outputs": [],
   "source": [
    "airport_distances_df = load_csv_or_execute('data/airport_distances.csv', city_airport_distance, {'cities_df' : cities_df, 'airports_df' : airports_df})"
   ]
  },
  {
   "cell_type": "code",
   "execution_count": 24,
   "id": "0e7f647b-9cd4-42ec-8d22-faaa514ba592",
   "metadata": {},
   "outputs": [
    {
     "name": "stdout",
     "output_type": "stream",
     "text": [
      "<class 'pandas.core.frame.DataFrame'>\n",
      "Int64Index: 260 entries, 0 to 259\n",
      "Data columns (total 3 columns):\n",
      " #   Column          Non-Null Count  Dtype  \n",
      "---  ------          --------------  -----  \n",
      " 0   city            260 non-null    object \n",
      " 1   icao            260 non-null    object \n",
      " 2   distance_in_km  260 non-null    float64\n",
      "dtypes: float64(1), object(2)\n",
      "memory usage: 8.1+ KB\n"
     ]
    }
   ],
   "source": [
    "airport_distances_df.info()"
   ]
  },
  {
   "cell_type": "code",
   "execution_count": 25,
   "id": "67af6ac7-1501-44db-983e-af40c991e750",
   "metadata": {},
   "outputs": [
    {
     "data": {
      "text/html": [
       "<div>\n",
       "<style scoped>\n",
       "    .dataframe tbody tr th:only-of-type {\n",
       "        vertical-align: middle;\n",
       "    }\n",
       "\n",
       "    .dataframe tbody tr th {\n",
       "        vertical-align: top;\n",
       "    }\n",
       "\n",
       "    .dataframe thead th {\n",
       "        text-align: right;\n",
       "    }\n",
       "</style>\n",
       "<table border=\"1\" class=\"dataframe\">\n",
       "  <thead>\n",
       "    <tr style=\"text-align: right;\">\n",
       "      <th></th>\n",
       "      <th>city</th>\n",
       "      <th>icao</th>\n",
       "      <th>distance_in_km</th>\n",
       "    </tr>\n",
       "  </thead>\n",
       "  <tbody>\n",
       "    <tr>\n",
       "      <th>0</th>\n",
       "      <td>Berlin</td>\n",
       "      <td>EDDB</td>\n",
       "      <td>17.76</td>\n",
       "    </tr>\n",
       "    <tr>\n",
       "      <th>1</th>\n",
       "      <td>Berlin</td>\n",
       "      <td>EDDT</td>\n",
       "      <td>27.83</td>\n",
       "    </tr>\n",
       "    <tr>\n",
       "      <th>2</th>\n",
       "      <td>Madrid</td>\n",
       "      <td>LEMD</td>\n",
       "      <td>29.75</td>\n",
       "    </tr>\n",
       "    <tr>\n",
       "      <th>3</th>\n",
       "      <td>Rome</td>\n",
       "      <td>LIRF</td>\n",
       "      <td>30.23</td>\n",
       "    </tr>\n",
       "    <tr>\n",
       "      <th>4</th>\n",
       "      <td>Rome</td>\n",
       "      <td>LIRA</td>\n",
       "      <td>39.17</td>\n",
       "    </tr>\n",
       "    <tr>\n",
       "      <th>...</th>\n",
       "      <td>...</td>\n",
       "      <td>...</td>\n",
       "      <td>...</td>\n",
       "    </tr>\n",
       "    <tr>\n",
       "      <th>255</th>\n",
       "      <td>Constanța</td>\n",
       "      <td>LRCK</td>\n",
       "      <td>30.39</td>\n",
       "    </tr>\n",
       "    <tr>\n",
       "      <th>256</th>\n",
       "      <td>Catania</td>\n",
       "      <td>LICC</td>\n",
       "      <td>44.63</td>\n",
       "    </tr>\n",
       "    <tr>\n",
       "      <th>257</th>\n",
       "      <td>Catania</td>\n",
       "      <td>LICR</td>\n",
       "      <td>86.32</td>\n",
       "    </tr>\n",
       "    <tr>\n",
       "      <th>258</th>\n",
       "      <td>Catania</td>\n",
       "      <td>LICB</td>\n",
       "      <td>88.30</td>\n",
       "    </tr>\n",
       "    <tr>\n",
       "      <th>259</th>\n",
       "      <td>Vila Nova de Gaia</td>\n",
       "      <td>LPPR</td>\n",
       "      <td>32.12</td>\n",
       "    </tr>\n",
       "  </tbody>\n",
       "</table>\n",
       "<p>260 rows × 3 columns</p>\n",
       "</div>"
      ],
      "text/plain": [
       "                  city  icao  distance_in_km\n",
       "0               Berlin  EDDB           17.76\n",
       "1               Berlin  EDDT           27.83\n",
       "2               Madrid  LEMD           29.75\n",
       "3                 Rome  LIRF           30.23\n",
       "4                 Rome  LIRA           39.17\n",
       "..                 ...   ...             ...\n",
       "255          Constanța  LRCK           30.39\n",
       "256            Catania  LICC           44.63\n",
       "257            Catania  LICR           86.32\n",
       "258            Catania  LICB           88.30\n",
       "259  Vila Nova de Gaia  LPPR           32.12\n",
       "\n",
       "[260 rows x 3 columns]"
      ]
     },
     "execution_count": 25,
     "metadata": {},
     "output_type": "execute_result"
    }
   ],
   "source": [
    "airport_distances_df#.info()"
   ]
  },
  {
   "cell_type": "markdown",
   "id": "8a9057f2-29a6-4c1a-b13e-f08730e3104a",
   "metadata": {},
   "source": [
    "## FLIGHTS"
   ]
  },
  {
   "cell_type": "raw",
   "id": "4cda191b-4c53-41ef-8265-7527d7b8660c",
   "metadata": {
    "tags": []
   },
   "source": [
    "def flights_scraping_tomorrow(icao_list, aerodatabox_key, list_for_flights_df):\n",
    "    import datetime as dt\n",
    "    from pytz import timezone\n",
    "    import requests\n",
    "    import pandas as pd\n",
    "    \n",
    "    times = [['00:00', '11:59'],['12:00', '23:59']]\n",
    "    querystring = {\"withLeg\":\"true\",\"direction\":\"Arrival\"}\n",
    "    headers = {\n",
    "        \"X-RapidAPI-Key\": aerodatabox_key,\n",
    "        \"X-RapidAPI-Host\": \"aerodatabox.p.rapidapi.com\"\n",
    "    }\n",
    "    \n",
    "    today = dt.datetime.now().astimezone(timezone('Europe/Berlin')).date()\n",
    "    tomorrow = (today + dt.timedelta(days=1)).strftime('%Y-%m-%d') #format YYYY-MM-DD is used in the url for the aerodatabox\n",
    "\n",
    "    for icao in icao_list:\n",
    "        for time in times:\n",
    "            url = f\"https://aerodatabox.p.rapidapi.com/flights/airports/icao/{icao}/{tomorrow}T{time[0]}/{tomorrow}T{time[1]}\"\n",
    "            response = requests.request(\"GET\", url, headers=headers, params=querystring)\n",
    "            if response.status_code != 200:\n",
    "                raise Exception(f'aerodatabox returned code {response.status_code} for url = {url}')\n",
    "            \n",
    "            flights_json = response.json()\n",
    "            for flight in flights_json['arrivals']:\n",
    "                flights_dict = {}\n",
    "                flights_dict['arrival_icao'] = icao\n",
    "                flights_dict['departure_icao'] = flight.get('departure', {}).get('airport', {}).get('icao', None)\n",
    "                flights_dict['arrival_time_local'] = flight.get('arrival', {}).get('scheduledTimeLocal', None)\n",
    "                flights_dict['departure_time_local'] = flight.get('departure', {}).get('scheduledTimeLocal', None)\n",
    "                flights_dict['airline'] = flight.get('airline', {}).get('name', None)\n",
    "                flights_dict['flight_number'] = flight.get('number', None)\n",
    "                flights_dict['data_retrieved_on'] = dt.datetime.now().astimezone(timezone('Europe/Berlin')).date()\n",
    "                list_for_flights_df.append(flights_dict)\n",
    "    flights_df = pd.DataFrame(list_for_flights_df)\n",
    "\n",
    "    mask = flights_df['arrival_time_local'].isna()\n",
    "    flights_df['timezone'] = None\n",
    "    flights_df.loc[~mask,'timezone'] = 'UTC+' + flights_df.loc[~mask, 'arrival_time_local'].str.split('+')[0][1].split(':')[0]\n",
    "    flights_df.loc[~mask, 'arrival_time_local'] = flights_df.loc[~mask, 'arrival_time_local'].str.split('+')[0][0]\n",
    "    cols = ['arrival_icao', 'departure_icao', 'arrival_time_local', 'timezone', 'airline', 'flight_number', 'data_retrieved_on']\n",
    "    flights_df = flights_df[cols]\n",
    "    return flights_df\n",
    "\n",
    "icao_list = airports_df.icao\n",
    "list_for_flights_df_backup = []\n",
    "flights_df = load_csv_or_execute(\n",
    "     'data/flights.csv', \n",
    "     flights_scraping_tomorrow, \n",
    "     {'icao_list' : icao_list, 'aerodatabox_key' : api_key_dict['aerodatabox_key'], 'list_for_flights_df' : list_for_flights_df_backup})"
   ]
  },
  {
   "cell_type": "markdown",
   "id": "a764c7e3-9e63-4e50-8a0b-48096f5920ad",
   "metadata": {
    "tags": []
   },
   "source": [
    "# Adding to Database"
   ]
  },
  {
   "cell_type": "markdown",
   "id": "ab9e2abc-b877-40d7-a090-40fa047ee1bd",
   "metadata": {},
   "source": [
    "![Database Schema](data/GansScooter.png)"
   ]
  },
  {
   "cell_type": "code",
   "execution_count": 31,
   "id": "21b353b7-0a1a-48fe-984f-6315f3dca591",
   "metadata": {
    "tags": []
   },
   "outputs": [],
   "source": [
    "#cnx.execute('drop database gans_scooters')\n",
    "#del cnx"
   ]
  },
  {
   "cell_type": "code",
   "execution_count": 37,
   "id": "df23e24f-6bc3-40a6-84c6-8c2d67293127",
   "metadata": {
    "tags": []
   },
   "outputs": [],
   "source": [
    "###   CREATE TABLES\n",
    "################################\n",
    "cities_primary = 'city_id'\n",
    "cities_cols = [cities_primary]\n",
    "cities_cols.extend(cities_df.columns)\n",
    "cities_dict = {'cities': (cities_cols, \n",
    "                    [f'int NOT NULL AUTO_INCREMENT, PRIMARY KEY ({cities_primary})', #city_id\n",
    "                    'varchar(255) NOT NULL',       #city \n",
    "                    'varchar(255)',                #member_state\n",
    "                    'int',                         #officialpopulation\n",
    "                    'DATETIME',                    #date\n",
    "                    'DECIMAL(6, 4)',               #lat\n",
    "                    'DECIMAL(6, 4)']) }            #lon\n",
    "\n",
    "cities_foreign_key = f'FOREIGN KEY ({cities_primary}) REFERENCES cities({cities_primary})'\n",
    "weather_cols = [cities_primary]\n",
    "weather_cols.extend(weather_df.columns[1:-1])\n",
    "if 'rain_3h_mm' not in weather_cols:\n",
    "    weather_cols.append('rain_3h_mm')\n",
    "if 'snow_3h_mm' not in weather_cols:\n",
    "    weather_cols.append('snow_3h_mm')\n",
    "weather_dict = {'weather': (weather_cols, \n",
    "                    [f'int NOT NULL, {cities_foreign_key}',#city_id\n",
    "                    'DATETIME NOT NULL',        #date\n",
    "                    'DECIMAL(4, 2)',             #temp_celcius\n",
    "                    'DECIMAL(4, 2)',             #temp_feels_like_celcius                                 \n",
    "                    'INT(3)',                    #humidity_percent                                     \n",
    "                    'varchar(255)',              #weather_description                                       \n",
    "                    'INT(5) DEFAULT 10000',      #visibility     \n",
    "                    'DECIMAL(5, 2)',             #wind_speed_meter_sec                                     \n",
    "                    'INT(3)',                    #wind_direction_degree       \n",
    "                    'DECIMAL(5, 2)',             #wind_gust_meter_sec     \n",
    "                    'DECIMAL(5, 2)',             #pop_percent       \n",
    "                    'DECIMAL(5, 2) DEFAULT 0.00',#rain_3h_mm        \n",
    "                    'DECIMAL(5, 2) DEFAULT 0.00'])} #snow_3h_mm   \n",
    "\n",
    "airports_primary = 'icao'\n",
    "airports_cols = list(airports_df.columns[1:3])\n",
    "airports_dict = {'airports': (airports_cols,\n",
    "                   [f'CHAR(4) NOT NULL, PRIMARY KEY ({airports_primary})', #icao\n",
    "                    'VARCHAR(255)'])}                                      #airport name\n",
    "\n",
    "airports_foreign_key = 'FOREIGN KEY ({}) REFERENCES airports({})'\n",
    "airport_distances_cols = [cities_primary]\n",
    "airport_distances_cols.extend(airport_distances_df.columns[1:])\n",
    "airport_distances_dict = {'airport_distances': (airport_distances_cols,\n",
    "                     [f'int NOT NULL, {cities_foreign_key}',            #city_id\n",
    "                      f'CHAR(4) NOT NULL, {airports_foreign_key}'\n",
    "                          .format(airports_primary,airports_primary),   #icao\n",
    "                      'DECIMAL(5, 2)'])}                                #distance_in_km\n",
    "\n",
    "\n",
    "flights_cols = list(flights_df.columns)\n",
    "flights_dict = {'flights': (flights_cols,\n",
    "                   [f'CHAR(4) NOT NULL, {airports_foreign_key}'\n",
    "                          .format('arrival_' + airports_primary,airports_primary), #arrival_icao\n",
    "                    f'CHAR(4) NOT NULL',   #departure_icao : cannot be a primary key because there might be non-european departure airports\n",
    "                    'DATETIME NOT NULL',                                         #arrival_time_local\n",
    "                    'CHAR(6)',                                                  #timezone\n",
    "                    'VARCHAR(100)',                                            # airline_name\n",
    "                    'VARCHAR(100)',                                            # flight_number\n",
    "                    'DATE NOT NULL'                                             # data_retrieved_on\n",
    "                    ])}\n",
    "\n",
    "create_tables_dict = {**cities_dict, **weather_dict, **airports_dict, **airport_distances_dict, **flights_dict}\n",
    "cnx.create_tables(create_tables_dict)"
   ]
  },
  {
   "cell_type": "code",
   "execution_count": 38,
   "id": "1da9406e-81c4-4a3e-81f7-857fc7d00815",
   "metadata": {},
   "outputs": [
    {
     "name": "stdout",
     "output_type": "stream",
     "text": [
      "('city_id', 'int', 'NO', 'MUL', None, '')\n",
      "('date', 'datetime', 'NO', '', None, '')\n",
      "('temp_celcius', 'decimal(4,2)', 'YES', '', None, '')\n",
      "('temp_feels_like_celcius', 'decimal(4,2)', 'YES', '', None, '')\n",
      "('humidity_percent', 'int', 'YES', '', None, '')\n",
      "('weather_description', 'varchar(255)', 'YES', '', None, '')\n",
      "('visibility', 'int', 'YES', '', '10000', '')\n",
      "('wind_speed_meter_sec', 'decimal(5,2)', 'YES', '', None, '')\n",
      "('wind_direction_degree', 'int', 'YES', '', None, '')\n",
      "('wind_gust_meter_sec', 'decimal(5,2)', 'YES', '', None, '')\n",
      "('pop_percent', 'decimal(5,2)', 'YES', '', None, '')\n",
      "('rain_3h_mm', 'decimal(5,2)', 'YES', '', '0.00', '')\n",
      "('snow_3h_mm', 'decimal(5,2)', 'YES', '', '0.00', '')\n"
     ]
    }
   ],
   "source": [
    "# check table specifications\n",
    "#tmp = cnx.execute('DESCRIBE cities;')\n",
    "tmp = cnx.execute('DESCRIBE weather;')\n",
    "for i in tmp:\n",
    "    print(i)"
   ]
  },
  {
   "cell_type": "markdown",
   "id": "60597ab8-d23d-4160-b8c0-3a4d764d1059",
   "metadata": {},
   "source": [
    "## Populate Tables"
   ]
  },
  {
   "cell_type": "code",
   "execution_count": 39,
   "id": "e0fbc8e8-39c6-43c2-bdb2-874bea1772db",
   "metadata": {},
   "outputs": [],
   "source": [
    "###   ADD CITY DATA\n",
    "################################\n",
    "###   ADD AIRPORT DATA\n",
    "################################\n",
    "###   ADD FLIGHT DATA\n",
    "################################\n",
    "\n",
    "cnx.add_tables_to_db(\n",
    "            dfs = [cities_df, airports_df.iloc[:,1:3], flights_df],     \n",
    "            tablenames = ['cities', 'airports', 'flights'], \n",
    "            insert_modes = ['append', 'append', 'append'] \n",
    ")"
   ]
  },
  {
   "cell_type": "code",
   "execution_count": 40,
   "id": "e9c999d1-ab1d-4e33-bb77-3114dcf44139",
   "metadata": {},
   "outputs": [
    {
     "name": "stdout",
     "output_type": "stream",
     "text": [
      "('EBAW', 'Antwerp, Antwerp   (Deurne)')\n",
      "('EBBR', 'Brussels')\n",
      "('EBCI', 'Brussels, Brussels South Charleroi')\n",
      "('EBKT', 'Wevelgem')\n",
      "('EBLG', 'Liège')\n",
      "('EBOS', 'Ostend, Ostend-Bruges')\n",
      "('EDAH', 'Heringsdorf')\n",
      "('EDDB', 'Berlin, Berlin Brandenburg')\n",
      "('EDDC', 'Dresden')\n",
      "('EDDE', 'Erfurt')\n",
      "('EDDF', 'Frankfurt-am-Main')\n",
      "('EDDG', 'Münster, Münster Osnabrück')\n",
      "('EDDH', 'Hamburg')\n",
      "('EDDK', 'Cologne, Cologne Bonn')\n",
      "('EDDL', 'Duesseldorf, Düsseldorf')\n",
      "('EDDM', 'Munich')\n",
      "('EDDN', 'Nuremberg')\n",
      "('EDDP', 'Leipzig, Leipzig Halle')\n",
      "('EDDR', 'Saarbrücken')\n",
      "('EDDS', 'Stuttgart')\n"
     ]
    }
   ],
   "source": [
    "# check tables\n",
    "tmp = cnx.execute('SELECT * FROM airports LIMIT 20;')\n",
    "for i in tmp:\n",
    "    print(i)"
   ]
  },
  {
   "cell_type": "code",
   "execution_count": 41,
   "id": "b6483d66-4096-4a36-a0cf-94ca0a305d58",
   "metadata": {},
   "outputs": [],
   "source": [
    "###   ADD WEATHER DATA\n",
    "################################\n",
    "            \n",
    "from src.utils import intersect_cols\n",
    "\n",
    "keep_cols = ['city', 'date', 'temp_celcius', 'temp_feels_like_celcius',\n",
    "       'humidity_percent', 'weather_description',\n",
    "       'wind_speed_meter_sec', 'wind_direction_degree', 'wind_gust_meter_sec',\n",
    "       'pop_percent', 'rain_3h_mm', 'snow_3h_mm']\n",
    "\n",
    "cnx.add_to_db_with_foreign_key(\n",
    "            df = weather_df[intersect_cols(weather_df.columns, keep_cols)],\n",
    "            tablename = 'weather',\n",
    "            foreigntables = ['cities'], # list of all tables with a foreign key that need to be extracted\n",
    "            foreigncolumns = [['city_id']], # list of lists: naming the columns to extract for each table\n",
    "            matchcolumns = [['city']], # list of lists: naming the columns to merge on for each table; \n",
    "                                 # needs to be the same name in the foreign table and df \n",
    "            insert_mode = 'append',\n",
    "            dropcolumns = [['city']])"
   ]
  },
  {
   "cell_type": "code",
   "execution_count": 42,
   "id": "c49246cd-3bdf-4963-954d-3b49b774465e",
   "metadata": {},
   "outputs": [
    {
     "name": "stdout",
     "output_type": "stream",
     "text": [
      "(1, datetime.datetime(2022, 6, 15, 18, 0), Decimal('25.19'), Decimal('24.70'), 36, 'few clouds', 10000, Decimal('2.90'), 71, Decimal('3.11'), Decimal('0.00'), Decimal('0.00'), Decimal('0.00'))\n",
      "(1, datetime.datetime(2022, 6, 15, 21, 0), Decimal('20.75'), Decimal('20.16'), 49, 'few clouds', 10000, Decimal('3.78'), 93, Decimal('8.92'), Decimal('0.00'), Decimal('0.00'), Decimal('0.00'))\n",
      "(1, datetime.datetime(2022, 6, 16, 0, 0), Decimal('15.84'), Decimal('15.15'), 64, 'scattered clouds', 10000, Decimal('2.66'), 86, Decimal('5.99'), Decimal('0.00'), Decimal('0.00'), Decimal('0.00'))\n",
      "(1, datetime.datetime(2022, 6, 16, 3, 0), Decimal('15.35'), Decimal('14.66'), 66, 'overcast clouds', 10000, Decimal('1.84'), 71, Decimal('2.54'), Decimal('0.00'), Decimal('0.00'), Decimal('0.00'))\n",
      "(1, datetime.datetime(2022, 6, 16, 6, 0), Decimal('17.61'), Decimal('16.97'), 59, 'overcast clouds', 10000, Decimal('2.72'), 8, Decimal('3.27'), Decimal('0.00'), Decimal('0.00'), Decimal('0.00'))\n"
     ]
    }
   ],
   "source": [
    "# check weather table data\n",
    "tmp = cnx.execute('SELECT * FROM weather LIMIT 5;')\n",
    "for i in tmp:\n",
    "    print(i)"
   ]
  },
  {
   "cell_type": "code",
   "execution_count": 43,
   "id": "28aa1d46-6fbb-4779-810c-45d11650234d",
   "metadata": {
    "tags": []
   },
   "outputs": [],
   "source": [
    "###   ADD AIRPORT DISTANCES DATA\n",
    "################################\n",
    "\n",
    "cnx.add_to_db_with_foreign_key(\n",
    "            df = airport_distances_df,\n",
    "            tablename = 'airport_distances',\n",
    "            foreigntables = ['cities'], # list of all tables with a foreign key that need to be extracted\n",
    "            foreigncolumns = [['city_id']], # list of lists: naming the columns to extract for each table\n",
    "            matchcolumns = [['city']], # list of lists: naming the columns to merge on for each table; \n",
    "                                 # needs to be the same name in the foreign table and df \n",
    "            insert_mode = 'append',\n",
    "            dropcolumns = [['city']])"
   ]
  },
  {
   "cell_type": "code",
   "execution_count": 44,
   "id": "ed1b56ea-dbeb-4d15-a4a1-5fbd2f3b9456",
   "metadata": {},
   "outputs": [
    {
     "name": "stdout",
     "output_type": "stream",
     "text": [
      "(1, 'EDDB', Decimal('17.76'))\n",
      "(1, 'EDDT', Decimal('27.83'))\n",
      "(2, 'LEMD', Decimal('29.75'))\n",
      "(3, 'LIRF', Decimal('30.23'))\n",
      "(3, 'LIRA', Decimal('39.17'))\n"
     ]
    }
   ],
   "source": [
    "# check weather table data\n",
    "tmp = cnx.execute('SELECT * FROM airport_distances LIMIT 5;')\n",
    "for i in tmp:\n",
    "    print(i)"
   ]
  }
 ],
 "metadata": {
  "kernelspec": {
   "display_name": "Python 3 (ipykernel)",
   "language": "python",
   "name": "python3"
  },
  "language_info": {
   "codemirror_mode": {
    "name": "ipython",
    "version": 3
   },
   "file_extension": ".py",
   "mimetype": "text/x-python",
   "name": "python",
   "nbconvert_exporter": "python",
   "pygments_lexer": "ipython3",
   "version": "3.8.13"
  }
 },
 "nbformat": 4,
 "nbformat_minor": 5
}
