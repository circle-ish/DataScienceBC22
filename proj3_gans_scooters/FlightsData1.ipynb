{
 "cells": [
  {
   "cell_type": "code",
   "execution_count": 18,
   "id": "5dd67865-3932-4f42-92d6-581023c1531c",
   "metadata": {},
   "outputs": [],
   "source": [
    "import pandas as pd\n",
    "import json\n",
    "import requests"
   ]
  },
  {
   "cell_type": "code",
   "execution_count": 19,
   "id": "189117b9-0c85-46b1-b02b-c1beb6b22f28",
   "metadata": {},
   "outputs": [],
   "source": [
    "def flightdata2(icao):\n",
    "    url = f\"https://aerodatabox.p.rapidapi.com/flights/airports/icao/{icao}/2022-06-10T00:23/2022-06-10T11:00\"\n",
    "\n",
    "    querystring = {\"withLeg\":\"true\",\"direction\":\"Arrival\"}\n",
    "\n",
    "    headers = {\n",
    "        \"X-RapidAPI-Key\": \"5df937210cmsh0828365411a996fp13439ejsn610f737e2e75\",\n",
    "        \"X-RapidAPI-Host\": \"aerodatabox.p.rapidapi.com\"\n",
    "    }\n",
    "    ICAOcode = requests.request(\"GET\", url, headers=headers, params=querystring)\n",
    "    ICAOcodedf=pd.json_normalize(ICAOcode.json())   \n",
    "    flights=pd.json_normalize(ICAOcode.json()['arrivals'])\n",
    "    flights2=flights.drop(flights[flights['isCargo']==True].index,).copy()\n",
    "    flights2=flights2.drop(flights2[flights2['status']=='Arrived'].index,)\n",
    "    flights2=flights2.drop(flights2[flights2['status']=='CanceledUncertain'].index,)\n",
    "    flights2=flights2.drop(flights2[flights2['status']=='Canceled'].index,)\n",
    "    flights2.drop(\n",
    "        ['codeshareStatus',\n",
    "         'callSign',\n",
    "         'departure.airport.iata',\n",
    "         'departure.airport.name',\n",
    "         'departure.scheduledTimeLocal',\n",
    "         'departure.actualTimeLocal',\n",
    "         'departure.scheduledTimeUtc',\n",
    "         'departure.actualTimeUtc',\n",
    "         'departure.terminal',\n",
    "         'departure.checkInDesk',\n",
    "         'departure.gate',\n",
    "         'departure.quality',\n",
    "         'departure.runwayTimeLocal',\n",
    "         'departure.runwayTimeUtc',\n",
    "         'departure.runway',\n",
    "         'arrival.runwayTimeLocal',\n",
    "         'arrival.runwayTimeUtc',\n",
    "         'arrival.runway',\n",
    "         'aircraft.reg',\n",
    "         'aircraft.modeS',\n",
    "         'arrival.actualTimeUtc',\n",
    "         'arrival.scheduledTimeUtc',\n",
    "         'arrival.terminal',\n",
    "         'arrival.baggageBelt', \n",
    "         'arrival.quality',\n",
    "         'aircraft.model',\n",
    "         'status',\n",
    "         'isCargo'\n",
    "        ],axis=1,inplace=True)\n",
    "\n",
    "    flights2.rename(columns = {\n",
    "        'departure.airport.icao':'departure_airport_icao',\n",
    "        'arrival.scheduledTimeLocal':'arrival_scheduledTimeLocal',\n",
    "        'arrival.actualTimeLocal':'arrival_actualTimeLocal',\n",
    "        'arrival.scheduledTimeUtc':'arrival_scheduledTimeUtc',\n",
    "        'arrival.actualTimeUtc':'arrival_actualTimeUtc',\n",
    "        'arrival.terminal':'arrival_terminal',\n",
    "        'arrival.baggageBelt':'arrival_baggageBelt',\n",
    "        'arrival.quality':'arrival_quality', \n",
    "        'aircraft.model':'aircraft_model', \n",
    "        'airline.name':'airline_name'}, \n",
    "                inplace = True)\n",
    "    flights2=flights2.assign(arrival_icao= icao)\n",
    "    return(flights2)"
   ]
  },
  {
   "cell_type": "code",
   "execution_count": null,
   "id": "ecb3de46-48f0-4f77-b6f5-a60d64876325",
   "metadata": {},
   "outputs": [],
   "source": []
  },
  {
   "cell_type": "code",
   "execution_count": 20,
   "id": "6261a3f4-3bf1-4bec-a122-eaca87186a1e",
   "metadata": {},
   "outputs": [
    {
     "ename": "NameError",
     "evalue": "name 'flights2' is not defined",
     "output_type": "error",
     "traceback": [
      "\u001b[0;31m---------------------------------------------------------------------------\u001b[0m",
      "\u001b[0;31mNameError\u001b[0m                                 Traceback (most recent call last)",
      "\u001b[0;32m/var/folders/f3/bn38wqx10x7_r1qpn23rqqdr0000gn/T/ipykernel_86190/1599404835.py\u001b[0m in \u001b[0;36m<module>\u001b[0;34m\u001b[0m\n\u001b[0;32m----> 1\u001b[0;31m \u001b[0mflights2\u001b[0m\u001b[0;34m\u001b[0m\u001b[0;34m\u001b[0m\u001b[0m\n\u001b[0m",
      "\u001b[0;31mNameError\u001b[0m: name 'flights2' is not defined"
     ]
    }
   ],
   "source": [
    "flights2"
   ]
  },
  {
   "cell_type": "code",
   "execution_count": 21,
   "id": "e391f17f-8ab4-4243-94f3-7a45757eaf8e",
   "metadata": {
    "tags": []
   },
   "outputs": [
    {
     "ename": "KeyError",
     "evalue": "'arrivals'",
     "output_type": "error",
     "traceback": [
      "\u001b[0;31m---------------------------------------------------------------------------\u001b[0m",
      "\u001b[0;31mKeyError\u001b[0m                                  Traceback (most recent call last)",
      "\u001b[0;32m/var/folders/f3/bn38wqx10x7_r1qpn23rqqdr0000gn/T/ipykernel_86190/328917622.py\u001b[0m in \u001b[0;36m<module>\u001b[0;34m\u001b[0m\n\u001b[0;32m----> 1\u001b[0;31m \u001b[0mflightdata2\u001b[0m\u001b[0;34m(\u001b[0m\u001b[0;34m'EHAM'\u001b[0m\u001b[0;34m)\u001b[0m\u001b[0;34m\u001b[0m\u001b[0;34m\u001b[0m\u001b[0m\n\u001b[0m",
      "\u001b[0;32m/var/folders/f3/bn38wqx10x7_r1qpn23rqqdr0000gn/T/ipykernel_86190/689470531.py\u001b[0m in \u001b[0;36mflightdata2\u001b[0;34m(icao)\u001b[0m\n\u001b[1;32m     10\u001b[0m     \u001b[0mICAOcode\u001b[0m \u001b[0;34m=\u001b[0m \u001b[0mrequests\u001b[0m\u001b[0;34m.\u001b[0m\u001b[0mrequest\u001b[0m\u001b[0;34m(\u001b[0m\u001b[0;34m\"GET\"\u001b[0m\u001b[0;34m,\u001b[0m \u001b[0murl\u001b[0m\u001b[0;34m,\u001b[0m \u001b[0mheaders\u001b[0m\u001b[0;34m=\u001b[0m\u001b[0mheaders\u001b[0m\u001b[0;34m,\u001b[0m \u001b[0mparams\u001b[0m\u001b[0;34m=\u001b[0m\u001b[0mquerystring\u001b[0m\u001b[0;34m)\u001b[0m\u001b[0;34m\u001b[0m\u001b[0;34m\u001b[0m\u001b[0m\n\u001b[1;32m     11\u001b[0m     \u001b[0mICAOcodedf\u001b[0m\u001b[0;34m=\u001b[0m\u001b[0mpd\u001b[0m\u001b[0;34m.\u001b[0m\u001b[0mjson_normalize\u001b[0m\u001b[0;34m(\u001b[0m\u001b[0mICAOcode\u001b[0m\u001b[0;34m.\u001b[0m\u001b[0mjson\u001b[0m\u001b[0;34m(\u001b[0m\u001b[0;34m)\u001b[0m\u001b[0;34m)\u001b[0m\u001b[0;34m\u001b[0m\u001b[0;34m\u001b[0m\u001b[0m\n\u001b[0;32m---> 12\u001b[0;31m     \u001b[0mflights\u001b[0m\u001b[0;34m=\u001b[0m\u001b[0mpd\u001b[0m\u001b[0;34m.\u001b[0m\u001b[0mjson_normalize\u001b[0m\u001b[0;34m(\u001b[0m\u001b[0mICAOcode\u001b[0m\u001b[0;34m.\u001b[0m\u001b[0mjson\u001b[0m\u001b[0;34m(\u001b[0m\u001b[0;34m)\u001b[0m\u001b[0;34m[\u001b[0m\u001b[0;34m'arrivals'\u001b[0m\u001b[0;34m]\u001b[0m\u001b[0;34m)\u001b[0m\u001b[0;34m\u001b[0m\u001b[0;34m\u001b[0m\u001b[0m\n\u001b[0m\u001b[1;32m     13\u001b[0m     \u001b[0mflights2\u001b[0m\u001b[0;34m=\u001b[0m\u001b[0mflights\u001b[0m\u001b[0;34m.\u001b[0m\u001b[0mdrop\u001b[0m\u001b[0;34m(\u001b[0m\u001b[0mflights\u001b[0m\u001b[0;34m[\u001b[0m\u001b[0mflights\u001b[0m\u001b[0;34m[\u001b[0m\u001b[0;34m'isCargo'\u001b[0m\u001b[0;34m]\u001b[0m\u001b[0;34m==\u001b[0m\u001b[0;32mTrue\u001b[0m\u001b[0;34m]\u001b[0m\u001b[0;34m.\u001b[0m\u001b[0mindex\u001b[0m\u001b[0;34m,\u001b[0m\u001b[0;34m)\u001b[0m\u001b[0;34m.\u001b[0m\u001b[0mcopy\u001b[0m\u001b[0;34m(\u001b[0m\u001b[0;34m)\u001b[0m\u001b[0;34m\u001b[0m\u001b[0;34m\u001b[0m\u001b[0m\n\u001b[1;32m     14\u001b[0m     \u001b[0mflights2\u001b[0m\u001b[0;34m=\u001b[0m\u001b[0mflights2\u001b[0m\u001b[0;34m.\u001b[0m\u001b[0mdrop\u001b[0m\u001b[0;34m(\u001b[0m\u001b[0mflights2\u001b[0m\u001b[0;34m[\u001b[0m\u001b[0mflights2\u001b[0m\u001b[0;34m[\u001b[0m\u001b[0;34m'status'\u001b[0m\u001b[0;34m]\u001b[0m\u001b[0;34m==\u001b[0m\u001b[0;34m'Arrived'\u001b[0m\u001b[0;34m]\u001b[0m\u001b[0;34m.\u001b[0m\u001b[0mindex\u001b[0m\u001b[0;34m,\u001b[0m\u001b[0;34m)\u001b[0m\u001b[0;34m\u001b[0m\u001b[0;34m\u001b[0m\u001b[0m\n",
      "\u001b[0;31mKeyError\u001b[0m: 'arrivals'"
     ]
    }
   ],
   "source": [
    "flightdata2('EHAM')"
   ]
  },
  {
   "cell_type": "code",
   "execution_count": 22,
   "id": "22b6fdce-e4b2-4736-8494-efc001e9d1b9",
   "metadata": {},
   "outputs": [],
   "source": [
    "icao_list=['FRA','CAI']\n",
    "\n",
    "def flightdata3(icao_list):\n",
    "    concat_df=pd.DataFrame()\n",
    "    for i in icao_list:\n",
    "        df = flightdata2(i)\n",
    "        concat_df=pd.concat([df,concat_df],ignore_index=True)\n",
    "    return(concat_df)"
   ]
  },
  {
   "cell_type": "code",
   "execution_count": 15,
   "id": "5a560bb5-2877-4e2c-a4ba-937ff2510a8d",
   "metadata": {},
   "outputs": [
    {
     "ename": "KeyError",
     "evalue": "'arrivals'",
     "output_type": "error",
     "traceback": [
      "\u001b[0;31m---------------------------------------------------------------------------\u001b[0m",
      "\u001b[0;31mKeyError\u001b[0m                                  Traceback (most recent call last)",
      "\u001b[0;32m/var/folders/f3/bn38wqx10x7_r1qpn23rqqdr0000gn/T/ipykernel_86190/3342233859.py\u001b[0m in \u001b[0;36m<module>\u001b[0;34m\u001b[0m\n\u001b[0;32m----> 1\u001b[0;31m \u001b[0mflightdata3\u001b[0m\u001b[0;34m(\u001b[0m\u001b[0micao_list\u001b[0m\u001b[0;34m)\u001b[0m\u001b[0;34m\u001b[0m\u001b[0;34m\u001b[0m\u001b[0m\n\u001b[0m",
      "\u001b[0;32m/var/folders/f3/bn38wqx10x7_r1qpn23rqqdr0000gn/T/ipykernel_86190/1517021510.py\u001b[0m in \u001b[0;36mflightdata3\u001b[0;34m(icao_list)\u001b[0m\n\u001b[1;32m      4\u001b[0m     \u001b[0mconcat_df\u001b[0m\u001b[0;34m=\u001b[0m\u001b[0mpd\u001b[0m\u001b[0;34m.\u001b[0m\u001b[0mDataFrame\u001b[0m\u001b[0;34m(\u001b[0m\u001b[0;34m)\u001b[0m\u001b[0;34m\u001b[0m\u001b[0;34m\u001b[0m\u001b[0m\n\u001b[1;32m      5\u001b[0m     \u001b[0;32mfor\u001b[0m \u001b[0mi\u001b[0m \u001b[0;32min\u001b[0m \u001b[0micao_list\u001b[0m\u001b[0;34m:\u001b[0m\u001b[0;34m\u001b[0m\u001b[0;34m\u001b[0m\u001b[0m\n\u001b[0;32m----> 6\u001b[0;31m         \u001b[0mdf\u001b[0m \u001b[0;34m=\u001b[0m \u001b[0mflightdata2\u001b[0m\u001b[0;34m(\u001b[0m\u001b[0mi\u001b[0m\u001b[0;34m)\u001b[0m\u001b[0;34m\u001b[0m\u001b[0;34m\u001b[0m\u001b[0m\n\u001b[0m\u001b[1;32m      7\u001b[0m         \u001b[0mconcat_df\u001b[0m\u001b[0;34m=\u001b[0m\u001b[0mpd\u001b[0m\u001b[0;34m.\u001b[0m\u001b[0mconcat\u001b[0m\u001b[0;34m(\u001b[0m\u001b[0;34m[\u001b[0m\u001b[0mdf\u001b[0m\u001b[0;34m,\u001b[0m\u001b[0mconcat_df\u001b[0m\u001b[0;34m]\u001b[0m\u001b[0;34m,\u001b[0m\u001b[0mignore_index\u001b[0m\u001b[0;34m=\u001b[0m\u001b[0;32mTrue\u001b[0m\u001b[0;34m)\u001b[0m\u001b[0;34m\u001b[0m\u001b[0;34m\u001b[0m\u001b[0m\n\u001b[1;32m      8\u001b[0m     \u001b[0;32mreturn\u001b[0m\u001b[0;34m(\u001b[0m\u001b[0mconcat_df\u001b[0m\u001b[0;34m)\u001b[0m\u001b[0;34m\u001b[0m\u001b[0;34m\u001b[0m\u001b[0m\n",
      "\u001b[0;32m/var/folders/f3/bn38wqx10x7_r1qpn23rqqdr0000gn/T/ipykernel_86190/689470531.py\u001b[0m in \u001b[0;36mflightdata2\u001b[0;34m(icao)\u001b[0m\n\u001b[1;32m     10\u001b[0m     \u001b[0mICAOcode\u001b[0m \u001b[0;34m=\u001b[0m \u001b[0mrequests\u001b[0m\u001b[0;34m.\u001b[0m\u001b[0mrequest\u001b[0m\u001b[0;34m(\u001b[0m\u001b[0;34m\"GET\"\u001b[0m\u001b[0;34m,\u001b[0m \u001b[0murl\u001b[0m\u001b[0;34m,\u001b[0m \u001b[0mheaders\u001b[0m\u001b[0;34m=\u001b[0m\u001b[0mheaders\u001b[0m\u001b[0;34m,\u001b[0m \u001b[0mparams\u001b[0m\u001b[0;34m=\u001b[0m\u001b[0mquerystring\u001b[0m\u001b[0;34m)\u001b[0m\u001b[0;34m\u001b[0m\u001b[0;34m\u001b[0m\u001b[0m\n\u001b[1;32m     11\u001b[0m     \u001b[0mICAOcodedf\u001b[0m\u001b[0;34m=\u001b[0m\u001b[0mpd\u001b[0m\u001b[0;34m.\u001b[0m\u001b[0mjson_normalize\u001b[0m\u001b[0;34m(\u001b[0m\u001b[0mICAOcode\u001b[0m\u001b[0;34m.\u001b[0m\u001b[0mjson\u001b[0m\u001b[0;34m(\u001b[0m\u001b[0;34m)\u001b[0m\u001b[0;34m)\u001b[0m\u001b[0;34m\u001b[0m\u001b[0;34m\u001b[0m\u001b[0m\n\u001b[0;32m---> 12\u001b[0;31m     \u001b[0mflights\u001b[0m\u001b[0;34m=\u001b[0m\u001b[0mpd\u001b[0m\u001b[0;34m.\u001b[0m\u001b[0mjson_normalize\u001b[0m\u001b[0;34m(\u001b[0m\u001b[0mICAOcode\u001b[0m\u001b[0;34m.\u001b[0m\u001b[0mjson\u001b[0m\u001b[0;34m(\u001b[0m\u001b[0;34m)\u001b[0m\u001b[0;34m[\u001b[0m\u001b[0;34m'arrivals'\u001b[0m\u001b[0;34m]\u001b[0m\u001b[0;34m)\u001b[0m\u001b[0;34m\u001b[0m\u001b[0;34m\u001b[0m\u001b[0m\n\u001b[0m\u001b[1;32m     13\u001b[0m     \u001b[0mflights2\u001b[0m\u001b[0;34m=\u001b[0m\u001b[0mflights\u001b[0m\u001b[0;34m.\u001b[0m\u001b[0mdrop\u001b[0m\u001b[0;34m(\u001b[0m\u001b[0mflights\u001b[0m\u001b[0;34m[\u001b[0m\u001b[0mflights\u001b[0m\u001b[0;34m[\u001b[0m\u001b[0;34m'isCargo'\u001b[0m\u001b[0;34m]\u001b[0m\u001b[0;34m==\u001b[0m\u001b[0;32mTrue\u001b[0m\u001b[0;34m]\u001b[0m\u001b[0;34m.\u001b[0m\u001b[0mindex\u001b[0m\u001b[0;34m,\u001b[0m\u001b[0;34m)\u001b[0m\u001b[0;34m.\u001b[0m\u001b[0mcopy\u001b[0m\u001b[0;34m(\u001b[0m\u001b[0;34m)\u001b[0m\u001b[0;34m\u001b[0m\u001b[0;34m\u001b[0m\u001b[0m\n\u001b[1;32m     14\u001b[0m     \u001b[0mflights2\u001b[0m\u001b[0;34m=\u001b[0m\u001b[0mflights2\u001b[0m\u001b[0;34m.\u001b[0m\u001b[0mdrop\u001b[0m\u001b[0;34m(\u001b[0m\u001b[0mflights2\u001b[0m\u001b[0;34m[\u001b[0m\u001b[0mflights2\u001b[0m\u001b[0;34m[\u001b[0m\u001b[0;34m'status'\u001b[0m\u001b[0;34m]\u001b[0m\u001b[0;34m==\u001b[0m\u001b[0;34m'Arrived'\u001b[0m\u001b[0;34m]\u001b[0m\u001b[0;34m.\u001b[0m\u001b[0mindex\u001b[0m\u001b[0;34m,\u001b[0m\u001b[0;34m)\u001b[0m\u001b[0;34m\u001b[0m\u001b[0;34m\u001b[0m\u001b[0m\n",
      "\u001b[0;31mKeyError\u001b[0m: 'arrivals'"
     ]
    }
   ],
   "source": [
    "flightdata3(icao_list)"
   ]
  },
  {
   "cell_type": "code",
   "execution_count": null,
   "id": "9fb2cb18-c72e-4697-ad35-30270443dad7",
   "metadata": {},
   "outputs": [],
   "source": []
  },
  {
   "cell_type": "code",
   "execution_count": null,
   "id": "df97c8b6-af47-4f3c-bd09-6c3e06757f4e",
   "metadata": {},
   "outputs": [],
   "source": []
  }
 ],
 "metadata": {
  "kernelspec": {
   "display_name": "Python 3 (ipykernel)",
   "language": "python",
   "name": "python3"
  },
  "language_info": {
   "codemirror_mode": {
    "name": "ipython",
    "version": 3
   },
   "file_extension": ".py",
   "mimetype": "text/x-python",
   "name": "python",
   "nbconvert_exporter": "python",
   "pygments_lexer": "ipython3",
   "version": "3.9.7"
  }
 },
 "nbformat": 4,
 "nbformat_minor": 5
}
