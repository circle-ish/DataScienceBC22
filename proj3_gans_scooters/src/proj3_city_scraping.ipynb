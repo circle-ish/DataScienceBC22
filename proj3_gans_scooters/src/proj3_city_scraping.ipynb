{
 "cells": [
  {
   "cell_type": "markdown",
   "id": "9bd682bd-0943-4c3f-91b3-f94489dd8205",
   "metadata": {},
   "source": [
    "### Wikipedia city scraping\n"
   ]
  },
  {
   "cell_type": "code",
   "execution_count": 2,
   "id": "2925f229-df60-45f6-9a5e-998100ea2390",
   "metadata": {},
   "outputs": [],
   "source": [
    "def scrape_wiki_cities() -> DataFrame:\n",
    "    from bs4 import BeautifulSoup\n",
    "    import requests\n",
    "\n",
    "    #get html code\n",
    "    doc_url = 'https://en.wikipedia.org/wiki/List_of_cities_in_the_European_Union_by_population_within_city_limits'\n",
    "    response = requests.get(doc_url)\n",
    "    if response.status_code != 200:\n",
    "        raise Exception(f'wikipedia returned code {response.status_code} for url = {doc_url}')\n",
    "    soup = BeautifulSoup(response.content, 'html.parser')\n",
    "    table = soup.select('table.wikitable > tbody > tr')\n",
    "\n",
    "    # prettify the names and take only selected ones\n",
    "    header = [h.text.strip().replace(' ', '_').lower() for h in table[0].select('th')][1:-2]\n",
    "    cities = [[cell.text.strip() for cell in city.select('td')[1:-2]] for city in table[1:]]\n",
    "\n",
    "    import pandas as pd \n",
    "    return pd.DataFrame(data=cities, columns=header)\n",
    "\n",
    "cities = scrape_wiki_cities()"
   ]
  },
  {
   "cell_type": "code",
   "execution_count": 3,
   "id": "1b17a8e7-f4c8-4709-bd93-f33fd8160f1d",
   "metadata": {},
   "outputs": [
    {
     "name": "stdout",
     "output_type": "stream",
     "text": [
      "<class 'pandas.core.frame.DataFrame'>\n",
      "RangeIndex: 94 entries, 0 to 93\n",
      "Data columns (total 4 columns):\n",
      " #   Column              Non-Null Count  Dtype         \n",
      "---  ------              --------------  -----         \n",
      " 0   city                94 non-null     object        \n",
      " 1   member_state        94 non-null     object        \n",
      " 2   officialpopulation  94 non-null     int32         \n",
      " 3   date                94 non-null     datetime64[ns]\n",
      "dtypes: datetime64[ns](1), int32(1), object(2)\n",
      "memory usage: 2.7+ KB\n"
     ]
    }
   ],
   "source": [
    "from pandas import DataFrame\n",
    "def cleanup_cities(df : DataFrame):\n",
    "    import pandas as pd\n",
    "    df.loc[:, 'officialpopulation'] = df['officialpopulation'].str.replace(',', '').astype(int)\n",
    "    df.loc[:, 'date'] = pd.to_datetime(df['date'])\n",
    "\n",
    "cleanup_cities(cities)\n",
    "cities.info()\n"
   ]
  },
  {
   "cell_type": "code",
   "execution_count": 4,
   "id": "e642ea8d-3c45-465a-8b98-6b47afc2d087",
   "metadata": {
    "tags": []
   },
   "outputs": [
    {
     "data": {
      "text/html": [
       "<div>\n",
       "<style scoped>\n",
       "    .dataframe tbody tr th:only-of-type {\n",
       "        vertical-align: middle;\n",
       "    }\n",
       "\n",
       "    .dataframe tbody tr th {\n",
       "        vertical-align: top;\n",
       "    }\n",
       "\n",
       "    .dataframe thead th {\n",
       "        text-align: right;\n",
       "    }\n",
       "</style>\n",
       "<table border=\"1\" class=\"dataframe\">\n",
       "  <thead>\n",
       "    <tr style=\"text-align: right;\">\n",
       "      <th></th>\n",
       "      <th>officialpopulation</th>\n",
       "    </tr>\n",
       "  </thead>\n",
       "  <tbody>\n",
       "    <tr>\n",
       "      <th>count</th>\n",
       "      <td>9.400000e+01</td>\n",
       "    </tr>\n",
       "    <tr>\n",
       "      <th>mean</th>\n",
       "      <td>7.367501e+05</td>\n",
       "    </tr>\n",
       "    <tr>\n",
       "      <th>std</th>\n",
       "      <td>6.334662e+05</td>\n",
       "    </tr>\n",
       "    <tr>\n",
       "      <th>min</th>\n",
       "      <td>3.000180e+05</td>\n",
       "    </tr>\n",
       "    <tr>\n",
       "      <th>25%</th>\n",
       "      <td>3.533142e+05</td>\n",
       "    </tr>\n",
       "    <tr>\n",
       "      <th>50%</th>\n",
       "      <td>5.436630e+05</td>\n",
       "    </tr>\n",
       "    <tr>\n",
       "      <th>75%</th>\n",
       "      <td>7.441365e+05</td>\n",
       "    </tr>\n",
       "    <tr>\n",
       "      <th>max</th>\n",
       "      <td>3.664088e+06</td>\n",
       "    </tr>\n",
       "  </tbody>\n",
       "</table>\n",
       "</div>"
      ],
      "text/plain": [
       "       officialpopulation\n",
       "count        9.400000e+01\n",
       "mean         7.367501e+05\n",
       "std          6.334662e+05\n",
       "min          3.000180e+05\n",
       "25%          3.533142e+05\n",
       "50%          5.436630e+05\n",
       "75%          7.441365e+05\n",
       "max          3.664088e+06"
      ]
     },
     "execution_count": 4,
     "metadata": {},
     "output_type": "execute_result"
    }
   ],
   "source": [
    "cities.describe()"
   ]
  },
  {
   "cell_type": "code",
   "execution_count": 6,
   "id": "53142b4c-8709-474d-8dc0-133ec28e6909",
   "metadata": {},
   "outputs": [
    {
     "data": {
      "text/plain": [
       "<PandasArray>\n",
       "[           'Berlin',            'Madrid',              'Rome',\n",
       "         'Bucharest',             'Paris',            'Vienna',\n",
       "           'Hamburg',            'Warsaw',          'Budapest',\n",
       "         'Barcelona',            'Munich',             'Milan',\n",
       "             'Sofia',            'Prague',           'Cologne',\n",
       "         'Stockholm',            'Naples',         'Amsterdam',\n",
       "         'Marseille',             'Turin',          'Valencia',\n",
       "            'Kraków',            'Zagreb', 'Frankfurt am Main',\n",
       "           'Seville',          'Zaragoza',              'Łódź',\n",
       "            'Athens',          'Helsinki',         'Rotterdam',\n",
       "           'Wrocław',        'Copenhagen',           'Palermo',\n",
       "         'Stuttgart',        'Düsseldorf',              'Riga',\n",
       "           'Leipzig',          'Dortmund',        'Gothenburg',\n",
       "             'Essen',            'Málaga',            'Bremen',\n",
       "             'Genoa',           'Vilnius',           'Dresden',\n",
       "            'Dublin',         'The Hague',           'Hanover',\n",
       "            'Poznań',           'Antwerp',              'Lyon',\n",
       "         'Nuremberg',            'Lisbon',          'Duisburg',\n",
       "          'Toulouse',        'Bratislava',            'Gdańsk',\n",
       "            'Murcia',           'Tallinn', 'Palma de Mallorca',\n",
       "          'Szczecin',            'Sintra',           'Bologna',\n",
       "              'Iași',              'Brno',        'Las Palmas',\n",
       "          'Florence',            'Bochum',           'Utrecht',\n",
       "         'Wuppertal',            'Aarhus',             'Malmö',\n",
       "            'Bilbao',              'Nice',           'Plovdiv',\n",
       "         'Bydgoszcz',             'Varna',            'Lublin',\n",
       "          'Alicante',         'Bielefeld',              'Bonn',\n",
       "       'Cluj-Napoca',      'Thessaloniki',           'Córdoba',\n",
       "            'Nantes',         'Timișoara',              'Bari',\n",
       "           'Münster',          'Mannheim',         'Karlsruhe',\n",
       "         'Constanța',            'Galați',           'Catania',\n",
       " 'Vila Nova de Gaia']\n",
       "Length: 94, dtype: object"
      ]
     },
     "execution_count": 6,
     "metadata": {},
     "output_type": "execute_result"
    }
   ],
   "source": [
    "cities.city.array\n"
   ]
  },
  {
   "cell_type": "code",
   "execution_count": null,
   "id": "5b3a4915-2fc9-4cff-bf12-ee5884624932",
   "metadata": {},
   "outputs": [],
   "source": []
  }
 ],
 "metadata": {
  "kernelspec": {
   "display_name": "Python 3 (ipykernel)",
   "language": "python",
   "name": "python3"
  },
  "language_info": {
   "codemirror_mode": {
    "name": "ipython",
    "version": 3
   },
   "file_extension": ".py",
   "mimetype": "text/x-python",
   "name": "python",
   "nbconvert_exporter": "python",
   "pygments_lexer": "ipython3",
   "version": "3.8.13"
  }
 },
 "nbformat": 4,
 "nbformat_minor": 5
}
