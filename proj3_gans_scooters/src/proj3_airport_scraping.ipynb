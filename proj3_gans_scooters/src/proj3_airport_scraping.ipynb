{
 "cells": [
  {
   "cell_type": "code",
   "execution_count": null,
   "id": "0aa23ede-78bb-48fe-9fd7-db2017a687d9",
   "metadata": {},
   "outputs": [],
   "source": [
    "def get_icao_args() -> list:\n",
    "    querystring = {\"withFlightInfoOnly\":\"true\"}\n",
    "    headers = {\n",
    "      \"X-RapidAPI-Host\": \"aerodatabox.p.rapidapi.com\",\n",
    "      \"X-RapidAPI-Key\": \"----needs key-----\"\n",
    "    }\n",
    "    return [querystring, headers]\n",
    "\n",
    "from pandas import DataFrame\n",
    "def icao_airport_codes(\n",
    "    latitudes : list, \n",
    "    longitudes : list, \n",
    "    aerodatabox_key : str,\n",
    "    args : list = get_icao_args()) -> DataFrame:\n",
    "    \n",
    "    assert len(latitudes) == len(longitudes)\n",
    "    querystring, headers = args\n",
    "    headers['X-RapidAPI-Key'] = aerodatabox_key\n",
    "    list_for_df = []\n",
    "\n",
    "    for i in range(len(latitudes)):\n",
    "        url = f\"https://aerodatabox.p.rapidapi.com/airports/search/location/{latitudes[i]}/{longitudes[i]}/km/100/16\"\n",
    "        response = requests.request(\"GET\", url, headers=headers, params=querystring)\n",
    "\n",
    "        if response.status_code == 200:\n",
    "            list_for_df.append(pd.json_normalize(response.json()['items']))\n",
    "\n",
    "        df = None\n",
    "        if list_for_df:\n",
    "            df = pd.concat(list_for_df, ignore_index=True)\n",
    "\n",
    "    return df\n",
    "\n",
    "icao_airports = icao_airport_codes(latitudes, longitudes, querystring, headers)"
   ]
  }
 ],
 "metadata": {
  "kernelspec": {
   "display_name": "Python 3 (ipykernel)",
   "language": "python",
   "name": "python3"
  },
  "language_info": {
   "codemirror_mode": {
    "name": "ipython",
    "version": 3
   },
   "file_extension": ".py",
   "mimetype": "text/x-python",
   "name": "python",
   "nbconvert_exporter": "python",
   "pygments_lexer": "ipython3",
   "version": "3.8.13"
  }
 },
 "nbformat": 4,
 "nbformat_minor": 5
}
