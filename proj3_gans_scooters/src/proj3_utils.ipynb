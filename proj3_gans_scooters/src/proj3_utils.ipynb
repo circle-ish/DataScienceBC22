{
 "cells": [
  {
   "cell_type": "code",
   "execution_count": null,
   "id": "0aa23ede-78bb-48fe-9fd7-db2017a687d9",
   "metadata": {},
   "outputs": [],
   "source": [
    "def install_pip_pkg(required : set):\n",
    "    import sys\n",
    "    import subprocess\n",
    "    import pkg_resources\n",
    "\n",
    "    installed = {pkg.key for pkg in pkg_resources.working_set}\n",
    "    missing = required - installed\n",
    "\n",
    "    if missing:\n",
    "        python = sys.executable\n",
    "        subprocess.check_call([python, '-m', 'pip', 'install', *missing], stdout=subprocess.DEVNULL)\n"
   ]
  },
  {
   "cell_type": "code",
   "execution_count": null,
   "id": "2d339687-630c-4b35-a592-be8379459d58",
   "metadata": {},
   "outputs": [],
   "source": [
    "def load_keys(relative_path_to_file) -> dict:\n",
    "    import configparser\n",
    "    import os\n",
    "\n",
    "    configParser = configparser.RawConfigParser()   \n",
    "    configFilePath = os.path.join(os.path.dirname(''), relative_path_to_file) \n",
    "    configParser.read(configFilePath)\n",
    "    \n",
    "    return {'openweather_key' : configParser.get('APIs', 'openweather_key'),\n",
    "            'aerodatabox_key' : configParser.get('APIs', 'aerodatabox_key')}"
   ]
  }
 ],
 "metadata": {
  "kernelspec": {
   "display_name": "Python 3 (ipykernel)",
   "language": "python",
   "name": "python3"
  },
  "language_info": {
   "codemirror_mode": {
    "name": "ipython",
    "version": 3
   },
   "file_extension": ".py",
   "mimetype": "text/x-python",
   "name": "python",
   "nbconvert_exporter": "python",
   "pygments_lexer": "ipython3",
   "version": "3.8.13"
  }
 },
 "nbformat": 4,
 "nbformat_minor": 5
}
